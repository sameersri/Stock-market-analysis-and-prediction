{
 "cells": [
  {
   "cell_type": "code",
   "execution_count": 1,
   "id": "1ce65eee",
   "metadata": {},
   "outputs": [
    {
     "name": "stdout",
     "output_type": "stream",
     "text": [
      "Requirement already satisfied: yfinance in c:\\users\\hp\\anaconda3\\lib\\site-packages (0.2.36)\n",
      "Requirement already satisfied: pandas>=1.3.0 in c:\\users\\hp\\anaconda3\\lib\\site-packages (from yfinance) (2.0.3)\n",
      "Requirement already satisfied: numpy>=1.16.5 in c:\\users\\hp\\appdata\\roaming\\python\\python311\\site-packages (from yfinance) (1.24.3)\n",
      "Requirement already satisfied: requests>=2.31 in c:\\users\\hp\\anaconda3\\lib\\site-packages (from yfinance) (2.31.0)\n",
      "Requirement already satisfied: multitasking>=0.0.7 in c:\\users\\hp\\anaconda3\\lib\\site-packages (from yfinance) (0.0.11)\n",
      "Requirement already satisfied: lxml>=4.9.1 in c:\\users\\hp\\anaconda3\\lib\\site-packages (from yfinance) (4.9.3)\n",
      "Requirement already satisfied: appdirs>=1.4.4 in c:\\users\\hp\\anaconda3\\lib\\site-packages (from yfinance) (1.4.4)\n",
      "Requirement already satisfied: pytz>=2022.5 in c:\\users\\hp\\appdata\\roaming\\python\\python311\\site-packages (from yfinance) (2023.3)\n",
      "Requirement already satisfied: frozendict>=2.3.4 in c:\\users\\hp\\anaconda3\\lib\\site-packages (from yfinance) (2.4.0)\n",
      "Requirement already satisfied: peewee>=3.16.2 in c:\\users\\hp\\anaconda3\\lib\\site-packages (from yfinance) (3.17.0)\n",
      "Requirement already satisfied: beautifulsoup4>=4.11.1 in c:\\users\\hp\\anaconda3\\lib\\site-packages (from yfinance) (4.12.2)\n",
      "Requirement already satisfied: html5lib>=1.1 in c:\\users\\hp\\anaconda3\\lib\\site-packages (from yfinance) (1.1)\n",
      "Requirement already satisfied: soupsieve>1.2 in c:\\users\\hp\\anaconda3\\lib\\site-packages (from beautifulsoup4>=4.11.1->yfinance) (2.4)\n",
      "Requirement already satisfied: six>=1.9 in c:\\users\\hp\\appdata\\roaming\\python\\python311\\site-packages (from html5lib>=1.1->yfinance) (1.16.0)\n",
      "Requirement already satisfied: webencodings in c:\\users\\hp\\anaconda3\\lib\\site-packages (from html5lib>=1.1->yfinance) (0.5.1)\n",
      "Requirement already satisfied: python-dateutil>=2.8.2 in c:\\users\\hp\\appdata\\roaming\\python\\python311\\site-packages (from pandas>=1.3.0->yfinance) (2.8.2)\n",
      "Requirement already satisfied: tzdata>=2022.1 in c:\\users\\hp\\appdata\\roaming\\python\\python311\\site-packages (from pandas>=1.3.0->yfinance) (2023.3)\n",
      "Requirement already satisfied: charset-normalizer<4,>=2 in c:\\users\\hp\\anaconda3\\lib\\site-packages (from requests>=2.31->yfinance) (2.0.4)\n",
      "Requirement already satisfied: idna<4,>=2.5 in c:\\users\\hp\\anaconda3\\lib\\site-packages (from requests>=2.31->yfinance) (3.4)\n",
      "Requirement already satisfied: urllib3<3,>=1.21.1 in c:\\users\\hp\\anaconda3\\lib\\site-packages (from requests>=2.31->yfinance) (1.26.16)\n",
      "Requirement already satisfied: certifi>=2017.4.17 in c:\\users\\hp\\anaconda3\\lib\\site-packages (from requests>=2.31->yfinance) (2023.11.17)\n"
     ]
    },
    {
     "name": "stderr",
     "output_type": "stream",
     "text": [
      "\n",
      "[notice] A new release of pip is available: 23.3.2 -> 24.0\n",
      "[notice] To update, run: python.exe -m pip install --upgrade pip\n"
     ]
    }
   ],
   "source": [
    "!pip install yfinance"
   ]
  },
  {
   "cell_type": "code",
   "execution_count": 1,
   "id": "912c5426",
   "metadata": {},
   "outputs": [
    {
     "name": "stderr",
     "output_type": "stream",
     "text": [
      "C:\\Users\\Hp\\anaconda3\\Lib\\site-packages\\pandas\\core\\arrays\\masked.py:60: UserWarning: Pandas requires version '1.3.6' or newer of 'bottleneck' (version '1.3.5' currently installed).\n",
      "  from pandas.core import (\n"
     ]
    }
   ],
   "source": [
    "import yfinance as yf"
   ]
  },
  {
   "cell_type": "code",
   "execution_count": 2,
   "id": "27e32061",
   "metadata": {
    "scrolled": true
   },
   "outputs": [
    {
     "name": "stderr",
     "output_type": "stream",
     "text": [
      "C:\\Users\\Hp\\anaconda3\\Lib\\site-packages\\yfinance\\utils.py:775: FutureWarning: The 'unit' keyword in TimedeltaIndex construction is deprecated and will be removed in a future version. Use pd.to_timedelta instead.\n",
      "  df.index += _pd.TimedeltaIndex(dst_error_hours, 'h')\n",
      "[*********************100%%**********************]  1 of 1 completed\n"
     ]
    }
   ],
   "source": [
    "start='2017-08-01'\n",
    "end='2024-07-31'\n",
    "stock='AAPL'\n",
    "\n",
    "data=yf.download(stock,start,end)"
   ]
  },
  {
   "cell_type": "code",
   "execution_count": 3,
   "id": "377c1e9a",
   "metadata": {},
   "outputs": [
    {
     "data": {
      "text/html": [
       "<div>\n",
       "<style scoped>\n",
       "    .dataframe tbody tr th:only-of-type {\n",
       "        vertical-align: middle;\n",
       "    }\n",
       "\n",
       "    .dataframe tbody tr th {\n",
       "        vertical-align: top;\n",
       "    }\n",
       "\n",
       "    .dataframe thead th {\n",
       "        text-align: right;\n",
       "    }\n",
       "</style>\n",
       "<table border=\"1\" class=\"dataframe\">\n",
       "  <thead>\n",
       "    <tr style=\"text-align: right;\">\n",
       "      <th></th>\n",
       "      <th>Open</th>\n",
       "      <th>High</th>\n",
       "      <th>Low</th>\n",
       "      <th>Close</th>\n",
       "      <th>Adj Close</th>\n",
       "      <th>Volume</th>\n",
       "    </tr>\n",
       "    <tr>\n",
       "      <th>Date</th>\n",
       "      <th></th>\n",
       "      <th></th>\n",
       "      <th></th>\n",
       "      <th></th>\n",
       "      <th></th>\n",
       "      <th></th>\n",
       "    </tr>\n",
       "  </thead>\n",
       "  <tbody>\n",
       "    <tr>\n",
       "      <th>2017-08-01</th>\n",
       "      <td>37.275002</td>\n",
       "      <td>37.555000</td>\n",
       "      <td>37.102501</td>\n",
       "      <td>37.512501</td>\n",
       "      <td>35.114544</td>\n",
       "      <td>141474400</td>\n",
       "    </tr>\n",
       "    <tr>\n",
       "      <th>2017-08-02</th>\n",
       "      <td>39.820000</td>\n",
       "      <td>39.937500</td>\n",
       "      <td>39.040001</td>\n",
       "      <td>39.285000</td>\n",
       "      <td>36.773724</td>\n",
       "      <td>279747200</td>\n",
       "    </tr>\n",
       "    <tr>\n",
       "      <th>2017-08-03</th>\n",
       "      <td>39.262501</td>\n",
       "      <td>39.302502</td>\n",
       "      <td>38.755001</td>\n",
       "      <td>38.892502</td>\n",
       "      <td>36.406326</td>\n",
       "      <td>108389200</td>\n",
       "    </tr>\n",
       "    <tr>\n",
       "      <th>2017-08-04</th>\n",
       "      <td>39.017502</td>\n",
       "      <td>39.349998</td>\n",
       "      <td>38.922501</td>\n",
       "      <td>39.097500</td>\n",
       "      <td>36.598217</td>\n",
       "      <td>82239600</td>\n",
       "    </tr>\n",
       "    <tr>\n",
       "      <th>2017-08-07</th>\n",
       "      <td>39.264999</td>\n",
       "      <td>39.730000</td>\n",
       "      <td>39.167500</td>\n",
       "      <td>39.702499</td>\n",
       "      <td>37.164536</td>\n",
       "      <td>87481200</td>\n",
       "    </tr>\n",
       "    <tr>\n",
       "      <th>...</th>\n",
       "      <td>...</td>\n",
       "      <td>...</td>\n",
       "      <td>...</td>\n",
       "      <td>...</td>\n",
       "      <td>...</td>\n",
       "      <td>...</td>\n",
       "    </tr>\n",
       "    <tr>\n",
       "      <th>2024-07-24</th>\n",
       "      <td>224.000000</td>\n",
       "      <td>224.800003</td>\n",
       "      <td>217.130005</td>\n",
       "      <td>218.539993</td>\n",
       "      <td>218.539993</td>\n",
       "      <td>61777600</td>\n",
       "    </tr>\n",
       "    <tr>\n",
       "      <th>2024-07-25</th>\n",
       "      <td>218.929993</td>\n",
       "      <td>220.850006</td>\n",
       "      <td>214.619995</td>\n",
       "      <td>217.490005</td>\n",
       "      <td>217.490005</td>\n",
       "      <td>51391200</td>\n",
       "    </tr>\n",
       "    <tr>\n",
       "      <th>2024-07-26</th>\n",
       "      <td>218.699997</td>\n",
       "      <td>219.490005</td>\n",
       "      <td>216.009995</td>\n",
       "      <td>217.960007</td>\n",
       "      <td>217.960007</td>\n",
       "      <td>41601300</td>\n",
       "    </tr>\n",
       "    <tr>\n",
       "      <th>2024-07-29</th>\n",
       "      <td>216.960007</td>\n",
       "      <td>219.300003</td>\n",
       "      <td>215.750000</td>\n",
       "      <td>218.240005</td>\n",
       "      <td>218.240005</td>\n",
       "      <td>36311800</td>\n",
       "    </tr>\n",
       "    <tr>\n",
       "      <th>2024-07-30</th>\n",
       "      <td>219.190002</td>\n",
       "      <td>220.330002</td>\n",
       "      <td>216.119995</td>\n",
       "      <td>218.800003</td>\n",
       "      <td>218.800003</td>\n",
       "      <td>41643800</td>\n",
       "    </tr>\n",
       "  </tbody>\n",
       "</table>\n",
       "<p>1760 rows × 6 columns</p>\n",
       "</div>"
      ],
      "text/plain": [
       "                  Open        High         Low       Close   Adj Close  \\\n",
       "Date                                                                     \n",
       "2017-08-01   37.275002   37.555000   37.102501   37.512501   35.114544   \n",
       "2017-08-02   39.820000   39.937500   39.040001   39.285000   36.773724   \n",
       "2017-08-03   39.262501   39.302502   38.755001   38.892502   36.406326   \n",
       "2017-08-04   39.017502   39.349998   38.922501   39.097500   36.598217   \n",
       "2017-08-07   39.264999   39.730000   39.167500   39.702499   37.164536   \n",
       "...                ...         ...         ...         ...         ...   \n",
       "2024-07-24  224.000000  224.800003  217.130005  218.539993  218.539993   \n",
       "2024-07-25  218.929993  220.850006  214.619995  217.490005  217.490005   \n",
       "2024-07-26  218.699997  219.490005  216.009995  217.960007  217.960007   \n",
       "2024-07-29  216.960007  219.300003  215.750000  218.240005  218.240005   \n",
       "2024-07-30  219.190002  220.330002  216.119995  218.800003  218.800003   \n",
       "\n",
       "               Volume  \n",
       "Date                   \n",
       "2017-08-01  141474400  \n",
       "2017-08-02  279747200  \n",
       "2017-08-03  108389200  \n",
       "2017-08-04   82239600  \n",
       "2017-08-07   87481200  \n",
       "...               ...  \n",
       "2024-07-24   61777600  \n",
       "2024-07-25   51391200  \n",
       "2024-07-26   41601300  \n",
       "2024-07-29   36311800  \n",
       "2024-07-30   41643800  \n",
       "\n",
       "[1760 rows x 6 columns]"
      ]
     },
     "execution_count": 3,
     "metadata": {},
     "output_type": "execute_result"
    }
   ],
   "source": [
    "data"
   ]
  },
  {
   "cell_type": "code",
   "execution_count": 4,
   "id": "43a0f81a",
   "metadata": {},
   "outputs": [],
   "source": [
    "df1=data.reset_index()['High']"
   ]
  },
  {
   "cell_type": "code",
   "execution_count": 5,
   "id": "b40450eb",
   "metadata": {},
   "outputs": [
    {
     "data": {
      "text/plain": [
       "(1760,)"
      ]
     },
     "execution_count": 5,
     "metadata": {},
     "output_type": "execute_result"
    }
   ],
   "source": [
    "df1.shape"
   ]
  },
  {
   "cell_type": "code",
   "execution_count": 6,
   "id": "4f47f19f",
   "metadata": {},
   "outputs": [
    {
     "data": {
      "text/plain": [
       "0        37.555000\n",
       "1        39.937500\n",
       "2        39.302502\n",
       "3        39.349998\n",
       "4        39.730000\n",
       "           ...    \n",
       "1755    224.800003\n",
       "1756    220.850006\n",
       "1757    219.490005\n",
       "1758    219.300003\n",
       "1759    220.330002\n",
       "Name: High, Length: 1760, dtype: float64"
      ]
     },
     "execution_count": 6,
     "metadata": {},
     "output_type": "execute_result"
    }
   ],
   "source": [
    "df1"
   ]
  },
  {
   "cell_type": "code",
   "execution_count": 7,
   "id": "04bfe1a8",
   "metadata": {
    "scrolled": true
   },
   "outputs": [
    {
     "data": {
      "text/plain": [
       "[<matplotlib.lines.Line2D at 0x2a93e1e0090>]"
      ]
     },
     "execution_count": 7,
     "metadata": {},
     "output_type": "execute_result"
    },
    {
     "data": {
      "image/png": "[encoded data removed]",
      "text/plain": [
       "<Figure size 640x480 with 1 Axes>"
      ]
     },
     "metadata": {},
     "output_type": "display_data"
    }
   ],
   "source": [
    "import matplotlib.pyplot as plt\n",
    "plt.plot(df1)"
   ]
  },
  {
   "cell_type": "code",
   "execution_count": 8,
   "id": "388e4c70",
   "metadata": {},
   "outputs": [],
   "source": [
    "import numpy as np\n",
    "import sklearn"
   ]
  },
  {
   "cell_type": "code",
   "execution_count": 9,
   "id": "90847665",
   "metadata": {},
   "outputs": [],
   "source": [
    "from sklearn.preprocessing import MinMaxScaler\n",
    "scaler=MinMaxScaler(feature_range=(0,1))\n",
    "df1=scaler.fit_transform(np.array(df1).reshape(-1,1))"
   ]
  },
  {
   "cell_type": "code",
   "execution_count": 10,
   "id": "902fc4eb",
   "metadata": {},
   "outputs": [
    {
     "data": {
      "text/plain": [
       "array([[0.00560259],\n",
       "       [0.01746763],\n",
       "       [0.01430529],\n",
       "       ...,\n",
       "       [0.91165343],\n",
       "       [0.91070721],\n",
       "       [0.91583668]])"
      ]
     },
     "execution_count": 10,
     "metadata": {},
     "output_type": "execute_result"
    }
   ],
   "source": [
    "df1"
   ]
  },
  {
   "cell_type": "code",
   "execution_count": 11,
   "id": "7552d4be",
   "metadata": {},
   "outputs": [],
   "source": [
    "##splitting dataset into train and test split\n",
    "training_size=int(len(df1)*0.65)\n",
    "test_size=len(df1)-training_size\n",
    "train_data,test_data=df1[0:training_size,:],df1[training_size:len(df1),:1]"
   ]
  },
  {
   "cell_type": "code",
   "execution_count": 12,
   "id": "926987d1",
   "metadata": {},
   "outputs": [
    {
     "data": {
      "text/plain": [
       "(1144, 616)"
      ]
     },
     "execution_count": 12,
     "metadata": {},
     "output_type": "execute_result"
    }
   ],
   "source": [
    "training_size,test_size"
   ]
  },
  {
   "cell_type": "code",
   "execution_count": 13,
   "id": "7af0748e",
   "metadata": {},
   "outputs": [
    {
     "data": {
      "text/plain": [
       "array([[0.00560259],\n",
       "       [0.01746763],\n",
       "       [0.01430529],\n",
       "       ...,\n",
       "       [0.69248007],\n",
       "       [0.68052791],\n",
       "       [0.66309763]])"
      ]
     },
     "execution_count": 13,
     "metadata": {},
     "output_type": "execute_result"
    }
   ],
   "source": [
    "train_data"
   ]
  },
  {
   "cell_type": "code",
   "execution_count": 14,
   "id": "67e1cbaf",
   "metadata": {},
   "outputs": [],
   "source": [
    "import numpy\n",
    "#convert an array of values into a matrix \n",
    "def create_dataset(dataset,time_step=1):\n",
    "    dataX,dataY=[],[]\n",
    "    for i in range(len(dataset)-time_step-1):\n",
    "        a=dataset[i:(i+time_step),0]\n",
    "        dataX.append(a)\n",
    "        dataY.append(dataset[i+time_step,0])\n",
    "    return numpy.array(dataX),numpy.array(dataY)"
   ]
  },
  {
   "cell_type": "code",
   "execution_count": 15,
   "id": "29ed02f3",
   "metadata": {},
   "outputs": [],
   "source": [
    "#reshape into X=t,t+1,t+2,t+3 and Y=t+4\n",
    "time_step=100\n",
    "X_train, y_train=create_dataset(train_data,time_step)\n",
    "X_test,y_test=create_dataset(test_data,time_step)"
   ]
  },
  {
   "cell_type": "code",
   "execution_count": 16,
   "id": "0741ee5f",
   "metadata": {},
   "outputs": [
    {
     "name": "stdout",
     "output_type": "stream",
     "text": [
      "[[0.00560259 0.01746763 0.01430529 ... 0.03919322 0.03693974 0.03697709]\n",
      " [0.01746763 0.01430529 0.01454182 ... 0.03693974 0.03697709 0.03772411]\n",
      " [0.01430529 0.01454182 0.01643426 ... 0.03697709 0.03772411 0.03697709]\n",
      " ...\n",
      " [0.5597112  0.53989043 0.53869526 ... 0.68560761 0.68486056 0.69183271]\n",
      " [0.53989043 0.53869526 0.54780874 ... 0.68486056 0.69183271 0.69830676]\n",
      " [0.53869526 0.54780874 0.55104584 ... 0.69183271 0.69830676 0.69248007]]\n"
     ]
    }
   ],
   "source": [
    "print(X_train)"
   ]
  },
  {
   "cell_type": "code",
   "execution_count": 17,
   "id": "a6ebd75a",
   "metadata": {},
   "outputs": [
    {
     "name": "stdout",
     "output_type": "stream",
     "text": [
      "(1043, 100)\n",
      "(1043,)\n"
     ]
    },
    {
     "data": {
      "text/plain": [
       "(None, None)"
      ]
     },
     "execution_count": 17,
     "metadata": {},
     "output_type": "execute_result"
    }
   ],
   "source": [
    "print(X_train.shape),print(y_train.shape)"
   ]
  },
  {
   "cell_type": "code",
   "execution_count": 18,
   "id": "b5b260fd",
   "metadata": {},
   "outputs": [
    {
     "name": "stdout",
     "output_type": "stream",
     "text": [
      "(515, 100)\n",
      "(515,)\n"
     ]
    },
    {
     "data": {
      "text/plain": [
       "(None, None)"
      ]
     },
     "execution_count": 18,
     "metadata": {},
     "output_type": "execute_result"
    }
   ],
   "source": [
    "print(X_test.shape),print(y_test.shape)"
   ]
  },
  {
   "cell_type": "code",
   "execution_count": 19,
   "id": "ee0e0abe",
   "metadata": {},
   "outputs": [],
   "source": [
    "# reshape input to be [samples, time steps, features] which is required for LSTM / 3D\n",
    "X_train=X_train.reshape(X_train.shape[0],X_train.shape[1],1)\n",
    "X_test=X_test.reshape(X_test.shape[0],X_test.shape[1],1)\n"
   ]
  },
  {
   "cell_type": "code",
   "execution_count": 20,
   "id": "4a1f46a7",
   "metadata": {},
   "outputs": [
    {
     "name": "stdout",
     "output_type": "stream",
     "text": [
      "WARNING:tensorflow:From C:\\Users\\Hp\\anaconda3\\Lib\\site-packages\\keras\\src\\losses.py:2976: The name tf.losses.sparse_softmax_cross_entropy is deprecated. Please use tf.compat.v1.losses.sparse_softmax_cross_entropy instead.\n",
      "\n"
     ]
    }
   ],
   "source": [
    "from tensorflow.keras import Sequential\n",
    "from tensorflow.keras.layers import Dense\n",
    "from tensorflow.keras.layers import LSTM"
   ]
  },
  {
   "cell_type": "code",
   "execution_count": 21,
   "id": "6eeb8ffa",
   "metadata": {},
   "outputs": [
    {
     "name": "stdout",
     "output_type": "stream",
     "text": [
      "WARNING:tensorflow:From C:\\Users\\Hp\\anaconda3\\Lib\\site-packages\\keras\\src\\backend.py:873: The name tf.get_default_graph is deprecated. Please use tf.compat.v1.get_default_graph instead.\n",
      "\n",
      "WARNING:tensorflow:From C:\\Users\\Hp\\anaconda3\\Lib\\site-packages\\keras\\src\\optimizers\\__init__.py:309: The name tf.train.Optimizer is deprecated. Please use tf.compat.v1.train.Optimizer instead.\n",
      "\n"
     ]
    }
   ],
   "source": [
    "    model=Sequential()\n",
    "    model.add(LSTM(50,return_sequences=True,input_shape=(100,1)))\n",
    "    model.add(LSTM(50,return_sequences=True))\n",
    "    model.add(LSTM(50))\n",
    "    model.add(Dense(1))\n",
    "    model.compile(loss='mean_squared_error',optimizer='adam')"
   ]
  },
  {
   "cell_type": "code",
   "execution_count": 22,
   "id": "675f1a8d",
   "metadata": {},
   "outputs": [
    {
     "name": "stdout",
     "output_type": "stream",
     "text": [
      "Model: \"sequential\"\n",
      "_________________________________________________________________\n",
      " Layer (type)                Output Shape              Param #   \n",
      "=================================================================\n",
      " lstm (LSTM)                 (None, 100, 50)           10400     \n",
      "                                                                 \n",
      " lstm_1 (LSTM)               (None, 100, 50)           20200     \n",
      "                                                                 \n",
      " lstm_2 (LSTM)               (None, 50)                20200     \n",
      "                                                                 \n",
      " dense (Dense)               (None, 1)                 51        \n",
      "                                                                 \n",
      "=================================================================\n",
      "Total params: 50851 (198.64 KB)\n",
      "Trainable params: 50851 (198.64 KB)\n",
      "Non-trainable params: 0 (0.00 Byte)\n",
      "_________________________________________________________________\n"
     ]
    }
   ],
   "source": [
    "model.summary()"
   ]
  },
  {
   "cell_type": "code",
   "execution_count": 23,
   "id": "f66d1647",
   "metadata": {},
   "outputs": [
    {
     "name": "stdout",
     "output_type": "stream",
     "text": [
      "Epoch 1/100\n",
      "WARNING:tensorflow:From C:\\Users\\Hp\\anaconda3\\Lib\\site-packages\\keras\\src\\utils\\tf_utils.py:492: The name tf.ragged.RaggedTensorValue is deprecated. Please use tf.compat.v1.ragged.RaggedTensorValue instead.\n",
      "\n",
      "17/17 [==============================] - 11s 224ms/step - loss: 0.0285 - val_loss: 0.0294\n",
      "Epoch 2/100\n",
      "17/17 [==============================] - 2s 127ms/step - loss: 0.0022 - val_loss: 0.0020\n",
      "Epoch 3/100\n",
      "17/17 [==============================] - 2s 126ms/step - loss: 8.3195e-04 - val_loss: 0.0021\n",
      "Epoch 4/100\n",
      "17/17 [==============================] - 2s 129ms/step - loss: 7.3530e-04 - val_loss: 0.0019\n",
      "Epoch 5/100\n",
      "17/17 [==============================] - 2s 133ms/step - loss: 6.7174e-04 - val_loss: 0.0021\n",
      "Epoch 6/100\n",
      "17/17 [==============================] - 2s 131ms/step - loss: 6.4947e-04 - val_loss: 0.0019\n",
      "Epoch 7/100\n",
      "17/17 [==============================] - 2s 130ms/step - loss: 6.7662e-04 - val_loss: 0.0022\n",
      "Epoch 8/100\n",
      "17/17 [==============================] - 2s 127ms/step - loss: 6.2533e-04 - val_loss: 0.0022\n",
      "Epoch 9/100\n",
      "17/17 [==============================] - 2s 129ms/step - loss: 6.3040e-04 - val_loss: 0.0017\n",
      "Epoch 10/100\n",
      "17/17 [==============================] - 2s 126ms/step - loss: 6.0388e-04 - val_loss: 0.0017\n",
      "Epoch 11/100\n",
      "17/17 [==============================] - 2s 126ms/step - loss: 6.7932e-04 - val_loss: 0.0018\n",
      "Epoch 12/100\n",
      "17/17 [==============================] - 2s 131ms/step - loss: 7.0775e-04 - val_loss: 0.0029\n",
      "Epoch 13/100\n",
      "17/17 [==============================] - 2s 130ms/step - loss: 5.6779e-04 - val_loss: 0.0016\n",
      "Epoch 14/100\n",
      "17/17 [==============================] - 2s 126ms/step - loss: 5.2798e-04 - val_loss: 0.0016\n",
      "Epoch 15/100\n",
      "17/17 [==============================] - 2s 128ms/step - loss: 5.1798e-04 - val_loss: 0.0015\n",
      "Epoch 16/100\n",
      "17/17 [==============================] - 2s 127ms/step - loss: 4.8723e-04 - val_loss: 0.0015\n",
      "Epoch 17/100\n",
      "17/17 [==============================] - 2s 125ms/step - loss: 4.7991e-04 - val_loss: 0.0013\n",
      "Epoch 18/100\n",
      "17/17 [==============================] - 2s 130ms/step - loss: 4.9912e-04 - val_loss: 0.0018\n",
      "Epoch 19/100\n",
      "17/17 [==============================] - 2s 127ms/step - loss: 4.7934e-04 - val_loss: 0.0014\n",
      "Epoch 20/100\n",
      "17/17 [==============================] - 2s 132ms/step - loss: 4.3954e-04 - val_loss: 0.0011\n",
      "Epoch 21/100\n",
      "17/17 [==============================] - 2s 126ms/step - loss: 4.1879e-04 - val_loss: 0.0014\n",
      "Epoch 22/100\n",
      "17/17 [==============================] - 2s 127ms/step - loss: 4.4497e-04 - val_loss: 0.0016\n",
      "Epoch 23/100\n",
      "17/17 [==============================] - 2s 126ms/step - loss: 4.2027e-04 - val_loss: 0.0020\n",
      "Epoch 24/100\n",
      "17/17 [==============================] - 2s 126ms/step - loss: 4.2104e-04 - val_loss: 8.9578e-04\n",
      "Epoch 25/100\n",
      "17/17 [==============================] - 2s 125ms/step - loss: 3.9237e-04 - val_loss: 0.0010\n",
      "Epoch 26/100\n",
      "17/17 [==============================] - 2s 125ms/step - loss: 4.1763e-04 - val_loss: 8.5161e-04\n",
      "Epoch 27/100\n",
      "17/17 [==============================] - 2s 132ms/step - loss: 4.5089e-04 - val_loss: 0.0011\n",
      "Epoch 28/100\n",
      "17/17 [==============================] - 2s 128ms/step - loss: 3.8758e-04 - val_loss: 0.0010\n",
      "Epoch 29/100\n",
      "17/17 [==============================] - 2s 128ms/step - loss: 3.8287e-04 - val_loss: 0.0018\n",
      "Epoch 30/100\n",
      "17/17 [==============================] - 2s 126ms/step - loss: 3.8820e-04 - val_loss: 0.0011\n",
      "Epoch 31/100\n",
      "17/17 [==============================] - 2s 127ms/step - loss: 3.6906e-04 - val_loss: 0.0012\n",
      "Epoch 32/100\n",
      "17/17 [==============================] - 2s 128ms/step - loss: 3.4426e-04 - val_loss: 0.0010\n",
      "Epoch 33/100\n",
      "17/17 [==============================] - 2s 124ms/step - loss: 3.2246e-04 - val_loss: 0.0015\n",
      "Epoch 34/100\n",
      "17/17 [==============================] - 2s 131ms/step - loss: 3.4203e-04 - val_loss: 7.4777e-04\n",
      "Epoch 35/100\n",
      "17/17 [==============================] - 2s 130ms/step - loss: 3.2192e-04 - val_loss: 8.3001e-04\n",
      "Epoch 36/100\n",
      "17/17 [==============================] - 2s 130ms/step - loss: 3.0266e-04 - val_loss: 7.6135e-04\n",
      "Epoch 37/100\n",
      "17/17 [==============================] - 2s 127ms/step - loss: 3.3349e-04 - val_loss: 9.3370e-04\n",
      "Epoch 38/100\n",
      "17/17 [==============================] - 2s 127ms/step - loss: 3.0707e-04 - val_loss: 7.9313e-04\n",
      "Epoch 39/100\n",
      "17/17 [==============================] - 2s 126ms/step - loss: 3.5865e-04 - val_loss: 0.0011\n",
      "Epoch 40/100\n",
      "17/17 [==============================] - 2s 124ms/step - loss: 3.4796e-04 - val_loss: 0.0012\n",
      "Epoch 41/100\n",
      "17/17 [==============================] - 2s 125ms/step - loss: 2.9707e-04 - val_loss: 7.3575e-04\n",
      "Epoch 42/100\n",
      "17/17 [==============================] - 2s 130ms/step - loss: 2.9882e-04 - val_loss: 7.7380e-04\n",
      "Epoch 43/100\n",
      "17/17 [==============================] - 2s 130ms/step - loss: 2.8278e-04 - val_loss: 7.9369e-04\n",
      "Epoch 44/100\n",
      "17/17 [==============================] - 2s 119ms/step - loss: 3.4505e-04 - val_loss: 7.6194e-04\n",
      "Epoch 45/100\n",
      "17/17 [==============================] - 2s 125ms/step - loss: 2.9050e-04 - val_loss: 8.9147e-04\n",
      "Epoch 46/100\n",
      "17/17 [==============================] - 2s 126ms/step - loss: 2.6673e-04 - val_loss: 0.0010\n",
      "Epoch 47/100\n",
      "17/17 [==============================] - 2s 129ms/step - loss: 3.0459e-04 - val_loss: 6.2028e-04\n",
      "Epoch 48/100\n",
      "17/17 [==============================] - 2s 125ms/step - loss: 2.6720e-04 - val_loss: 0.0013\n",
      "Epoch 49/100\n",
      "17/17 [==============================] - 2s 129ms/step - loss: 2.9144e-04 - val_loss: 5.8223e-04\n",
      "Epoch 50/100\n",
      "17/17 [==============================] - 2s 131ms/step - loss: 2.6526e-04 - val_loss: 6.0078e-04\n",
      "Epoch 51/100\n",
      "17/17 [==============================] - 2s 123ms/step - loss: 3.5121e-04 - val_loss: 0.0013\n",
      "Epoch 52/100\n",
      "17/17 [==============================] - 2s 113ms/step - loss: 2.7623e-04 - val_loss: 5.6517e-04\n",
      "Epoch 53/100\n",
      "17/17 [==============================] - 2s 126ms/step - loss: 2.5739e-04 - val_loss: 6.9831e-04\n",
      "Epoch 54/100\n",
      "17/17 [==============================] - 2s 127ms/step - loss: 2.5895e-04 - val_loss: 8.6097e-04\n",
      "Epoch 55/100\n",
      "17/17 [==============================] - 2s 126ms/step - loss: 3.1813e-04 - val_loss: 7.6606e-04\n",
      "Epoch 56/100\n",
      "17/17 [==============================] - 2s 128ms/step - loss: 2.8909e-04 - val_loss: 5.3864e-04\n",
      "Epoch 57/100\n",
      "17/17 [==============================] - 2s 131ms/step - loss: 2.4347e-04 - val_loss: 5.4050e-04\n",
      "Epoch 58/100\n",
      "17/17 [==============================] - 2s 132ms/step - loss: 2.6943e-04 - val_loss: 5.2016e-04\n",
      "Epoch 59/100\n",
      "17/17 [==============================] - 2s 122ms/step - loss: 2.7840e-04 - val_loss: 5.6197e-04\n",
      "Epoch 60/100\n",
      "17/17 [==============================] - 2s 126ms/step - loss: 2.9560e-04 - val_loss: 5.0990e-04\n",
      "Epoch 61/100\n",
      "17/17 [==============================] - 2s 127ms/step - loss: 2.4659e-04 - val_loss: 8.1586e-04\n",
      "Epoch 62/100\n",
      "17/17 [==============================] - 2s 127ms/step - loss: 2.7060e-04 - val_loss: 5.2208e-04\n",
      "Epoch 63/100\n",
      "17/17 [==============================] - 2s 125ms/step - loss: 2.6345e-04 - val_loss: 4.9752e-04\n",
      "Epoch 64/100\n",
      "17/17 [==============================] - 2s 129ms/step - loss: 2.7850e-04 - val_loss: 6.6375e-04\n",
      "Epoch 65/100\n",
      "17/17 [==============================] - 2s 129ms/step - loss: 2.2876e-04 - val_loss: 4.9256e-04\n",
      "Epoch 66/100\n",
      "17/17 [==============================] - 2s 125ms/step - loss: 2.3856e-04 - val_loss: 5.3799e-04\n",
      "Epoch 67/100\n",
      "17/17 [==============================] - 2s 122ms/step - loss: 2.2131e-04 - val_loss: 5.2771e-04\n",
      "Epoch 68/100\n",
      "17/17 [==============================] - 2s 124ms/step - loss: 2.2332e-04 - val_loss: 4.6970e-04\n",
      "Epoch 69/100\n",
      "17/17 [==============================] - 2s 126ms/step - loss: 2.3341e-04 - val_loss: 8.2553e-04\n",
      "Epoch 70/100\n",
      "17/17 [==============================] - 2s 127ms/step - loss: 2.5991e-04 - val_loss: 6.8966e-04\n",
      "Epoch 71/100\n",
      "17/17 [==============================] - 2s 128ms/step - loss: 2.8840e-04 - val_loss: 5.5098e-04\n",
      "Epoch 72/100\n",
      "17/17 [==============================] - 2s 132ms/step - loss: 2.4006e-04 - val_loss: 6.4360e-04\n",
      "Epoch 73/100\n",
      "17/17 [==============================] - 2s 131ms/step - loss: 2.2985e-04 - val_loss: 4.4020e-04\n",
      "Epoch 74/100\n",
      "17/17 [==============================] - 2s 117ms/step - loss: 2.1182e-04 - val_loss: 4.4677e-04\n",
      "Epoch 75/100\n",
      "17/17 [==============================] - 2s 126ms/step - loss: 2.2440e-04 - val_loss: 6.3122e-04\n",
      "Epoch 76/100\n",
      "17/17 [==============================] - 2s 124ms/step - loss: 2.5337e-04 - val_loss: 6.7553e-04\n",
      "Epoch 77/100\n",
      "17/17 [==============================] - 2s 125ms/step - loss: 2.0657e-04 - val_loss: 4.4032e-04\n",
      "Epoch 78/100\n",
      "17/17 [==============================] - 2s 130ms/step - loss: 2.0706e-04 - val_loss: 4.3457e-04\n",
      "Epoch 79/100\n",
      "17/17 [==============================] - 2s 132ms/step - loss: 2.2800e-04 - val_loss: 8.1986e-04\n",
      "Epoch 80/100\n",
      "17/17 [==============================] - 2s 130ms/step - loss: 2.4840e-04 - val_loss: 3.9909e-04\n",
      "Epoch 81/100\n",
      "17/17 [==============================] - 2s 116ms/step - loss: 1.8907e-04 - val_loss: 3.8885e-04\n",
      "Epoch 82/100\n",
      "17/17 [==============================] - 2s 105ms/step - loss: 1.8498e-04 - val_loss: 5.6622e-04\n",
      "Epoch 83/100\n",
      "17/17 [==============================] - 2s 125ms/step - loss: 2.0709e-04 - val_loss: 5.7428e-04\n",
      "Epoch 84/100\n",
      "17/17 [==============================] - 2s 126ms/step - loss: 2.6527e-04 - val_loss: 9.0516e-04\n",
      "Epoch 85/100\n",
      "17/17 [==============================] - 2s 125ms/step - loss: 2.3399e-04 - val_loss: 5.7529e-04\n",
      "Epoch 86/100\n",
      "17/17 [==============================] - 2s 125ms/step - loss: 2.4221e-04 - val_loss: 0.0011\n",
      "Epoch 87/100\n",
      "17/17 [==============================] - 2s 131ms/step - loss: 2.0863e-04 - val_loss: 6.7764e-04\n",
      "Epoch 88/100\n",
      "17/17 [==============================] - 2s 132ms/step - loss: 1.8625e-04 - val_loss: 3.9116e-04\n",
      "Epoch 89/100\n",
      "17/17 [==============================] - 2s 129ms/step - loss: 1.9209e-04 - val_loss: 7.7483e-04\n",
      "Epoch 90/100\n",
      "17/17 [==============================] - 2s 134ms/step - loss: 2.1330e-04 - val_loss: 6.7583e-04\n",
      "Epoch 91/100\n",
      "17/17 [==============================] - 2s 97ms/step - loss: 1.9413e-04 - val_loss: 3.9784e-04\n",
      "Epoch 92/100\n",
      "17/17 [==============================] - 2s 100ms/step - loss: 1.6969e-04 - val_loss: 4.0718e-04\n",
      "Epoch 93/100\n",
      "17/17 [==============================] - 2s 131ms/step - loss: 1.7472e-04 - val_loss: 3.5677e-04\n",
      "Epoch 94/100\n",
      "17/17 [==============================] - 2s 128ms/step - loss: 1.7234e-04 - val_loss: 5.0552e-04\n",
      "Epoch 95/100\n",
      "17/17 [==============================] - 2s 133ms/step - loss: 2.4216e-04 - val_loss: 5.5680e-04\n",
      "Epoch 96/100\n",
      "17/17 [==============================] - 2s 125ms/step - loss: 1.9298e-04 - val_loss: 3.5644e-04\n",
      "Epoch 97/100\n",
      "17/17 [==============================] - 2s 95ms/step - loss: 1.7288e-04 - val_loss: 3.5693e-04\n",
      "Epoch 98/100\n",
      "17/17 [==============================] - 2s 103ms/step - loss: 1.6322e-04 - val_loss: 3.3288e-04\n",
      "Epoch 99/100\n",
      "17/17 [==============================] - 2s 126ms/step - loss: 1.6801e-04 - val_loss: 3.8856e-04\n",
      "Epoch 100/100\n",
      "17/17 [==============================] - 2s 128ms/step - loss: 1.6769e-04 - val_loss: 3.8379e-04\n"
     ]
    },
    {
     "data": {
      "text/plain": [
       "<keras.src.callbacks.History at 0x2a94c284ad0>"
      ]
     },
     "execution_count": 23,
     "metadata": {},
     "output_type": "execute_result"
    }
   ],
   "source": [
    "model.fit(X_train,y_train,validation_data=(X_test,y_test),epochs=100,batch_size=64,verbose=1)"
   ]
  },
  {
   "cell_type": "code",
   "execution_count": 24,
   "id": "8d572198",
   "metadata": {},
   "outputs": [],
   "source": [
    "import tensorflow as tf"
   ]
  },
  {
   "cell_type": "code",
   "execution_count": 25,
   "id": "c48547a8",
   "metadata": {},
   "outputs": [
    {
     "data": {
      "text/plain": [
       "'2.15.0'"
      ]
     },
     "execution_count": 25,
     "metadata": {},
     "output_type": "execute_result"
    }
   ],
   "source": [
    "tf.__version__"
   ]
  },
  {
   "cell_type": "code",
   "execution_count": 26,
   "id": "47608a01",
   "metadata": {},
   "outputs": [
    {
     "name": "stdout",
     "output_type": "stream",
     "text": [
      "33/33 [==============================] - 3s 33ms/step\n",
      "17/17 [==============================] - 1s 31ms/step\n"
     ]
    }
   ],
   "source": [
    "### lets do the prediction and check performance metrices\n",
    "train_predict=model.predict(X_train)\n",
    "test_predict=model.predict(X_test)"
   ]
  },
  {
   "cell_type": "code",
   "execution_count": 27,
   "id": "fbf48776",
   "metadata": {},
   "outputs": [],
   "source": [
    "### Transform to original form\n",
    "train_predict=scaler.inverse_transform(train_predict)\n",
    "test_predict=scaler.inverse_transform(test_predict)"
   ]
  },
  {
   "cell_type": "code",
   "execution_count": 28,
   "id": "08feca5d",
   "metadata": {},
   "outputs": [
    {
     "data": {
      "text/plain": [
       "96.0910428925792"
      ]
     },
     "execution_count": 28,
     "metadata": {},
     "output_type": "execute_result"
    }
   ],
   "source": [
    "import math\n",
    "from sklearn.metrics import mean_squared_error\n",
    "math.sqrt(mean_squared_error(y_train,train_predict))"
   ]
  },
  {
   "cell_type": "code",
   "execution_count": 29,
   "id": "d1d21a21",
   "metadata": {},
   "outputs": [
    {
     "data": {
      "image/png": "[encoded data removed]",
      "text/plain": [
       "<Figure size 640x480 with 1 Axes>"
      ]
     },
     "metadata": {},
     "output_type": "display_data"
    }
   ],
   "source": [
    "#shift train prediction for plotting\n",
    "look_back=100\n",
    "trainPredictPlot=numpy.empty_like(df1)\n",
    "trainPredictPlot[:, :]=np.nan\n",
    "trainPredictPlot[look_back:len(train_predict)+look_back, :]=train_predict\n",
    "#shift test prediction for plotting\n",
    "testPredictPlot=numpy.empty_like(df1)\n",
    "testPredictPlot[:, :]=numpy.nan\n",
    "testPredictPlot[len(train_predict)+(look_back*2)+1:len(df1)-1,:]=test_predict\n",
    "#plot baseline and predictions\n",
    "plt.plot(scaler.inverse_transform(df1))\n",
    "plt.plot(trainPredictPlot)\n",
    "plt.plot(testPredictPlot)\n",
    "plt.legend([\"Original Data\",\"Train Predict\",\"Test Predict\"]);\n",
    "plt.show()"
   ]
  },
  {
   "cell_type": "code",
   "execution_count": 30,
   "id": "b3485d27",
   "metadata": {},
   "outputs": [
    {
     "data": {
      "text/plain": [
       "616"
      ]
     },
     "execution_count": 30,
     "metadata": {},
     "output_type": "execute_result"
    }
   ],
   "source": [
    "len(test_data)"
   ]
  },
  {
   "cell_type": "code",
   "execution_count": 31,
   "id": "7c1a0d20",
   "metadata": {},
   "outputs": [
    {
     "data": {
      "text/plain": [
       "(1, 100)"
      ]
     },
     "execution_count": 31,
     "metadata": {},
     "output_type": "execute_result"
    }
   ],
   "source": [
    "x_input=test_data[516:].reshape(1,-1)\n",
    "x_input.shape"
   ]
  },
  {
   "cell_type": "code",
   "execution_count": 32,
   "id": "7f4ec6ea",
   "metadata": {},
   "outputs": [],
   "source": [
    "x_input=test_data[516:].reshape(1,-1)"
   ]
  },
  {
   "cell_type": "code",
   "execution_count": 33,
   "id": "8d0f2190",
   "metadata": {},
   "outputs": [],
   "source": [
    "temp_input=list(x_input)\n",
    "temp_input=temp_input[0].tolist()"
   ]
  },
  {
   "cell_type": "code",
   "execution_count": 34,
   "id": "9aaf0e43",
   "metadata": {},
   "outputs": [
    {
     "data": {
      "text/plain": [
       "[0.6688246936454172,\n",
       " 0.6836155367151893,\n",
       " 0.6870020304904505,\n",
       " 0.6852589721662736,\n",
       " 0.6810757233762337,\n",
       " 0.6866533884296202,\n",
       " 0.6782370414180006,\n",
       " 0.7035857053259521,\n",
       " 0.6981075871556709,\n",
       " 0.7083665393745728,\n",
       " 0.7024900816918959,\n",
       " 0.6803785152445604,\n",
       " 0.6748506236327264,\n",
       " 0.6722609608622311,\n",
       " 0.6831175743297009,\n",
       " 0.6762948133376258,\n",
       " 0.6714143564159125,\n",
       " 0.6619023857702366,\n",
       " 0.6685756744576795,\n",
       " 0.6747510007596339,\n",
       " 0.6671314847527802,\n",
       " 0.6612051776385633,\n",
       " 0.6655876721747883,\n",
       " 0.6606573658215352,\n",
       " 0.6923805257876391,\n",
       " 0.706822726796581,\n",
       " 0.6982072100287634,\n",
       " 0.6839143293444796,\n",
       " 0.6684262781430342,\n",
       " 0.6584163451118701,\n",
       " 0.6472609390151098,\n",
       " 0.6515438106782422,\n",
       " 0.6504980364757258,\n",
       " 0.6617032160140387,\n",
       " 0.6682271083868363,\n",
       " 0.6718625453598481,\n",
       " 0.6952191317558851,\n",
       " 0.6900398822048814,\n",
       " 0.6786853063519233,\n",
       " 0.6822211204518426,\n",
       " 0.7498506131841033,\n",
       " 0.7359063745606497,\n",
       " 0.7393924152190163,\n",
       " 0.7302789360657104,\n",
       " 0.7381972447018547,\n",
       " 0.7403386425384273,\n",
       " 0.7503486515595786,\n",
       " 0.7563247321153481,\n",
       " 0.7680278740391494,\n",
       " 0.7702689707388016,\n",
       " 0.7688247050439152,\n",
       " 0.7743525966557491,\n",
       " 0.7783864491311439,\n",
       " 0.7788347140650665,\n",
       " 0.7697709323633263,\n",
       " 0.7676793079683063,\n",
       " 0.7797310919529378,\n",
       " 0.7759960321068334,\n",
       " 0.7756473900460032,\n",
       " 0.7775896941163651,\n",
       " 0.7896414781009966,\n",
       " 0.791284913552081,\n",
       " 0.7991533727566854,\n",
       " 0.7971613712347579,\n",
       " 0.7993526185028704,\n",
       " 0.8011454502686,\n",
       " 0.8502490400849843,\n",
       " 0.9151892471736569,\n",
       " 0.8980079870795745,\n",
       " 0.890139451884983,\n",
       " 0.9089641474301497,\n",
       " 0.9073705614106051,\n",
       " 0.8855080141510074,\n",
       " 0.8738047962372191,\n",
       " 0.8778386487126137,\n",
       " 0.8712649828982635,\n",
       " 0.8885956393069911,\n",
       " 0.8929781338432161,\n",
       " 0.8946215692943005,\n",
       " 0.9017928203672316,\n",
       " 0.9160857010515153,\n",
       " 0.9219123852926396,\n",
       " 0.9463147458911929,\n",
       " 0.9532869031979132,\n",
       " 0.9610059660878725,\n",
       " 0.9793326992475511,\n",
       " 0.9758964320307371,\n",
       " 0.9771414519794386,\n",
       " 1.0,\n",
       " 0.9952191659513794,\n",
       " 0.9712649942967615,\n",
       " 0.9661852916288634,\n",
       " 0.9480578042153698,\n",
       " 0.9529382611370831,\n",
       " 0.9487550123470432,\n",
       " 0.9380976446257583,\n",
       " 0.9184263446342731,\n",
       " 0.9116534330737376,\n",
       " 0.9107072057543266,\n",
       " 0.9158366818637775]"
      ]
     },
     "execution_count": 34,
     "metadata": {},
     "output_type": "execute_result"
    }
   ],
   "source": [
    "temp_input"
   ]
  },
  {
   "cell_type": "code",
   "execution_count": 35,
   "id": "f17408f0",
   "metadata": {},
   "outputs": [
    {
     "name": "stdout",
     "output_type": "stream",
     "text": [
      "[0.89985096]\n",
      "101\n",
      "1 day input [0.68361554 0.68700203 0.68525897 0.68107572 0.68665339 0.67823704\n",
      " 0.70358571 0.69810759 0.70836654 0.70249008 0.68037852 0.67485062\n",
      " 0.67226096 0.68311757 0.67629481 0.67141436 0.66190239 0.66857567\n",
      " 0.674751   0.66713148 0.66120518 0.66558767 0.66065737 0.69238053\n",
      " 0.70682273 0.69820721 0.68391433 0.66842628 0.65841635 0.64726094\n",
      " 0.65154381 0.65049804 0.66170322 0.66822711 0.67186255 0.69521913\n",
      " 0.69003988 0.67868531 0.68222112 0.74985061 0.73590637 0.73939242\n",
      " 0.73027894 0.73819724 0.74033864 0.75034865 0.75632473 0.76802787\n",
      " 0.77026897 0.76882471 0.7743526  0.77838645 0.77883471 0.76977093\n",
      " 0.76767931 0.77973109 0.77599603 0.77564739 0.77758969 0.78964148\n",
      " 0.79128491 0.79915337 0.79716137 0.79935262 0.80114545 0.85024904\n",
      " 0.91518925 0.89800799 0.89013945 0.90896415 0.90737056 0.88550801\n",
      " 0.8738048  0.87783865 0.87126498 0.88859564 0.89297813 0.89462157\n",
      " 0.90179282 0.9160857  0.92191239 0.94631475 0.9532869  0.96100597\n",
      " 0.9793327  0.97589643 0.97714145 1.         0.99521917 0.97126499\n",
      " 0.96618529 0.9480578  0.95293826 0.94875501 0.93809764 0.91842634\n",
      " 0.91165343 0.91070721 0.91583668 0.89985096]\n",
      "1 day output [[0.89621097]]\n",
      "2 day input [0.68700203 0.68525897 0.68107572 0.68665339 0.67823704 0.70358571\n",
      " 0.69810759 0.70836654 0.70249008 0.68037852 0.67485062 0.67226096\n",
      " 0.68311757 0.67629481 0.67141436 0.66190239 0.66857567 0.674751\n",
      " 0.66713148 0.66120518 0.66558767 0.66065737 0.69238053 0.70682273\n",
      " 0.69820721 0.68391433 0.66842628 0.65841635 0.64726094 0.65154381\n",
      " 0.65049804 0.66170322 0.66822711 0.67186255 0.69521913 0.69003988\n",
      " 0.67868531 0.68222112 0.74985061 0.73590637 0.73939242 0.73027894\n",
      " 0.73819724 0.74033864 0.75034865 0.75632473 0.76802787 0.77026897\n",
      " 0.76882471 0.7743526  0.77838645 0.77883471 0.76977093 0.76767931\n",
      " 0.77973109 0.77599603 0.77564739 0.77758969 0.78964148 0.79128491\n",
      " 0.79915337 0.79716137 0.79935262 0.80114545 0.85024904 0.91518925\n",
      " 0.89800799 0.89013945 0.90896415 0.90737056 0.88550801 0.8738048\n",
      " 0.87783865 0.87126498 0.88859564 0.89297813 0.89462157 0.90179282\n",
      " 0.9160857  0.92191239 0.94631475 0.9532869  0.96100597 0.9793327\n",
      " 0.97589643 0.97714145 1.         0.99521917 0.97126499 0.96618529\n",
      " 0.9480578  0.95293826 0.94875501 0.93809764 0.91842634 0.91165343\n",
      " 0.91070721 0.91583668 0.89985096 0.89621097]\n",
      "2 day output [[0.8916622]]\n",
      "3 day input [0.68525897 0.68107572 0.68665339 0.67823704 0.70358571 0.69810759\n",
      " 0.70836654 0.70249008 0.68037852 0.67485062 0.67226096 0.68311757\n",
      " 0.67629481 0.67141436 0.66190239 0.66857567 0.674751   0.66713148\n",
      " 0.66120518 0.66558767 0.66065737 0.69238053 0.70682273 0.69820721\n",
      " 0.68391433 0.66842628 0.65841635 0.64726094 0.65154381 0.65049804\n",
      " 0.66170322 0.66822711 0.67186255 0.69521913 0.69003988 0.67868531\n",
      " 0.68222112 0.74985061 0.73590637 0.73939242 0.73027894 0.73819724\n",
      " 0.74033864 0.75034865 0.75632473 0.76802787 0.77026897 0.76882471\n",
      " 0.7743526  0.77838645 0.77883471 0.76977093 0.76767931 0.77973109\n",
      " 0.77599603 0.77564739 0.77758969 0.78964148 0.79128491 0.79915337\n",
      " 0.79716137 0.79935262 0.80114545 0.85024904 0.91518925 0.89800799\n",
      " 0.89013945 0.90896415 0.90737056 0.88550801 0.8738048  0.87783865\n",
      " 0.87126498 0.88859564 0.89297813 0.89462157 0.90179282 0.9160857\n",
      " 0.92191239 0.94631475 0.9532869  0.96100597 0.9793327  0.97589643\n",
      " 0.97714145 1.         0.99521917 0.97126499 0.96618529 0.9480578\n",
      " 0.95293826 0.94875501 0.93809764 0.91842634 0.91165343 0.91070721\n",
      " 0.91583668 0.89985096 0.89621097 0.89166218]\n",
      "3 day output [[0.88691604]]\n",
      "4 day input [0.68107572 0.68665339 0.67823704 0.70358571 0.69810759 0.70836654\n",
      " 0.70249008 0.68037852 0.67485062 0.67226096 0.68311757 0.67629481\n",
      " 0.67141436 0.66190239 0.66857567 0.674751   0.66713148 0.66120518\n",
      " 0.66558767 0.66065737 0.69238053 0.70682273 0.69820721 0.68391433\n",
      " 0.66842628 0.65841635 0.64726094 0.65154381 0.65049804 0.66170322\n",
      " 0.66822711 0.67186255 0.69521913 0.69003988 0.67868531 0.68222112\n",
      " 0.74985061 0.73590637 0.73939242 0.73027894 0.73819724 0.74033864\n",
      " 0.75034865 0.75632473 0.76802787 0.77026897 0.76882471 0.7743526\n",
      " 0.77838645 0.77883471 0.76977093 0.76767931 0.77973109 0.77599603\n",
      " 0.77564739 0.77758969 0.78964148 0.79128491 0.79915337 0.79716137\n",
      " 0.79935262 0.80114545 0.85024904 0.91518925 0.89800799 0.89013945\n",
      " 0.90896415 0.90737056 0.88550801 0.8738048  0.87783865 0.87126498\n",
      " 0.88859564 0.89297813 0.89462157 0.90179282 0.9160857  0.92191239\n",
      " 0.94631475 0.9532869  0.96100597 0.9793327  0.97589643 0.97714145\n",
      " 1.         0.99521917 0.97126499 0.96618529 0.9480578  0.95293826\n",
      " 0.94875501 0.93809764 0.91842634 0.91165343 0.91070721 0.91583668\n",
      " 0.89985096 0.89621097 0.89166218 0.88691604]\n",
      "4 day output [[0.882238]]\n",
      "5 day input [0.68665339 0.67823704 0.70358571 0.69810759 0.70836654 0.70249008\n",
      " 0.68037852 0.67485062 0.67226096 0.68311757 0.67629481 0.67141436\n",
      " 0.66190239 0.66857567 0.674751   0.66713148 0.66120518 0.66558767\n",
      " 0.66065737 0.69238053 0.70682273 0.69820721 0.68391433 0.66842628\n",
      " 0.65841635 0.64726094 0.65154381 0.65049804 0.66170322 0.66822711\n",
      " 0.67186255 0.69521913 0.69003988 0.67868531 0.68222112 0.74985061\n",
      " 0.73590637 0.73939242 0.73027894 0.73819724 0.74033864 0.75034865\n",
      " 0.75632473 0.76802787 0.77026897 0.76882471 0.7743526  0.77838645\n",
      " 0.77883471 0.76977093 0.76767931 0.77973109 0.77599603 0.77564739\n",
      " 0.77758969 0.78964148 0.79128491 0.79915337 0.79716137 0.79935262\n",
      " 0.80114545 0.85024904 0.91518925 0.89800799 0.89013945 0.90896415\n",
      " 0.90737056 0.88550801 0.8738048  0.87783865 0.87126498 0.88859564\n",
      " 0.89297813 0.89462157 0.90179282 0.9160857  0.92191239 0.94631475\n",
      " 0.9532869  0.96100597 0.9793327  0.97589643 0.97714145 1.\n",
      " 0.99521917 0.97126499 0.96618529 0.9480578  0.95293826 0.94875501\n",
      " 0.93809764 0.91842634 0.91165343 0.91070721 0.91583668 0.89985096\n",
      " 0.89621097 0.89166218 0.88691604 0.88223797]\n",
      "5 day output [[0.8776768]]\n",
      "6 day input [0.67823704 0.70358571 0.69810759 0.70836654 0.70249008 0.68037852\n",
      " 0.67485062 0.67226096 0.68311757 0.67629481 0.67141436 0.66190239\n",
      " 0.66857567 0.674751   0.66713148 0.66120518 0.66558767 0.66065737\n",
      " 0.69238053 0.70682273 0.69820721 0.68391433 0.66842628 0.65841635\n",
      " 0.64726094 0.65154381 0.65049804 0.66170322 0.66822711 0.67186255\n",
      " 0.69521913 0.69003988 0.67868531 0.68222112 0.74985061 0.73590637\n",
      " 0.73939242 0.73027894 0.73819724 0.74033864 0.75034865 0.75632473\n",
      " 0.76802787 0.77026897 0.76882471 0.7743526  0.77838645 0.77883471\n",
      " 0.76977093 0.76767931 0.77973109 0.77599603 0.77564739 0.77758969\n",
      " 0.78964148 0.79128491 0.79915337 0.79716137 0.79935262 0.80114545\n",
      " 0.85024904 0.91518925 0.89800799 0.89013945 0.90896415 0.90737056\n",
      " 0.88550801 0.8738048  0.87783865 0.87126498 0.88859564 0.89297813\n",
      " 0.89462157 0.90179282 0.9160857  0.92191239 0.94631475 0.9532869\n",
      " 0.96100597 0.9793327  0.97589643 0.97714145 1.         0.99521917\n",
      " 0.97126499 0.96618529 0.9480578  0.95293826 0.94875501 0.93809764\n",
      " 0.91842634 0.91165343 0.91070721 0.91583668 0.89985096 0.89621097\n",
      " 0.89166218 0.88691604 0.88223797 0.87767678]\n",
      "6 day output [[0.87321705]]\n",
      "7 day input [0.70358571 0.69810759 0.70836654 0.70249008 0.68037852 0.67485062\n",
      " 0.67226096 0.68311757 0.67629481 0.67141436 0.66190239 0.66857567\n",
      " 0.674751   0.66713148 0.66120518 0.66558767 0.66065737 0.69238053\n",
      " 0.70682273 0.69820721 0.68391433 0.66842628 0.65841635 0.64726094\n",
      " 0.65154381 0.65049804 0.66170322 0.66822711 0.67186255 0.69521913\n",
      " 0.69003988 0.67868531 0.68222112 0.74985061 0.73590637 0.73939242\n",
      " 0.73027894 0.73819724 0.74033864 0.75034865 0.75632473 0.76802787\n",
      " 0.77026897 0.76882471 0.7743526  0.77838645 0.77883471 0.76977093\n",
      " 0.76767931 0.77973109 0.77599603 0.77564739 0.77758969 0.78964148\n",
      " 0.79128491 0.79915337 0.79716137 0.79935262 0.80114545 0.85024904\n",
      " 0.91518925 0.89800799 0.89013945 0.90896415 0.90737056 0.88550801\n",
      " 0.8738048  0.87783865 0.87126498 0.88859564 0.89297813 0.89462157\n",
      " 0.90179282 0.9160857  0.92191239 0.94631475 0.9532869  0.96100597\n",
      " 0.9793327  0.97589643 0.97714145 1.         0.99521917 0.97126499\n",
      " 0.96618529 0.9480578  0.95293826 0.94875501 0.93809764 0.91842634\n",
      " 0.91165343 0.91070721 0.91583668 0.89985096 0.89621097 0.89166218\n",
      " 0.88691604 0.88223797 0.87767678 0.87321705]\n",
      "7 day output [[0.8688369]]\n",
      "8 day input [0.69810759 0.70836654 0.70249008 0.68037852 0.67485062 0.67226096\n",
      " 0.68311757 0.67629481 0.67141436 0.66190239 0.66857567 0.674751\n",
      " 0.66713148 0.66120518 0.66558767 0.66065737 0.69238053 0.70682273\n",
      " 0.69820721 0.68391433 0.66842628 0.65841635 0.64726094 0.65154381\n",
      " 0.65049804 0.66170322 0.66822711 0.67186255 0.69521913 0.69003988\n",
      " 0.67868531 0.68222112 0.74985061 0.73590637 0.73939242 0.73027894\n",
      " 0.73819724 0.74033864 0.75034865 0.75632473 0.76802787 0.77026897\n",
      " 0.76882471 0.7743526  0.77838645 0.77883471 0.76977093 0.76767931\n",
      " 0.77973109 0.77599603 0.77564739 0.77758969 0.78964148 0.79128491\n",
      " 0.79915337 0.79716137 0.79935262 0.80114545 0.85024904 0.91518925\n",
      " 0.89800799 0.89013945 0.90896415 0.90737056 0.88550801 0.8738048\n",
      " 0.87783865 0.87126498 0.88859564 0.89297813 0.89462157 0.90179282\n",
      " 0.9160857  0.92191239 0.94631475 0.9532869  0.96100597 0.9793327\n",
      " 0.97589643 0.97714145 1.         0.99521917 0.97126499 0.96618529\n",
      " 0.9480578  0.95293826 0.94875501 0.93809764 0.91842634 0.91165343\n",
      " 0.91070721 0.91583668 0.89985096 0.89621097 0.89166218 0.88691604\n",
      " 0.88223797 0.87767678 0.87321705 0.86883688]\n",
      "8 day output [[0.8645189]]\n",
      "9 day input [0.70836654 0.70249008 0.68037852 0.67485062 0.67226096 0.68311757\n",
      " 0.67629481 0.67141436 0.66190239 0.66857567 0.674751   0.66713148\n",
      " 0.66120518 0.66558767 0.66065737 0.69238053 0.70682273 0.69820721\n",
      " 0.68391433 0.66842628 0.65841635 0.64726094 0.65154381 0.65049804\n",
      " 0.66170322 0.66822711 0.67186255 0.69521913 0.69003988 0.67868531\n",
      " 0.68222112 0.74985061 0.73590637 0.73939242 0.73027894 0.73819724\n",
      " 0.74033864 0.75034865 0.75632473 0.76802787 0.77026897 0.76882471\n",
      " 0.7743526  0.77838645 0.77883471 0.76977093 0.76767931 0.77973109\n",
      " 0.77599603 0.77564739 0.77758969 0.78964148 0.79128491 0.79915337\n",
      " 0.79716137 0.79935262 0.80114545 0.85024904 0.91518925 0.89800799\n",
      " 0.89013945 0.90896415 0.90737056 0.88550801 0.8738048  0.87783865\n",
      " 0.87126498 0.88859564 0.89297813 0.89462157 0.90179282 0.9160857\n",
      " 0.92191239 0.94631475 0.9532869  0.96100597 0.9793327  0.97589643\n",
      " 0.97714145 1.         0.99521917 0.97126499 0.96618529 0.9480578\n",
      " 0.95293826 0.94875501 0.93809764 0.91842634 0.91165343 0.91070721\n",
      " 0.91583668 0.89985096 0.89621097 0.89166218 0.88691604 0.88223797\n",
      " 0.87767678 0.87321705 0.86883688 0.86451888]\n",
      "9 day output [[0.86025214]]\n",
      "10 day input [0.70249008 0.68037852 0.67485062 0.67226096 0.68311757 0.67629481\n",
      " 0.67141436 0.66190239 0.66857567 0.674751   0.66713148 0.66120518\n",
      " 0.66558767 0.66065737 0.69238053 0.70682273 0.69820721 0.68391433\n",
      " 0.66842628 0.65841635 0.64726094 0.65154381 0.65049804 0.66170322\n",
      " 0.66822711 0.67186255 0.69521913 0.69003988 0.67868531 0.68222112\n",
      " 0.74985061 0.73590637 0.73939242 0.73027894 0.73819724 0.74033864\n",
      " 0.75034865 0.75632473 0.76802787 0.77026897 0.76882471 0.7743526\n",
      " 0.77838645 0.77883471 0.76977093 0.76767931 0.77973109 0.77599603\n",
      " 0.77564739 0.77758969 0.78964148 0.79128491 0.79915337 0.79716137\n",
      " 0.79935262 0.80114545 0.85024904 0.91518925 0.89800799 0.89013945\n",
      " 0.90896415 0.90737056 0.88550801 0.8738048  0.87783865 0.87126498\n",
      " 0.88859564 0.89297813 0.89462157 0.90179282 0.9160857  0.92191239\n",
      " 0.94631475 0.9532869  0.96100597 0.9793327  0.97589643 0.97714145\n",
      " 1.         0.99521917 0.97126499 0.96618529 0.9480578  0.95293826\n",
      " 0.94875501 0.93809764 0.91842634 0.91165343 0.91070721 0.91583668\n",
      " 0.89985096 0.89621097 0.89166218 0.88691604 0.88223797 0.87767678\n",
      " 0.87321705 0.86883688 0.86451888 0.86025214]\n",
      "10 day output [[0.8560305]]\n",
      "11 day input [0.68037852 0.67485062 0.67226096 0.68311757 0.67629481 0.67141436\n",
      " 0.66190239 0.66857567 0.674751   0.66713148 0.66120518 0.66558767\n",
      " 0.66065737 0.69238053 0.70682273 0.69820721 0.68391433 0.66842628\n",
      " 0.65841635 0.64726094 0.65154381 0.65049804 0.66170322 0.66822711\n",
      " 0.67186255 0.69521913 0.69003988 0.67868531 0.68222112 0.74985061\n",
      " 0.73590637 0.73939242 0.73027894 0.73819724 0.74033864 0.75034865\n",
      " 0.75632473 0.76802787 0.77026897 0.76882471 0.7743526  0.77838645\n",
      " 0.77883471 0.76977093 0.76767931 0.77973109 0.77599603 0.77564739\n",
      " 0.77758969 0.78964148 0.79128491 0.79915337 0.79716137 0.79935262\n",
      " 0.80114545 0.85024904 0.91518925 0.89800799 0.89013945 0.90896415\n",
      " 0.90737056 0.88550801 0.8738048  0.87783865 0.87126498 0.88859564\n",
      " 0.89297813 0.89462157 0.90179282 0.9160857  0.92191239 0.94631475\n",
      " 0.9532869  0.96100597 0.9793327  0.97589643 0.97714145 1.\n",
      " 0.99521917 0.97126499 0.96618529 0.9480578  0.95293826 0.94875501\n",
      " 0.93809764 0.91842634 0.91165343 0.91070721 0.91583668 0.89985096\n",
      " 0.89621097 0.89166218 0.88691604 0.88223797 0.87767678 0.87321705\n",
      " 0.86883688 0.86451888 0.86025214 0.85603052]\n",
      "11 day output [[0.85185075]]\n",
      "12 day input [0.67485062 0.67226096 0.68311757 0.67629481 0.67141436 0.66190239\n",
      " 0.66857567 0.674751   0.66713148 0.66120518 0.66558767 0.66065737\n",
      " 0.69238053 0.70682273 0.69820721 0.68391433 0.66842628 0.65841635\n",
      " 0.64726094 0.65154381 0.65049804 0.66170322 0.66822711 0.67186255\n",
      " 0.69521913 0.69003988 0.67868531 0.68222112 0.74985061 0.73590637\n",
      " 0.73939242 0.73027894 0.73819724 0.74033864 0.75034865 0.75632473\n",
      " 0.76802787 0.77026897 0.76882471 0.7743526  0.77838645 0.77883471\n",
      " 0.76977093 0.76767931 0.77973109 0.77599603 0.77564739 0.77758969\n",
      " 0.78964148 0.79128491 0.79915337 0.79716137 0.79935262 0.80114545\n",
      " 0.85024904 0.91518925 0.89800799 0.89013945 0.90896415 0.90737056\n",
      " 0.88550801 0.8738048  0.87783865 0.87126498 0.88859564 0.89297813\n",
      " 0.89462157 0.90179282 0.9160857  0.92191239 0.94631475 0.9532869\n",
      " 0.96100597 0.9793327  0.97589643 0.97714145 1.         0.99521917\n",
      " 0.97126499 0.96618529 0.9480578  0.95293826 0.94875501 0.93809764\n",
      " 0.91842634 0.91165343 0.91070721 0.91583668 0.89985096 0.89621097\n",
      " 0.89166218 0.88691604 0.88223797 0.87767678 0.87321705 0.86883688\n",
      " 0.86451888 0.86025214 0.85603052 0.85185075]\n",
      "12 day output [[0.8477122]]\n",
      "13 day input [0.67226096 0.68311757 0.67629481 0.67141436 0.66190239 0.66857567\n",
      " 0.674751   0.66713148 0.66120518 0.66558767 0.66065737 0.69238053\n",
      " 0.70682273 0.69820721 0.68391433 0.66842628 0.65841635 0.64726094\n",
      " 0.65154381 0.65049804 0.66170322 0.66822711 0.67186255 0.69521913\n",
      " 0.69003988 0.67868531 0.68222112 0.74985061 0.73590637 0.73939242\n",
      " 0.73027894 0.73819724 0.74033864 0.75034865 0.75632473 0.76802787\n",
      " 0.77026897 0.76882471 0.7743526  0.77838645 0.77883471 0.76977093\n",
      " 0.76767931 0.77973109 0.77599603 0.77564739 0.77758969 0.78964148\n",
      " 0.79128491 0.79915337 0.79716137 0.79935262 0.80114545 0.85024904\n",
      " 0.91518925 0.89800799 0.89013945 0.90896415 0.90737056 0.88550801\n",
      " 0.8738048  0.87783865 0.87126498 0.88859564 0.89297813 0.89462157\n",
      " 0.90179282 0.9160857  0.92191239 0.94631475 0.9532869  0.96100597\n",
      " 0.9793327  0.97589643 0.97714145 1.         0.99521917 0.97126499\n",
      " 0.96618529 0.9480578  0.95293826 0.94875501 0.93809764 0.91842634\n",
      " 0.91165343 0.91070721 0.91583668 0.89985096 0.89621097 0.89166218\n",
      " 0.88691604 0.88223797 0.87767678 0.87321705 0.86883688 0.86451888\n",
      " 0.86025214 0.85603052 0.85185075 0.84771222]\n",
      "13 day output [[0.8436155]]\n",
      "14 day input [0.68311757 0.67629481 0.67141436 0.66190239 0.66857567 0.674751\n",
      " 0.66713148 0.66120518 0.66558767 0.66065737 0.69238053 0.70682273\n",
      " 0.69820721 0.68391433 0.66842628 0.65841635 0.64726094 0.65154381\n",
      " 0.65049804 0.66170322 0.66822711 0.67186255 0.69521913 0.69003988\n",
      " 0.67868531 0.68222112 0.74985061 0.73590637 0.73939242 0.73027894\n",
      " 0.73819724 0.74033864 0.75034865 0.75632473 0.76802787 0.77026897\n",
      " 0.76882471 0.7743526  0.77838645 0.77883471 0.76977093 0.76767931\n",
      " 0.77973109 0.77599603 0.77564739 0.77758969 0.78964148 0.79128491\n",
      " 0.79915337 0.79716137 0.79935262 0.80114545 0.85024904 0.91518925\n",
      " 0.89800799 0.89013945 0.90896415 0.90737056 0.88550801 0.8738048\n",
      " 0.87783865 0.87126498 0.88859564 0.89297813 0.89462157 0.90179282\n",
      " 0.9160857  0.92191239 0.94631475 0.9532869  0.96100597 0.9793327\n",
      " 0.97589643 0.97714145 1.         0.99521917 0.97126499 0.96618529\n",
      " 0.9480578  0.95293826 0.94875501 0.93809764 0.91842634 0.91165343\n",
      " 0.91070721 0.91583668 0.89985096 0.89621097 0.89166218 0.88691604\n",
      " 0.88223797 0.87767678 0.87321705 0.86883688 0.86451888 0.86025214\n",
      " 0.85603052 0.85185075 0.84771222 0.84361547]\n",
      "14 day output [[0.83956236]]\n",
      "15 day input [0.67629481 0.67141436 0.66190239 0.66857567 0.674751   0.66713148\n",
      " 0.66120518 0.66558767 0.66065737 0.69238053 0.70682273 0.69820721\n",
      " 0.68391433 0.66842628 0.65841635 0.64726094 0.65154381 0.65049804\n",
      " 0.66170322 0.66822711 0.67186255 0.69521913 0.69003988 0.67868531\n",
      " 0.68222112 0.74985061 0.73590637 0.73939242 0.73027894 0.73819724\n",
      " 0.74033864 0.75034865 0.75632473 0.76802787 0.77026897 0.76882471\n",
      " 0.7743526  0.77838645 0.77883471 0.76977093 0.76767931 0.77973109\n",
      " 0.77599603 0.77564739 0.77758969 0.78964148 0.79128491 0.79915337\n",
      " 0.79716137 0.79935262 0.80114545 0.85024904 0.91518925 0.89800799\n",
      " 0.89013945 0.90896415 0.90737056 0.88550801 0.8738048  0.87783865\n",
      " 0.87126498 0.88859564 0.89297813 0.89462157 0.90179282 0.9160857\n",
      " 0.92191239 0.94631475 0.9532869  0.96100597 0.9793327  0.97589643\n",
      " 0.97714145 1.         0.99521917 0.97126499 0.96618529 0.9480578\n",
      " 0.95293826 0.94875501 0.93809764 0.91842634 0.91165343 0.91070721\n",
      " 0.91583668 0.89985096 0.89621097 0.89166218 0.88691604 0.88223797\n",
      " 0.87767678 0.87321705 0.86883688 0.86451888 0.86025214 0.85603052\n",
      " 0.85185075 0.84771222 0.84361547 0.83956236]\n",
      "15 day output [[0.8355551]]\n",
      "16 day input [0.67141436 0.66190239 0.66857567 0.674751   0.66713148 0.66120518\n",
      " 0.66558767 0.66065737 0.69238053 0.70682273 0.69820721 0.68391433\n",
      " 0.66842628 0.65841635 0.64726094 0.65154381 0.65049804 0.66170322\n",
      " 0.66822711 0.67186255 0.69521913 0.69003988 0.67868531 0.68222112\n",
      " 0.74985061 0.73590637 0.73939242 0.73027894 0.73819724 0.74033864\n",
      " 0.75034865 0.75632473 0.76802787 0.77026897 0.76882471 0.7743526\n",
      " 0.77838645 0.77883471 0.76977093 0.76767931 0.77973109 0.77599603\n",
      " 0.77564739 0.77758969 0.78964148 0.79128491 0.79915337 0.79716137\n",
      " 0.79935262 0.80114545 0.85024904 0.91518925 0.89800799 0.89013945\n",
      " 0.90896415 0.90737056 0.88550801 0.8738048  0.87783865 0.87126498\n",
      " 0.88859564 0.89297813 0.89462157 0.90179282 0.9160857  0.92191239\n",
      " 0.94631475 0.9532869  0.96100597 0.9793327  0.97589643 0.97714145\n",
      " 1.         0.99521917 0.97126499 0.96618529 0.9480578  0.95293826\n",
      " 0.94875501 0.93809764 0.91842634 0.91165343 0.91070721 0.91583668\n",
      " 0.89985096 0.89621097 0.89166218 0.88691604 0.88223797 0.87767678\n",
      " 0.87321705 0.86883688 0.86451888 0.86025214 0.85603052 0.85185075\n",
      " 0.84771222 0.84361547 0.83956236 0.83555508]\n",
      "16 day output [[0.83159566]]\n",
      "17 day input [0.66190239 0.66857567 0.674751   0.66713148 0.66120518 0.66558767\n",
      " 0.66065737 0.69238053 0.70682273 0.69820721 0.68391433 0.66842628\n",
      " 0.65841635 0.64726094 0.65154381 0.65049804 0.66170322 0.66822711\n",
      " 0.67186255 0.69521913 0.69003988 0.67868531 0.68222112 0.74985061\n",
      " 0.73590637 0.73939242 0.73027894 0.73819724 0.74033864 0.75034865\n",
      " 0.75632473 0.76802787 0.77026897 0.76882471 0.7743526  0.77838645\n",
      " 0.77883471 0.76977093 0.76767931 0.77973109 0.77599603 0.77564739\n",
      " 0.77758969 0.78964148 0.79128491 0.79915337 0.79716137 0.79935262\n",
      " 0.80114545 0.85024904 0.91518925 0.89800799 0.89013945 0.90896415\n",
      " 0.90737056 0.88550801 0.8738048  0.87783865 0.87126498 0.88859564\n",
      " 0.89297813 0.89462157 0.90179282 0.9160857  0.92191239 0.94631475\n",
      " 0.9532869  0.96100597 0.9793327  0.97589643 0.97714145 1.\n",
      " 0.99521917 0.97126499 0.96618529 0.9480578  0.95293826 0.94875501\n",
      " 0.93809764 0.91842634 0.91165343 0.91070721 0.91583668 0.89985096\n",
      " 0.89621097 0.89166218 0.88691604 0.88223797 0.87767678 0.87321705\n",
      " 0.86883688 0.86451888 0.86025214 0.85603052 0.85185075 0.84771222\n",
      " 0.84361547 0.83956236 0.83555508 0.83159566]\n",
      "17 day output [[0.8276861]]\n",
      "18 day input [0.66857567 0.674751   0.66713148 0.66120518 0.66558767 0.66065737\n",
      " 0.69238053 0.70682273 0.69820721 0.68391433 0.66842628 0.65841635\n",
      " 0.64726094 0.65154381 0.65049804 0.66170322 0.66822711 0.67186255\n",
      " 0.69521913 0.69003988 0.67868531 0.68222112 0.74985061 0.73590637\n",
      " 0.73939242 0.73027894 0.73819724 0.74033864 0.75034865 0.75632473\n",
      " 0.76802787 0.77026897 0.76882471 0.7743526  0.77838645 0.77883471\n",
      " 0.76977093 0.76767931 0.77973109 0.77599603 0.77564739 0.77758969\n",
      " 0.78964148 0.79128491 0.79915337 0.79716137 0.79935262 0.80114545\n",
      " 0.85024904 0.91518925 0.89800799 0.89013945 0.90896415 0.90737056\n",
      " 0.88550801 0.8738048  0.87783865 0.87126498 0.88859564 0.89297813\n",
      " 0.89462157 0.90179282 0.9160857  0.92191239 0.94631475 0.9532869\n",
      " 0.96100597 0.9793327  0.97589643 0.97714145 1.         0.99521917\n",
      " 0.97126499 0.96618529 0.9480578  0.95293826 0.94875501 0.93809764\n",
      " 0.91842634 0.91165343 0.91070721 0.91583668 0.89985096 0.89621097\n",
      " 0.89166218 0.88691604 0.88223797 0.87767678 0.87321705 0.86883688\n",
      " 0.86451888 0.86025214 0.85603052 0.85185075 0.84771222 0.84361547\n",
      " 0.83956236 0.83555508 0.83159566 0.82768607]\n",
      "18 day output [[0.82382786]]\n",
      "19 day input [0.674751   0.66713148 0.66120518 0.66558767 0.66065737 0.69238053\n",
      " 0.70682273 0.69820721 0.68391433 0.66842628 0.65841635 0.64726094\n",
      " 0.65154381 0.65049804 0.66170322 0.66822711 0.67186255 0.69521913\n",
      " 0.69003988 0.67868531 0.68222112 0.74985061 0.73590637 0.73939242\n",
      " 0.73027894 0.73819724 0.74033864 0.75034865 0.75632473 0.76802787\n",
      " 0.77026897 0.76882471 0.7743526  0.77838645 0.77883471 0.76977093\n",
      " 0.76767931 0.77973109 0.77599603 0.77564739 0.77758969 0.78964148\n",
      " 0.79128491 0.79915337 0.79716137 0.79935262 0.80114545 0.85024904\n",
      " 0.91518925 0.89800799 0.89013945 0.90896415 0.90737056 0.88550801\n",
      " 0.8738048  0.87783865 0.87126498 0.88859564 0.89297813 0.89462157\n",
      " 0.90179282 0.9160857  0.92191239 0.94631475 0.9532869  0.96100597\n",
      " 0.9793327  0.97589643 0.97714145 1.         0.99521917 0.97126499\n",
      " 0.96618529 0.9480578  0.95293826 0.94875501 0.93809764 0.91842634\n",
      " 0.91165343 0.91070721 0.91583668 0.89985096 0.89621097 0.89166218\n",
      " 0.88691604 0.88223797 0.87767678 0.87321705 0.86883688 0.86451888\n",
      " 0.86025214 0.85603052 0.85185075 0.84771222 0.84361547 0.83956236\n",
      " 0.83555508 0.83159566 0.82768607 0.82382786]\n",
      "19 day output [[0.8200216]]\n",
      "20 day input [0.66713148 0.66120518 0.66558767 0.66065737 0.69238053 0.70682273\n",
      " 0.69820721 0.68391433 0.66842628 0.65841635 0.64726094 0.65154381\n",
      " 0.65049804 0.66170322 0.66822711 0.67186255 0.69521913 0.69003988\n",
      " 0.67868531 0.68222112 0.74985061 0.73590637 0.73939242 0.73027894\n",
      " 0.73819724 0.74033864 0.75034865 0.75632473 0.76802787 0.77026897\n",
      " 0.76882471 0.7743526  0.77838645 0.77883471 0.76977093 0.76767931\n",
      " 0.77973109 0.77599603 0.77564739 0.77758969 0.78964148 0.79128491\n",
      " 0.79915337 0.79716137 0.79935262 0.80114545 0.85024904 0.91518925\n",
      " 0.89800799 0.89013945 0.90896415 0.90737056 0.88550801 0.8738048\n",
      " 0.87783865 0.87126498 0.88859564 0.89297813 0.89462157 0.90179282\n",
      " 0.9160857  0.92191239 0.94631475 0.9532869  0.96100597 0.9793327\n",
      " 0.97589643 0.97714145 1.         0.99521917 0.97126499 0.96618529\n",
      " 0.9480578  0.95293826 0.94875501 0.93809764 0.91842634 0.91165343\n",
      " 0.91070721 0.91583668 0.89985096 0.89621097 0.89166218 0.88691604\n",
      " 0.88223797 0.87767678 0.87321705 0.86883688 0.86451888 0.86025214\n",
      " 0.85603052 0.85185075 0.84771222 0.84361547 0.83956236 0.83555508\n",
      " 0.83159566 0.82768607 0.82382786 0.82002163]\n",
      "20 day output [[0.8162681]]\n",
      "21 day input [0.66120518 0.66558767 0.66065737 0.69238053 0.70682273 0.69820721\n",
      " 0.68391433 0.66842628 0.65841635 0.64726094 0.65154381 0.65049804\n",
      " 0.66170322 0.66822711 0.67186255 0.69521913 0.69003988 0.67868531\n",
      " 0.68222112 0.74985061 0.73590637 0.73939242 0.73027894 0.73819724\n",
      " 0.74033864 0.75034865 0.75632473 0.76802787 0.77026897 0.76882471\n",
      " 0.7743526  0.77838645 0.77883471 0.76977093 0.76767931 0.77973109\n",
      " 0.77599603 0.77564739 0.77758969 0.78964148 0.79128491 0.79915337\n",
      " 0.79716137 0.79935262 0.80114545 0.85024904 0.91518925 0.89800799\n",
      " 0.89013945 0.90896415 0.90737056 0.88550801 0.8738048  0.87783865\n",
      " 0.87126498 0.88859564 0.89297813 0.89462157 0.90179282 0.9160857\n",
      " 0.92191239 0.94631475 0.9532869  0.96100597 0.9793327  0.97589643\n",
      " 0.97714145 1.         0.99521917 0.97126499 0.96618529 0.9480578\n",
      " 0.95293826 0.94875501 0.93809764 0.91842634 0.91165343 0.91070721\n",
      " 0.91583668 0.89985096 0.89621097 0.89166218 0.88691604 0.88223797\n",
      " 0.87767678 0.87321705 0.86883688 0.86451888 0.86025214 0.85603052\n",
      " 0.85185075 0.84771222 0.84361547 0.83956236 0.83555508 0.83159566\n",
      " 0.82768607 0.82382786 0.82002163 0.81626809]\n",
      "21 day output [[0.8125676]]\n",
      "22 day input [0.66558767 0.66065737 0.69238053 0.70682273 0.69820721 0.68391433\n",
      " 0.66842628 0.65841635 0.64726094 0.65154381 0.65049804 0.66170322\n",
      " 0.66822711 0.67186255 0.69521913 0.69003988 0.67868531 0.68222112\n",
      " 0.74985061 0.73590637 0.73939242 0.73027894 0.73819724 0.74033864\n",
      " 0.75034865 0.75632473 0.76802787 0.77026897 0.76882471 0.7743526\n",
      " 0.77838645 0.77883471 0.76977093 0.76767931 0.77973109 0.77599603\n",
      " 0.77564739 0.77758969 0.78964148 0.79128491 0.79915337 0.79716137\n",
      " 0.79935262 0.80114545 0.85024904 0.91518925 0.89800799 0.89013945\n",
      " 0.90896415 0.90737056 0.88550801 0.8738048  0.87783865 0.87126498\n",
      " 0.88859564 0.89297813 0.89462157 0.90179282 0.9160857  0.92191239\n",
      " 0.94631475 0.9532869  0.96100597 0.9793327  0.97589643 0.97714145\n",
      " 1.         0.99521917 0.97126499 0.96618529 0.9480578  0.95293826\n",
      " 0.94875501 0.93809764 0.91842634 0.91165343 0.91070721 0.91583668\n",
      " 0.89985096 0.89621097 0.89166218 0.88691604 0.88223797 0.87767678\n",
      " 0.87321705 0.86883688 0.86451888 0.86025214 0.85603052 0.85185075\n",
      " 0.84771222 0.84361547 0.83956236 0.83555508 0.83159566 0.82768607\n",
      " 0.82382786 0.82002163 0.81626809 0.81256759]\n",
      "22 day output [[0.80891913]]\n",
      "23 day input [0.66065737 0.69238053 0.70682273 0.69820721 0.68391433 0.66842628\n",
      " 0.65841635 0.64726094 0.65154381 0.65049804 0.66170322 0.66822711\n",
      " 0.67186255 0.69521913 0.69003988 0.67868531 0.68222112 0.74985061\n",
      " 0.73590637 0.73939242 0.73027894 0.73819724 0.74033864 0.75034865\n",
      " 0.75632473 0.76802787 0.77026897 0.76882471 0.7743526  0.77838645\n",
      " 0.77883471 0.76977093 0.76767931 0.77973109 0.77599603 0.77564739\n",
      " 0.77758969 0.78964148 0.79128491 0.79915337 0.79716137 0.79935262\n",
      " 0.80114545 0.85024904 0.91518925 0.89800799 0.89013945 0.90896415\n",
      " 0.90737056 0.88550801 0.8738048  0.87783865 0.87126498 0.88859564\n",
      " 0.89297813 0.89462157 0.90179282 0.9160857  0.92191239 0.94631475\n",
      " 0.9532869  0.96100597 0.9793327  0.97589643 0.97714145 1.\n",
      " 0.99521917 0.97126499 0.96618529 0.9480578  0.95293826 0.94875501\n",
      " 0.93809764 0.91842634 0.91165343 0.91070721 0.91583668 0.89985096\n",
      " 0.89621097 0.89166218 0.88691604 0.88223797 0.87767678 0.87321705\n",
      " 0.86883688 0.86451888 0.86025214 0.85603052 0.85185075 0.84771222\n",
      " 0.84361547 0.83956236 0.83555508 0.83159566 0.82768607 0.82382786\n",
      " 0.82002163 0.81626809 0.81256759 0.80891913]\n",
      "23 day output [[0.80532235]]\n",
      "24 day input [0.69238053 0.70682273 0.69820721 0.68391433 0.66842628 0.65841635\n",
      " 0.64726094 0.65154381 0.65049804 0.66170322 0.66822711 0.67186255\n",
      " 0.69521913 0.69003988 0.67868531 0.68222112 0.74985061 0.73590637\n",
      " 0.73939242 0.73027894 0.73819724 0.74033864 0.75034865 0.75632473\n",
      " 0.76802787 0.77026897 0.76882471 0.7743526  0.77838645 0.77883471\n",
      " 0.76977093 0.76767931 0.77973109 0.77599603 0.77564739 0.77758969\n",
      " 0.78964148 0.79128491 0.79915337 0.79716137 0.79935262 0.80114545\n",
      " 0.85024904 0.91518925 0.89800799 0.89013945 0.90896415 0.90737056\n",
      " 0.88550801 0.8738048  0.87783865 0.87126498 0.88859564 0.89297813\n",
      " 0.89462157 0.90179282 0.9160857  0.92191239 0.94631475 0.9532869\n",
      " 0.96100597 0.9793327  0.97589643 0.97714145 1.         0.99521917\n",
      " 0.97126499 0.96618529 0.9480578  0.95293826 0.94875501 0.93809764\n",
      " 0.91842634 0.91165343 0.91070721 0.91583668 0.89985096 0.89621097\n",
      " 0.89166218 0.88691604 0.88223797 0.87767678 0.87321705 0.86883688\n",
      " 0.86451888 0.86025214 0.85603052 0.85185075 0.84771222 0.84361547\n",
      " 0.83956236 0.83555508 0.83159566 0.82768607 0.82382786 0.82002163\n",
      " 0.81626809 0.81256759 0.80891913 0.80532235]\n",
      "24 day output [[0.80177623]]\n",
      "25 day input [0.70682273 0.69820721 0.68391433 0.66842628 0.65841635 0.64726094\n",
      " 0.65154381 0.65049804 0.66170322 0.66822711 0.67186255 0.69521913\n",
      " 0.69003988 0.67868531 0.68222112 0.74985061 0.73590637 0.73939242\n",
      " 0.73027894 0.73819724 0.74033864 0.75034865 0.75632473 0.76802787\n",
      " 0.77026897 0.76882471 0.7743526  0.77838645 0.77883471 0.76977093\n",
      " 0.76767931 0.77973109 0.77599603 0.77564739 0.77758969 0.78964148\n",
      " 0.79128491 0.79915337 0.79716137 0.79935262 0.80114545 0.85024904\n",
      " 0.91518925 0.89800799 0.89013945 0.90896415 0.90737056 0.88550801\n",
      " 0.8738048  0.87783865 0.87126498 0.88859564 0.89297813 0.89462157\n",
      " 0.90179282 0.9160857  0.92191239 0.94631475 0.9532869  0.96100597\n",
      " 0.9793327  0.97589643 0.97714145 1.         0.99521917 0.97126499\n",
      " 0.96618529 0.9480578  0.95293826 0.94875501 0.93809764 0.91842634\n",
      " 0.91165343 0.91070721 0.91583668 0.89985096 0.89621097 0.89166218\n",
      " 0.88691604 0.88223797 0.87767678 0.87321705 0.86883688 0.86451888\n",
      " 0.86025214 0.85603052 0.85185075 0.84771222 0.84361547 0.83956236\n",
      " 0.83555508 0.83159566 0.82768607 0.82382786 0.82002163 0.81626809\n",
      " 0.81256759 0.80891913 0.80532235 0.80177623]\n",
      "25 day output [[0.7982789]]\n",
      "26 day input [0.69820721 0.68391433 0.66842628 0.65841635 0.64726094 0.65154381\n",
      " 0.65049804 0.66170322 0.66822711 0.67186255 0.69521913 0.69003988\n",
      " 0.67868531 0.68222112 0.74985061 0.73590637 0.73939242 0.73027894\n",
      " 0.73819724 0.74033864 0.75034865 0.75632473 0.76802787 0.77026897\n",
      " 0.76882471 0.7743526  0.77838645 0.77883471 0.76977093 0.76767931\n",
      " 0.77973109 0.77599603 0.77564739 0.77758969 0.78964148 0.79128491\n",
      " 0.79915337 0.79716137 0.79935262 0.80114545 0.85024904 0.91518925\n",
      " 0.89800799 0.89013945 0.90896415 0.90737056 0.88550801 0.8738048\n",
      " 0.87783865 0.87126498 0.88859564 0.89297813 0.89462157 0.90179282\n",
      " 0.9160857  0.92191239 0.94631475 0.9532869  0.96100597 0.9793327\n",
      " 0.97589643 0.97714145 1.         0.99521917 0.97126499 0.96618529\n",
      " 0.9480578  0.95293826 0.94875501 0.93809764 0.91842634 0.91165343\n",
      " 0.91070721 0.91583668 0.89985096 0.89621097 0.89166218 0.88691604\n",
      " 0.88223797 0.87767678 0.87321705 0.86883688 0.86451888 0.86025214\n",
      " 0.85603052 0.85185075 0.84771222 0.84361547 0.83956236 0.83555508\n",
      " 0.83159566 0.82768607 0.82382786 0.82002163 0.81626809 0.81256759\n",
      " 0.80891913 0.80532235 0.80177623 0.79827893]\n",
      "26 day output [[0.79482967]]\n",
      "27 day input [0.68391433 0.66842628 0.65841635 0.64726094 0.65154381 0.65049804\n",
      " 0.66170322 0.66822711 0.67186255 0.69521913 0.69003988 0.67868531\n",
      " 0.68222112 0.74985061 0.73590637 0.73939242 0.73027894 0.73819724\n",
      " 0.74033864 0.75034865 0.75632473 0.76802787 0.77026897 0.76882471\n",
      " 0.7743526  0.77838645 0.77883471 0.76977093 0.76767931 0.77973109\n",
      " 0.77599603 0.77564739 0.77758969 0.78964148 0.79128491 0.79915337\n",
      " 0.79716137 0.79935262 0.80114545 0.85024904 0.91518925 0.89800799\n",
      " 0.89013945 0.90896415 0.90737056 0.88550801 0.8738048  0.87783865\n",
      " 0.87126498 0.88859564 0.89297813 0.89462157 0.90179282 0.9160857\n",
      " 0.92191239 0.94631475 0.9532869  0.96100597 0.9793327  0.97589643\n",
      " 0.97714145 1.         0.99521917 0.97126499 0.96618529 0.9480578\n",
      " 0.95293826 0.94875501 0.93809764 0.91842634 0.91165343 0.91070721\n",
      " 0.91583668 0.89985096 0.89621097 0.89166218 0.88691604 0.88223797\n",
      " 0.87767678 0.87321705 0.86883688 0.86451888 0.86025214 0.85603052\n",
      " 0.85185075 0.84771222 0.84361547 0.83956236 0.83555508 0.83159566\n",
      " 0.82768607 0.82382786 0.82002163 0.81626809 0.81256759 0.80891913\n",
      " 0.80532235 0.80177623 0.79827893 0.79482967]\n",
      "27 day output [[0.79142696]]\n",
      "28 day input [0.66842628 0.65841635 0.64726094 0.65154381 0.65049804 0.66170322\n",
      " 0.66822711 0.67186255 0.69521913 0.69003988 0.67868531 0.68222112\n",
      " 0.74985061 0.73590637 0.73939242 0.73027894 0.73819724 0.74033864\n",
      " 0.75034865 0.75632473 0.76802787 0.77026897 0.76882471 0.7743526\n",
      " 0.77838645 0.77883471 0.76977093 0.76767931 0.77973109 0.77599603\n",
      " 0.77564739 0.77758969 0.78964148 0.79128491 0.79915337 0.79716137\n",
      " 0.79935262 0.80114545 0.85024904 0.91518925 0.89800799 0.89013945\n",
      " 0.90896415 0.90737056 0.88550801 0.8738048  0.87783865 0.87126498\n",
      " 0.88859564 0.89297813 0.89462157 0.90179282 0.9160857  0.92191239\n",
      " 0.94631475 0.9532869  0.96100597 0.9793327  0.97589643 0.97714145\n",
      " 1.         0.99521917 0.97126499 0.96618529 0.9480578  0.95293826\n",
      " 0.94875501 0.93809764 0.91842634 0.91165343 0.91070721 0.91583668\n",
      " 0.89985096 0.89621097 0.89166218 0.88691604 0.88223797 0.87767678\n",
      " 0.87321705 0.86883688 0.86451888 0.86025214 0.85603052 0.85185075\n",
      " 0.84771222 0.84361547 0.83956236 0.83555508 0.83159566 0.82768607\n",
      " 0.82382786 0.82002163 0.81626809 0.81256759 0.80891913 0.80532235\n",
      " 0.80177623 0.79827893 0.79482967 0.79142696]\n",
      "28 day output [[0.7880693]]\n",
      "29 day input [0.65841635 0.64726094 0.65154381 0.65049804 0.66170322 0.66822711\n",
      " 0.67186255 0.69521913 0.69003988 0.67868531 0.68222112 0.74985061\n",
      " 0.73590637 0.73939242 0.73027894 0.73819724 0.74033864 0.75034865\n",
      " 0.75632473 0.76802787 0.77026897 0.76882471 0.7743526  0.77838645\n",
      " 0.77883471 0.76977093 0.76767931 0.77973109 0.77599603 0.77564739\n",
      " 0.77758969 0.78964148 0.79128491 0.79915337 0.79716137 0.79935262\n",
      " 0.80114545 0.85024904 0.91518925 0.89800799 0.89013945 0.90896415\n",
      " 0.90737056 0.88550801 0.8738048  0.87783865 0.87126498 0.88859564\n",
      " 0.89297813 0.89462157 0.90179282 0.9160857  0.92191239 0.94631475\n",
      " 0.9532869  0.96100597 0.9793327  0.97589643 0.97714145 1.\n",
      " 0.99521917 0.97126499 0.96618529 0.9480578  0.95293826 0.94875501\n",
      " 0.93809764 0.91842634 0.91165343 0.91070721 0.91583668 0.89985096\n",
      " 0.89621097 0.89166218 0.88691604 0.88223797 0.87767678 0.87321705\n",
      " 0.86883688 0.86451888 0.86025214 0.85603052 0.85185075 0.84771222\n",
      " 0.84361547 0.83956236 0.83555508 0.83159566 0.82768607 0.82382786\n",
      " 0.82002163 0.81626809 0.81256759 0.80891913 0.80532235 0.80177623\n",
      " 0.79827893 0.79482967 0.79142696 0.78806931]\n",
      "29 day output [[0.7847551]]\n",
      "[[0.8998509645462036], [0.8962109684944153], [0.8916621804237366], [0.8869160413742065], [0.88223797082901], [0.877676784992218], [0.8732170462608337], [0.8688368797302246], [0.8645188808441162], [0.8602521419525146], [0.8560305237770081], [0.8518507480621338], [0.8477122187614441], [0.8436154723167419], [0.8395623564720154], [0.8355550765991211], [0.8315956592559814], [0.827686071395874], [0.823827862739563], [0.8200216293334961], [0.8162680864334106], [0.8125675916671753], [0.8089191317558289], [0.8053223490715027], [0.8017762303352356], [0.7982789278030396], [0.7948296666145325], [0.791426956653595], [0.7880693078041077], [0.7847551107406616]]\n"
     ]
    }
   ],
   "source": [
    "#demonstrate prediction for next 30 days\n",
    "from numpy import array\n",
    "\n",
    "lst_output=[]\n",
    "n_steps=100\n",
    "i=0\n",
    "while(i<30):\n",
    "    if(len(temp_input)>100):\n",
    "        #print(temp_input)\n",
    "        x_input=np.array(temp_input[1:])\n",
    "        print(\"{} day input {}\".format(i,x_input))\n",
    "        x_input=x_input.reshape(1,-1)\n",
    "        x_input=x_input.reshape((1, n_steps,1))\n",
    "        #print(x_input)\n",
    "        yhat=model.predict(x_input,verbose=0)\n",
    "        print(\"{} day output {}\".format(i,yhat))\n",
    "        temp_input.extend(yhat[0].tolist())\n",
    "        temp_input=temp_input[1:]\n",
    "        #print(temp_input)\n",
    "        lst_output.extend(yhat.tolist())\n",
    "        i=i+1\n",
    "    else:\n",
    "        x_input = x_input.reshape((1, n_steps,1))\n",
    "        yhat=model.predict(x_input,verbose=0)\n",
    "        print(yhat[0])\n",
    "        temp_input.extend(yhat[0].tolist())\n",
    "        print(len(temp_input))\n",
    "        lst_output.extend(yhat.tolist())\n",
    "        i=i+1\n",
    "                                \n",
    "print(lst_output)"
   ]
  },
  {
   "cell_type": "code",
   "execution_count": 36,
   "id": "c3b49c7f",
   "metadata": {},
   "outputs": [],
   "source": [
    "day_new=np.arange(1,101)\n",
    "day_pred=np.arange(101,131)"
   ]
  },
  {
   "cell_type": "code",
   "execution_count": 37,
   "id": "6d3c1d63",
   "metadata": {},
   "outputs": [],
   "source": [
    "import matplotlib.pyplot as plt"
   ]
  },
  {
   "cell_type": "code",
   "execution_count": 38,
   "id": "8b042247",
   "metadata": {},
   "outputs": [
    {
     "data": {
      "text/plain": [
       "1760"
      ]
     },
     "execution_count": 38,
     "metadata": {},
     "output_type": "execute_result"
    }
   ],
   "source": [
    "len(df1)"
   ]
  },
  {
   "cell_type": "code",
   "execution_count": 39,
   "id": "b085fe96",
   "metadata": {},
   "outputs": [],
   "source": [
    "df3=df1.tolist()\n",
    "df3.extend(lst_output)"
   ]
  },
  {
   "cell_type": "code",
   "execution_count": 40,
   "id": "d17f3569",
   "metadata": {},
   "outputs": [
    {
     "data": {
      "text/plain": [
       "[<matplotlib.lines.Line2D at 0x2a95a9e0490>]"
      ]
     },
     "execution_count": 40,
     "metadata": {},
     "output_type": "execute_result"
    },
    {
     "data": {
      "image/png": "[encoded data removed]",
      "text/plain": [
       "<Figure size 640x480 with 1 Axes>"
      ]
     },
     "metadata": {},
     "output_type": "display_data"
    }
   ],
   "source": [
    "plt.plot(day_new,scaler.inverse_transform(df1[1660:]))\n",
    "plt.plot(day_pred,scaler.inverse_transform(lst_output))"
   ]
  },
  {
   "cell_type": "code",
   "execution_count": 41,
   "id": "e9a43381",
   "metadata": {},
   "outputs": [
    {
     "data": {
      "text/plain": [
       "[<matplotlib.lines.Line2D at 0x2a95a99d950>]"
      ]
     },
     "execution_count": 41,
     "metadata": {},
     "output_type": "execute_result"
    },
    {
     "data": {
      "image/png": "[encoded data removed]",
      "text/plain": [
       "<Figure size 640x480 with 1 Axes>"
      ]
     },
     "metadata": {},
     "output_type": "display_data"
    }
   ],
   "source": [
    "df3=df1.tolist()\n",
    "df3.extend(lst_output)\n",
    "plt.plot(df3[1500:])"
   ]
  },
  {
   "cell_type": "code",
   "execution_count": 42,
   "id": "b8243ba6",
   "metadata": {},
   "outputs": [
    {
     "name": "stderr",
     "output_type": "stream",
     "text": [
      "C:\\Users\\Hp\\anaconda3\\Lib\\site-packages\\yfinance\\utils.py:775: FutureWarning: The 'unit' keyword in TimedeltaIndex construction is deprecated and will be removed in a future version. Use pd.to_timedelta instead.\n",
      "  df.index += _pd.TimedeltaIndex(dst_error_hours, 'h')\n",
      "[*********************100%%**********************]  1 of 1 completed\n"
     ]
    }
   ],
   "source": [
    "start='2017-08-01'\n",
    "end='2024-07-31'\n",
    "stock='AMZN'\n",
    "\n",
    "data1=yf.download(stock,start,end)"
   ]
  },
  {
   "cell_type": "code",
   "execution_count": 43,
   "id": "1380b8f8",
   "metadata": {},
   "outputs": [],
   "source": [
    "df2=data1.reset_index()['High']"
   ]
  },
  {
   "cell_type": "code",
   "execution_count": 44,
   "id": "039ffa13",
   "metadata": {},
   "outputs": [
    {
     "data": {
      "text/plain": [
       "0        50.320000\n",
       "1        50.160500\n",
       "2        49.974998\n",
       "3        49.583500\n",
       "4        49.750000\n",
       "           ...    \n",
       "1755    185.449997\n",
       "1756    183.899994\n",
       "1757    183.190002\n",
       "1758    184.750000\n",
       "1759    185.860001\n",
       "Name: High, Length: 1760, dtype: float64"
      ]
     },
     "execution_count": 44,
     "metadata": {},
     "output_type": "execute_result"
    }
   ],
   "source": [
    "df2"
   ]
  },
  {
   "cell_type": "code",
   "execution_count": 45,
   "id": "264fbd38",
   "metadata": {},
   "outputs": [
    {
     "data": {
      "text/plain": [
       "[<matplotlib.lines.Line2D at 0x2a95a8dae10>]"
      ]
     },
     "execution_count": 45,
     "metadata": {},
     "output_type": "execute_result"
    },
    {
     "data": {
      "image/png": "[encoded data removed]",
      "text/plain": [
       "<Figure size 640x480 with 1 Axes>"
      ]
     },
     "metadata": {},
     "output_type": "display_data"
    }
   ],
   "source": [
    "import matplotlib.pyplot as plt\n",
    "plt.plot(df2)"
   ]
  },
  {
   "cell_type": "code",
   "execution_count": 46,
   "id": "bc3e6040",
   "metadata": {},
   "outputs": [],
   "source": [
    "from sklearn.preprocessing import MinMaxScaler\n",
    "scaler=MinMaxScaler(feature_range=(0,1))\n",
    "df2=scaler.fit_transform(np.array(df2).reshape(-1,1))"
   ]
  },
  {
   "cell_type": "code",
   "execution_count": 47,
   "id": "edfb6ad5",
   "metadata": {},
   "outputs": [
    {
     "data": {
      "text/plain": [
       "array([[0.01878473],\n",
       "       [0.01774746],\n",
       "       [0.01654109],\n",
       "       ...,\n",
       "       [0.88287592],\n",
       "       [0.89302102],\n",
       "       [0.90023967]])"
      ]
     },
     "execution_count": 47,
     "metadata": {},
     "output_type": "execute_result"
    }
   ],
   "source": [
    "df2"
   ]
  },
  {
   "cell_type": "code",
   "execution_count": 48,
   "id": "6d8071a8",
   "metadata": {},
   "outputs": [],
   "source": [
    "##splitting dataset into train and test split\n",
    "training_size=int(len(df2)*0.65)\n",
    "test_size=len(df2)-training_size\n",
    "train_data,test_data=df2[0:training_size,:],df2[training_size:len(df2),:1]"
   ]
  },
  {
   "cell_type": "code",
   "execution_count": 49,
   "id": "b0fd6b90",
   "metadata": {},
   "outputs": [
    {
     "data": {
      "text/plain": [
       "(1144, 616)"
      ]
     },
     "execution_count": 49,
     "metadata": {},
     "output_type": "execute_result"
    }
   ],
   "source": [
    "training_size,test_size"
   ]
  },
  {
   "cell_type": "code",
   "execution_count": 50,
   "id": "c7387ba2",
   "metadata": {},
   "outputs": [
    {
     "data": {
      "text/plain": [
       "array([[0.01878473],\n",
       "       [0.01774746],\n",
       "       [0.01654109],\n",
       "       ...,\n",
       "       [0.73672442],\n",
       "       [0.72556149],\n",
       "       [0.72197494]])"
      ]
     },
     "execution_count": 50,
     "metadata": {},
     "output_type": "execute_result"
    }
   ],
   "source": [
    "train_data"
   ]
  },
  {
   "cell_type": "code",
   "execution_count": 51,
   "id": "536a9718",
   "metadata": {},
   "outputs": [],
   "source": [
    "import numpy\n",
    "#convert an array of values into a matrix \n",
    "def create_dataset(dataset,time_step=1):\n",
    "    dataX,dataY=[],[]\n",
    "    for i in range(len(dataset)-time_step-1):\n",
    "        a=dataset[i:(i+time_step),0]\n",
    "        dataX.append(a)\n",
    "        dataY.append(dataset[i+time_step,0])\n",
    "    return numpy.array(dataX),numpy.array(dataY)"
   ]
  },
  {
   "cell_type": "code",
   "execution_count": 52,
   "id": "aa5387f3",
   "metadata": {},
   "outputs": [],
   "source": [
    "#reshape into X=t,t+1,t+2,t+3 and Y=t+4\n",
    "time_step=100\n",
    "X_train, y_train=create_dataset(train_data,time_step)\n",
    "X_test,y_test=create_dataset(test_data,time_step)"
   ]
  },
  {
   "cell_type": "code",
   "execution_count": 53,
   "id": "1ccb4f9c",
   "metadata": {},
   "outputs": [
    {
     "name": "stdout",
     "output_type": "stream",
     "text": [
      "[[0.01878473 0.01774746 0.01654109 ... 0.08003914 0.0794506  0.07881003]\n",
      " [0.01774746 0.01654109 0.01399507 ... 0.0794506  0.07881003 0.07496334]\n",
      " [0.01654109 0.01399507 0.01507786 ... 0.07881003 0.07496334 0.07348384]\n",
      " ...\n",
      " [0.82877183 0.8032757  0.79049677 ... 0.73986869 0.74956507 0.74372188]\n",
      " [0.8032757  0.79049677 0.79352078 ... 0.74956507 0.74372188 0.75700163]\n",
      " [0.79049677 0.79352078 0.80651434 ... 0.74372188 0.75700163 0.73672442]]\n"
     ]
    }
   ],
   "source": [
    "print(X_train)"
   ]
  },
  {
   "cell_type": "code",
   "execution_count": 54,
   "id": "87afa486",
   "metadata": {},
   "outputs": [
    {
     "name": "stdout",
     "output_type": "stream",
     "text": [
      "(1043, 100)\n",
      "(1043,)\n"
     ]
    },
    {
     "data": {
      "text/plain": [
       "(None, None)"
      ]
     },
     "execution_count": 54,
     "metadata": {},
     "output_type": "execute_result"
    }
   ],
   "source": [
    "print(X_train.shape),print(y_train.shape)"
   ]
  },
  {
   "cell_type": "code",
   "execution_count": 55,
   "id": "03d87a51",
   "metadata": {},
   "outputs": [
    {
     "name": "stdout",
     "output_type": "stream",
     "text": [
      "(515, 100)\n",
      "(515,)\n"
     ]
    },
    {
     "data": {
      "text/plain": [
       "(None, None)"
      ]
     },
     "execution_count": 55,
     "metadata": {},
     "output_type": "execute_result"
    }
   ],
   "source": [
    "print(X_test.shape),print(y_test.shape)"
   ]
  },
  {
   "cell_type": "code",
   "execution_count": 56,
   "id": "b86e0365",
   "metadata": {},
   "outputs": [],
   "source": [
    "# reshape input to be [samples, time steps, features] which is required for LSTM / 3D\n",
    "X_train=X_train.reshape(X_train.shape[0],X_train.shape[1],1)\n",
    "X_test=X_test.reshape(X_test.shape[0],X_test.shape[1],1)"
   ]
  },
  {
   "cell_type": "code",
   "execution_count": 57,
   "id": "1061dad9",
   "metadata": {},
   "outputs": [],
   "source": [
    "    model=Sequential()\n",
    "    model.add(LSTM(50,return_sequences=True,input_shape=(100,1)))\n",
    "    model.add(LSTM(50,return_sequences=True))\n",
    "    model.add(LSTM(50))\n",
    "    model.add(Dense(1))\n",
    "    model.compile(loss='mean_squared_error',optimizer='adam')"
   ]
  },
  {
   "cell_type": "code",
   "execution_count": 58,
   "id": "5c03dc86",
   "metadata": {},
   "outputs": [
    {
     "name": "stdout",
     "output_type": "stream",
     "text": [
      "Model: \"sequential_1\"\n",
      "_________________________________________________________________\n",
      " Layer (type)                Output Shape              Param #   \n",
      "=================================================================\n",
      " lstm_3 (LSTM)               (None, 100, 50)           10400     \n",
      "                                                                 \n",
      " lstm_4 (LSTM)               (None, 100, 50)           20200     \n",
      "                                                                 \n",
      " lstm_5 (LSTM)               (None, 50)                20200     \n",
      "                                                                 \n",
      " dense_1 (Dense)             (None, 1)                 51        \n",
      "                                                                 \n",
      "=================================================================\n",
      "Total params: 50851 (198.64 KB)\n",
      "Trainable params: 50851 (198.64 KB)\n",
      "Non-trainable params: 0 (0.00 Byte)\n",
      "_________________________________________________________________\n"
     ]
    }
   ],
   "source": [
    "model.summary()"
   ]
  },
  {
   "cell_type": "code",
   "execution_count": 59,
   "id": "f1019f44",
   "metadata": {},
   "outputs": [
    {
     "name": "stdout",
     "output_type": "stream",
     "text": [
      "Epoch 1/100\n",
      "17/17 [==============================] - 10s 225ms/step - loss: 0.0584 - val_loss: 0.0162\n",
      "Epoch 2/100\n",
      "17/17 [==============================] - 2s 121ms/step - loss: 0.0055 - val_loss: 0.0062\n",
      "Epoch 3/100\n",
      "17/17 [==============================] - 2s 127ms/step - loss: 0.0022 - val_loss: 0.0027\n",
      "Epoch 4/100\n",
      "17/17 [==============================] - 2s 128ms/step - loss: 0.0016 - val_loss: 0.0024\n",
      "Epoch 5/100\n",
      "17/17 [==============================] - 2s 130ms/step - loss: 0.0015 - val_loss: 0.0024\n",
      "Epoch 6/100\n",
      "17/17 [==============================] - 2s 128ms/step - loss: 0.0015 - val_loss: 0.0023\n",
      "Epoch 7/100\n",
      "17/17 [==============================] - 2s 130ms/step - loss: 0.0015 - val_loss: 0.0024\n",
      "Epoch 8/100\n",
      "17/17 [==============================] - 2s 134ms/step - loss: 0.0015 - val_loss: 0.0023\n",
      "Epoch 9/100\n",
      "17/17 [==============================] - 2s 130ms/step - loss: 0.0016 - val_loss: 0.0022\n",
      "Epoch 10/100\n",
      "17/17 [==============================] - 2s 128ms/step - loss: 0.0015 - val_loss: 0.0023\n",
      "Epoch 11/100\n",
      "17/17 [==============================] - 2s 129ms/step - loss: 0.0015 - val_loss: 0.0023\n",
      "Epoch 12/100\n",
      "17/17 [==============================] - 2s 127ms/step - loss: 0.0015 - val_loss: 0.0021\n",
      "Epoch 13/100\n",
      "17/17 [==============================] - 2s 125ms/step - loss: 0.0014 - val_loss: 0.0022\n",
      "Epoch 14/100\n",
      "17/17 [==============================] - 2s 127ms/step - loss: 0.0014 - val_loss: 0.0022\n",
      "Epoch 15/100\n",
      "17/17 [==============================] - 2s 133ms/step - loss: 0.0014 - val_loss: 0.0021\n",
      "Epoch 16/100\n",
      "17/17 [==============================] - 2s 130ms/step - loss: 0.0014 - val_loss: 0.0021\n",
      "Epoch 17/100\n",
      "17/17 [==============================] - 2s 128ms/step - loss: 0.0013 - val_loss: 0.0020\n",
      "Epoch 18/100\n",
      "17/17 [==============================] - 2s 126ms/step - loss: 0.0013 - val_loss: 0.0020\n",
      "Epoch 19/100\n",
      "17/17 [==============================] - 2s 126ms/step - loss: 0.0013 - val_loss: 0.0019\n",
      "Epoch 20/100\n",
      "17/17 [==============================] - 2s 128ms/step - loss: 0.0012 - val_loss: 0.0019\n",
      "Epoch 21/100\n",
      "17/17 [==============================] - 2s 126ms/step - loss: 0.0012 - val_loss: 0.0022\n",
      "Epoch 22/100\n",
      "17/17 [==============================] - 2s 132ms/step - loss: 0.0012 - val_loss: 0.0019\n",
      "Epoch 23/100\n",
      "17/17 [==============================] - 2s 132ms/step - loss: 0.0011 - val_loss: 0.0024\n",
      "Epoch 24/100\n",
      "17/17 [==============================] - 2s 129ms/step - loss: 0.0011 - val_loss: 0.0017\n",
      "Epoch 25/100\n",
      "17/17 [==============================] - 2s 126ms/step - loss: 0.0011 - val_loss: 0.0017\n",
      "Epoch 26/100\n",
      "17/17 [==============================] - 2s 126ms/step - loss: 0.0010 - val_loss: 0.0017\n",
      "Epoch 27/100\n",
      "17/17 [==============================] - 2s 128ms/step - loss: 9.9802e-04 - val_loss: 0.0017\n",
      "Epoch 28/100\n",
      "17/17 [==============================] - 2s 126ms/step - loss: 0.0010 - val_loss: 0.0016\n",
      "Epoch 29/100\n",
      "17/17 [==============================] - 2s 129ms/step - loss: 0.0010 - val_loss: 0.0016\n",
      "Epoch 30/100\n",
      "17/17 [==============================] - 2s 132ms/step - loss: 9.1150e-04 - val_loss: 0.0016\n",
      "Epoch 31/100\n",
      "17/17 [==============================] - 2s 128ms/step - loss: 9.4520e-04 - val_loss: 0.0016\n",
      "Epoch 32/100\n",
      "17/17 [==============================] - 2s 128ms/step - loss: 9.2946e-04 - val_loss: 0.0015\n",
      "Epoch 33/100\n",
      "17/17 [==============================] - 2s 126ms/step - loss: 9.0065e-04 - val_loss: 0.0015\n",
      "Epoch 34/100\n",
      "17/17 [==============================] - 2s 126ms/step - loss: 8.6043e-04 - val_loss: 0.0013\n",
      "Epoch 35/100\n",
      "17/17 [==============================] - 2s 126ms/step - loss: 8.5365e-04 - val_loss: 0.0015\n",
      "Epoch 36/100\n",
      "17/17 [==============================] - 2s 128ms/step - loss: 8.3673e-04 - val_loss: 0.0016\n",
      "Epoch 37/100\n",
      "17/17 [==============================] - 2s 132ms/step - loss: 8.3671e-04 - val_loss: 0.0013\n",
      "Epoch 38/100\n",
      "17/17 [==============================] - 2s 132ms/step - loss: 8.2513e-04 - val_loss: 0.0013\n",
      "Epoch 39/100\n",
      "17/17 [==============================] - 2s 129ms/step - loss: 7.8696e-04 - val_loss: 0.0013\n",
      "Epoch 40/100\n",
      "17/17 [==============================] - 2s 127ms/step - loss: 8.0598e-04 - val_loss: 0.0014\n",
      "Epoch 41/100\n",
      "17/17 [==============================] - 2s 126ms/step - loss: 8.6390e-04 - val_loss: 0.0017\n",
      "Epoch 42/100\n",
      "17/17 [==============================] - 2s 127ms/step - loss: 9.6369e-04 - val_loss: 0.0018\n",
      "Epoch 43/100\n",
      "17/17 [==============================] - 2s 126ms/step - loss: 9.1394e-04 - val_loss: 0.0013\n",
      "Epoch 44/100\n",
      "17/17 [==============================] - 2s 128ms/step - loss: 8.2054e-04 - val_loss: 0.0013\n",
      "Epoch 45/100\n",
      "17/17 [==============================] - 2s 133ms/step - loss: 7.9131e-04 - val_loss: 0.0014\n",
      "Epoch 46/100\n",
      "17/17 [==============================] - 2s 131ms/step - loss: 8.7943e-04 - val_loss: 0.0011\n",
      "Epoch 47/100\n",
      "17/17 [==============================] - 2s 124ms/step - loss: 7.8701e-04 - val_loss: 0.0012\n",
      "Epoch 48/100\n",
      "17/17 [==============================] - 2s 126ms/step - loss: 7.3227e-04 - val_loss: 0.0011\n",
      "Epoch 49/100\n",
      "17/17 [==============================] - 2s 127ms/step - loss: 7.2705e-04 - val_loss: 0.0013\n",
      "Epoch 50/100\n",
      "17/17 [==============================] - 2s 126ms/step - loss: 7.4156e-04 - val_loss: 0.0011\n",
      "Epoch 51/100\n",
      "17/17 [==============================] - 2s 126ms/step - loss: 7.1931e-04 - val_loss: 0.0012\n",
      "Epoch 52/100\n",
      "17/17 [==============================] - 2s 131ms/step - loss: 6.8987e-04 - val_loss: 0.0011\n",
      "Epoch 53/100\n",
      "17/17 [==============================] - 2s 129ms/step - loss: 7.1179e-04 - val_loss: 0.0011\n",
      "Epoch 54/100\n",
      "17/17 [==============================] - 2s 127ms/step - loss: 6.9937e-04 - val_loss: 0.0013\n",
      "Epoch 55/100\n",
      "17/17 [==============================] - 2s 125ms/step - loss: 8.0789e-04 - val_loss: 0.0014\n",
      "Epoch 56/100\n",
      "17/17 [==============================] - 2s 129ms/step - loss: 7.3726e-04 - val_loss: 0.0011\n",
      "Epoch 57/100\n",
      "17/17 [==============================] - 2s 126ms/step - loss: 6.5399e-04 - val_loss: 0.0011\n",
      "Epoch 58/100\n",
      "17/17 [==============================] - 2s 126ms/step - loss: 6.4684e-04 - val_loss: 0.0010\n",
      "Epoch 59/100\n",
      "17/17 [==============================] - 2s 130ms/step - loss: 7.5751e-04 - val_loss: 0.0011\n",
      "Epoch 60/100\n",
      "17/17 [==============================] - 2s 130ms/step - loss: 6.7827e-04 - val_loss: 0.0011\n",
      "Epoch 61/100\n",
      "17/17 [==============================] - 2s 128ms/step - loss: 6.1418e-04 - val_loss: 9.7959e-04\n",
      "Epoch 62/100\n",
      "17/17 [==============================] - 2s 127ms/step - loss: 6.3066e-04 - val_loss: 9.6005e-04\n",
      "Epoch 63/100\n",
      "17/17 [==============================] - 2s 125ms/step - loss: 6.3015e-04 - val_loss: 0.0013\n",
      "Epoch 64/100\n",
      "17/17 [==============================] - 2s 128ms/step - loss: 7.2864e-04 - val_loss: 9.5063e-04\n",
      "Epoch 65/100\n",
      "17/17 [==============================] - 2s 129ms/step - loss: 6.4072e-04 - val_loss: 0.0011\n",
      "Epoch 66/100\n",
      "17/17 [==============================] - 2s 127ms/step - loss: 6.3422e-04 - val_loss: 9.3189e-04\n",
      "Epoch 67/100\n",
      "17/17 [==============================] - 2s 131ms/step - loss: 5.9542e-04 - val_loss: 0.0011\n",
      "Epoch 68/100\n",
      "17/17 [==============================] - 2s 128ms/step - loss: 6.5783e-04 - val_loss: 9.5526e-04\n",
      "Epoch 69/100\n",
      "17/17 [==============================] - 2s 125ms/step - loss: 6.0502e-04 - val_loss: 9.3128e-04\n",
      "Epoch 70/100\n",
      "17/17 [==============================] - 2s 128ms/step - loss: 6.2844e-04 - val_loss: 8.6751e-04\n",
      "Epoch 71/100\n",
      "17/17 [==============================] - 2s 127ms/step - loss: 5.6623e-04 - val_loss: 8.6974e-04\n",
      "Epoch 72/100\n",
      "17/17 [==============================] - 2s 127ms/step - loss: 6.1686e-04 - val_loss: 8.3234e-04\n",
      "Epoch 73/100\n",
      "17/17 [==============================] - 2s 126ms/step - loss: 5.6635e-04 - val_loss: 9.5309e-04\n",
      "Epoch 74/100\n",
      "17/17 [==============================] - 2s 129ms/step - loss: 5.1999e-04 - val_loss: 7.7424e-04\n",
      "Epoch 75/100\n",
      "17/17 [==============================] - 2s 132ms/step - loss: 5.2639e-04 - val_loss: 9.8328e-04\n",
      "Epoch 76/100\n",
      "17/17 [==============================] - 2s 128ms/step - loss: 5.7640e-04 - val_loss: 0.0011\n",
      "Epoch 77/100\n",
      "17/17 [==============================] - 2s 127ms/step - loss: 5.8744e-04 - val_loss: 7.4957e-04\n",
      "Epoch 78/100\n",
      "17/17 [==============================] - 2s 128ms/step - loss: 6.2273e-04 - val_loss: 0.0014\n",
      "Epoch 79/100\n",
      "17/17 [==============================] - 2s 126ms/step - loss: 6.6346e-04 - val_loss: 8.3495e-04\n",
      "Epoch 80/100\n",
      "17/17 [==============================] - 2s 127ms/step - loss: 5.5038e-04 - val_loss: 7.6808e-04\n",
      "Epoch 81/100\n",
      "17/17 [==============================] - 2s 130ms/step - loss: 5.7104e-04 - val_loss: 0.0010\n",
      "Epoch 82/100\n",
      "17/17 [==============================] - 2s 130ms/step - loss: 5.3106e-04 - val_loss: 8.6502e-04\n",
      "Epoch 83/100\n",
      "17/17 [==============================] - 2s 127ms/step - loss: 5.2740e-04 - val_loss: 8.1069e-04\n",
      "Epoch 84/100\n",
      "17/17 [==============================] - 2s 127ms/step - loss: 4.8592e-04 - val_loss: 7.3997e-04\n",
      "Epoch 85/100\n",
      "17/17 [==============================] - 2s 126ms/step - loss: 4.7890e-04 - val_loss: 6.8689e-04\n",
      "Epoch 86/100\n",
      "17/17 [==============================] - 2s 126ms/step - loss: 5.0051e-04 - val_loss: 8.5695e-04\n",
      "Epoch 87/100\n",
      "17/17 [==============================] - 2s 126ms/step - loss: 4.3654e-04 - val_loss: 6.4153e-04\n",
      "Epoch 88/100\n",
      "17/17 [==============================] - 2s 127ms/step - loss: 4.5254e-04 - val_loss: 6.2362e-04\n",
      "Epoch 89/100\n",
      "17/17 [==============================] - 2s 131ms/step - loss: 4.3229e-04 - val_loss: 6.7083e-04\n",
      "Epoch 90/100\n",
      "17/17 [==============================] - 2s 131ms/step - loss: 4.5815e-04 - val_loss: 6.2705e-04\n",
      "Epoch 91/100\n",
      "17/17 [==============================] - 2s 128ms/step - loss: 4.7933e-04 - val_loss: 8.4407e-04\n",
      "Epoch 92/100\n",
      "17/17 [==============================] - 2s 127ms/step - loss: 5.1861e-04 - val_loss: 8.9685e-04\n",
      "Epoch 93/100\n",
      "17/17 [==============================] - 2s 125ms/step - loss: 4.2690e-04 - val_loss: 5.8609e-04\n",
      "Epoch 94/100\n",
      "17/17 [==============================] - 2s 128ms/step - loss: 4.3029e-04 - val_loss: 5.6549e-04\n",
      "Epoch 95/100\n",
      "17/17 [==============================] - 2s 126ms/step - loss: 4.0742e-04 - val_loss: 6.0013e-04\n",
      "Epoch 96/100\n",
      "17/17 [==============================] - 2s 130ms/step - loss: 4.5187e-04 - val_loss: 7.1500e-04\n",
      "Epoch 97/100\n",
      "17/17 [==============================] - 2s 130ms/step - loss: 4.0859e-04 - val_loss: 6.1088e-04\n",
      "Epoch 98/100\n",
      "17/17 [==============================] - 2s 127ms/step - loss: 4.1210e-04 - val_loss: 5.9409e-04\n",
      "Epoch 99/100\n",
      "17/17 [==============================] - 2s 126ms/step - loss: 4.1921e-04 - val_loss: 0.0012\n",
      "Epoch 100/100\n",
      "17/17 [==============================] - 2s 124ms/step - loss: 6.4800e-04 - val_loss: 8.7483e-04\n"
     ]
    },
    {
     "data": {
      "text/plain": [
       "<keras.src.callbacks.History at 0x2a95ac1f3d0>"
      ]
     },
     "execution_count": 59,
     "metadata": {},
     "output_type": "execute_result"
    }
   ],
   "source": [
    "model.fit(X_train,y_train,validation_data=(X_test,y_test),epochs=100,batch_size=64,verbose=1)"
   ]
  },
  {
   "cell_type": "code",
   "execution_count": 60,
   "id": "40312620",
   "metadata": {},
   "outputs": [
    {
     "name": "stdout",
     "output_type": "stream",
     "text": [
      "33/33 [==============================] - 2s 34ms/step\n",
      "17/17 [==============================] - 1s 31ms/step\n"
     ]
    }
   ],
   "source": [
    "### lets do the prediction and check performance metrices\n",
    "train_predict=model.predict(X_train)\n",
    "test_predict=model.predict(X_test)"
   ]
  },
  {
   "cell_type": "code",
   "execution_count": 61,
   "id": "16081607",
   "metadata": {},
   "outputs": [],
   "source": [
    "### Transform to original form\n",
    "train_predict=scaler.inverse_transform(train_predict)\n",
    "test_predict=scaler.inverse_transform(test_predict)"
   ]
  },
  {
   "cell_type": "code",
   "execution_count": 62,
   "id": "6f9cf883",
   "metadata": {},
   "outputs": [
    {
     "data": {
      "text/plain": [
       "128.3435689138363"
      ]
     },
     "execution_count": 62,
     "metadata": {},
     "output_type": "execute_result"
    }
   ],
   "source": [
    "import math\n",
    "from sklearn.metrics import mean_squared_error\n",
    "math.sqrt(mean_squared_error(y_train,train_predict))"
   ]
  },
  {
   "cell_type": "code",
   "execution_count": 63,
   "id": "eab26afe",
   "metadata": {},
   "outputs": [
    {
     "data": {
      "image/png": "[encoded data removed]",
      "text/plain": [
       "<Figure size 640x480 with 1 Axes>"
      ]
     },
     "metadata": {},
     "output_type": "display_data"
    }
   ],
   "source": [
    "#shift train prediction for plotting\n",
    "look_back=100\n",
    "trainPredictPlot=numpy.empty_like(df2)\n",
    "trainPredictPlot[:, :]=np.nan\n",
    "trainPredictPlot[look_back:len(train_predict)+look_back, :]=train_predict\n",
    "#shift test prediction for plotting\n",
    "testPredictPlot=numpy.empty_like(df2)\n",
    "testPredictPlot[:, :]=numpy.nan\n",
    "testPredictPlot[len(train_predict)+(look_back*2)+1:len(df2)-1,:]=test_predict\n",
    "#plot baseline and predictions\n",
    "plt.plot(scaler.inverse_transform(df2))\n",
    "plt.plot(trainPredictPlot)\n",
    "plt.plot(testPredictPlot)\n",
    "plt.legend([\"Original Data\",\"Train Predict\",\"Test Predict\"]);\n",
    "plt.show()"
   ]
  },
  {
   "cell_type": "code",
   "execution_count": 64,
   "id": "cdfffec4",
   "metadata": {},
   "outputs": [
    {
     "data": {
      "text/plain": [
       "616"
      ]
     },
     "execution_count": 64,
     "metadata": {},
     "output_type": "execute_result"
    }
   ],
   "source": [
    "len(test_data)"
   ]
  },
  {
   "cell_type": "code",
   "execution_count": 65,
   "id": "6fdbd2cc",
   "metadata": {},
   "outputs": [
    {
     "data": {
      "text/plain": [
       "(1, 100)"
      ]
     },
     "execution_count": 65,
     "metadata": {},
     "output_type": "execute_result"
    }
   ],
   "source": [
    "x_input=test_data[516:].reshape(1,-1)\n",
    "x_input.shape"
   ]
  },
  {
   "cell_type": "code",
   "execution_count": 66,
   "id": "81690723",
   "metadata": {},
   "outputs": [],
   "source": [
    "x_input=test_data[516:].reshape(1,-1)"
   ]
  },
  {
   "cell_type": "code",
   "execution_count": 67,
   "id": "385b7b41",
   "metadata": {},
   "outputs": [],
   "source": [
    "temp_input=list(x_input)\n",
    "temp_input=temp_input[0].tolist()"
   ]
  },
  {
   "cell_type": "code",
   "execution_count": 68,
   "id": "44039a54",
   "metadata": {},
   "outputs": [
    {
     "data": {
      "text/plain": [
       "[0.849058865519233,\n",
       " 0.8542614122446455,\n",
       " 0.8261672828449897,\n",
       " 0.8410597564260862,\n",
       " 0.8466525834649008,\n",
       " 0.8590738771210917,\n",
       " 0.8486685852058309,\n",
       " 0.8406045782421108,\n",
       " 0.8367025689658334,\n",
       " 0.8525705944821083,\n",
       " 0.8713650773394821,\n",
       " 0.8573179630235452,\n",
       " 0.8685687134361837,\n",
       " 0.8650568852410905,\n",
       " 0.8621304278999915,\n",
       " 0.8731859885398201,\n",
       " 0.8816402758169424,\n",
       " 0.8672679775226126,\n",
       " 0.8807948173195648,\n",
       " 0.8952972090516951,\n",
       " 0.9029060378314397,\n",
       " 0.909539314676006,\n",
       " 0.9098644986543987,\n",
       " 0.9029060378314397,\n",
       " 0.9256675270678822,\n",
       " 0.9166279681689837,\n",
       " 0.9186439699099138,\n",
       " 0.8935412949541484,\n",
       " 0.8918504771916111,\n",
       " 0.8776732694378735,\n",
       " 0.855627145261008,\n",
       " 0.8547816867636302,\n",
       " 0.8616751504837981,\n",
       " 0.8642115259759309,\n",
       " 0.8225904575471052,\n",
       " 0.8674631672954227,\n",
       " 0.8850870076770261,\n",
       " 0.8815752787141509,\n",
       " 0.8956222937978697,\n",
       " 0.8952972090516951,\n",
       " 0.9133112305144826,\n",
       " 0.919034150991098,\n",
       " 0.9267730732086432,\n",
       " 0.9169530529151586,\n",
       " 0.938218814929656,\n",
       " 0.9264478892302506,\n",
       " 0.9161726907527903,\n",
       " 0.9123357778115222,\n",
       " 0.9058324951725387,\n",
       " 0.9096694081138066,\n",
       " 0.8965978457330481,\n",
       " 0.9055073111941458,\n",
       " 0.8833310935794796,\n",
       " 0.8960775712140634,\n",
       " 0.8930860175379549,\n",
       " 0.8779984534162664,\n",
       " 0.8766978167349133,\n",
       " 0.8886638329749108,\n",
       " 0.8708448028204971,\n",
       " 0.8569928782773704,\n",
       " 0.8536761406228692,\n",
       " 0.860959884656439,\n",
       " 0.8718853518584668,\n",
       " 0.8946468410949096,\n",
       " 0.9030360320370223,\n",
       " 0.9091491335948219,\n",
       " 0.9126609617899151,\n",
       " 0.9164328776283917,\n",
       " 0.9120105938331295,\n",
       " 0.8863226472555878,\n",
       " 0.8946468410949096,\n",
       " 0.8900294667590551,\n",
       " 0.9044667621561762,\n",
       " 0.9224808828511819,\n",
       " 0.9336665369288111,\n",
       " 0.9196194226128742,\n",
       " 0.9583790308033922,\n",
       " 0.9911555316416936,\n",
       " 0.9847173453377194,\n",
       " 0.9811405200398349,\n",
       " 0.9949924445829617,\n",
       " 0.9923911712202553,\n",
       " 0.995772905977548,\n",
       " 1.0,\n",
       " 0.9959029994153485,\n",
       " 0.9929114457392403,\n",
       " 0.99395199477721,\n",
       " 0.9692395009026287,\n",
       " 0.9674185897022907,\n",
       " 0.9702149536055891,\n",
       " 0.9374384527672877,\n",
       " 0.925082156213888,\n",
       " 0.8941915636787159,\n",
       " 0.8950370221760937,\n",
       " 0.9231962479107587,\n",
       " 0.8975732984360085,\n",
       " 0.8874931904991403,\n",
       " 0.8828759153955041,\n",
       " 0.8930210204351636,\n",
       " 0.9002396681337241]"
      ]
     },
     "execution_count": 68,
     "metadata": {},
     "output_type": "execute_result"
    }
   ],
   "source": [
    "temp_input"
   ]
  },
  {
   "cell_type": "code",
   "execution_count": 69,
   "id": "63574471",
   "metadata": {},
   "outputs": [
    {
     "name": "stdout",
     "output_type": "stream",
     "text": [
      "[0.90253246]\n",
      "101\n",
      "1 day input [0.85426141 0.82616728 0.84105976 0.84665258 0.85907388 0.84866859\n",
      " 0.84060458 0.83670257 0.85257059 0.87136508 0.85731796 0.86856871\n",
      " 0.86505689 0.86213043 0.87318599 0.88164028 0.86726798 0.88079482\n",
      " 0.89529721 0.90290604 0.90953931 0.9098645  0.90290604 0.92566753\n",
      " 0.91662797 0.91864397 0.89354129 0.89185048 0.87767327 0.85562715\n",
      " 0.85478169 0.86167515 0.86421153 0.82259046 0.86746317 0.88508701\n",
      " 0.88157528 0.89562229 0.89529721 0.91331123 0.91903415 0.92677307\n",
      " 0.91695305 0.93821881 0.92644789 0.91617269 0.91233578 0.9058325\n",
      " 0.90966941 0.89659785 0.90550731 0.88333109 0.89607757 0.89308602\n",
      " 0.87799845 0.87669782 0.88866383 0.8708448  0.85699288 0.85367614\n",
      " 0.86095988 0.87188535 0.89464684 0.90303603 0.90914913 0.91266096\n",
      " 0.91643288 0.91201059 0.88632265 0.89464684 0.89002947 0.90446676\n",
      " 0.92248088 0.93366654 0.91961942 0.95837903 0.99115553 0.98471735\n",
      " 0.98114052 0.99499244 0.99239117 0.99577291 1.         0.995903\n",
      " 0.99291145 0.99395199 0.9692395  0.96741859 0.97021495 0.93743845\n",
      " 0.92508216 0.89419156 0.89503702 0.92319625 0.8975733  0.88749319\n",
      " 0.88287592 0.89302102 0.90023967 0.90253246]\n",
      "1 day output [[0.90764076]]\n",
      "2 day input [0.82616728 0.84105976 0.84665258 0.85907388 0.84866859 0.84060458\n",
      " 0.83670257 0.85257059 0.87136508 0.85731796 0.86856871 0.86505689\n",
      " 0.86213043 0.87318599 0.88164028 0.86726798 0.88079482 0.89529721\n",
      " 0.90290604 0.90953931 0.9098645  0.90290604 0.92566753 0.91662797\n",
      " 0.91864397 0.89354129 0.89185048 0.87767327 0.85562715 0.85478169\n",
      " 0.86167515 0.86421153 0.82259046 0.86746317 0.88508701 0.88157528\n",
      " 0.89562229 0.89529721 0.91331123 0.91903415 0.92677307 0.91695305\n",
      " 0.93821881 0.92644789 0.91617269 0.91233578 0.9058325  0.90966941\n",
      " 0.89659785 0.90550731 0.88333109 0.89607757 0.89308602 0.87799845\n",
      " 0.87669782 0.88866383 0.8708448  0.85699288 0.85367614 0.86095988\n",
      " 0.87188535 0.89464684 0.90303603 0.90914913 0.91266096 0.91643288\n",
      " 0.91201059 0.88632265 0.89464684 0.89002947 0.90446676 0.92248088\n",
      " 0.93366654 0.91961942 0.95837903 0.99115553 0.98471735 0.98114052\n",
      " 0.99499244 0.99239117 0.99577291 1.         0.995903   0.99291145\n",
      " 0.99395199 0.9692395  0.96741859 0.97021495 0.93743845 0.92508216\n",
      " 0.89419156 0.89503702 0.92319625 0.8975733  0.88749319 0.88287592\n",
      " 0.89302102 0.90023967 0.90253246 0.90764076]\n",
      "2 day output [[0.9121462]]\n",
      "3 day input [0.84105976 0.84665258 0.85907388 0.84866859 0.84060458 0.83670257\n",
      " 0.85257059 0.87136508 0.85731796 0.86856871 0.86505689 0.86213043\n",
      " 0.87318599 0.88164028 0.86726798 0.88079482 0.89529721 0.90290604\n",
      " 0.90953931 0.9098645  0.90290604 0.92566753 0.91662797 0.91864397\n",
      " 0.89354129 0.89185048 0.87767327 0.85562715 0.85478169 0.86167515\n",
      " 0.86421153 0.82259046 0.86746317 0.88508701 0.88157528 0.89562229\n",
      " 0.89529721 0.91331123 0.91903415 0.92677307 0.91695305 0.93821881\n",
      " 0.92644789 0.91617269 0.91233578 0.9058325  0.90966941 0.89659785\n",
      " 0.90550731 0.88333109 0.89607757 0.89308602 0.87799845 0.87669782\n",
      " 0.88866383 0.8708448  0.85699288 0.85367614 0.86095988 0.87188535\n",
      " 0.89464684 0.90303603 0.90914913 0.91266096 0.91643288 0.91201059\n",
      " 0.88632265 0.89464684 0.89002947 0.90446676 0.92248088 0.93366654\n",
      " 0.91961942 0.95837903 0.99115553 0.98471735 0.98114052 0.99499244\n",
      " 0.99239117 0.99577291 1.         0.995903   0.99291145 0.99395199\n",
      " 0.9692395  0.96741859 0.97021495 0.93743845 0.92508216 0.89419156\n",
      " 0.89503702 0.92319625 0.8975733  0.88749319 0.88287592 0.89302102\n",
      " 0.90023967 0.90253246 0.90764076 0.91214621]\n",
      "3 day output [[0.9161259]]\n",
      "4 day input [0.84665258 0.85907388 0.84866859 0.84060458 0.83670257 0.85257059\n",
      " 0.87136508 0.85731796 0.86856871 0.86505689 0.86213043 0.87318599\n",
      " 0.88164028 0.86726798 0.88079482 0.89529721 0.90290604 0.90953931\n",
      " 0.9098645  0.90290604 0.92566753 0.91662797 0.91864397 0.89354129\n",
      " 0.89185048 0.87767327 0.85562715 0.85478169 0.86167515 0.86421153\n",
      " 0.82259046 0.86746317 0.88508701 0.88157528 0.89562229 0.89529721\n",
      " 0.91331123 0.91903415 0.92677307 0.91695305 0.93821881 0.92644789\n",
      " 0.91617269 0.91233578 0.9058325  0.90966941 0.89659785 0.90550731\n",
      " 0.88333109 0.89607757 0.89308602 0.87799845 0.87669782 0.88866383\n",
      " 0.8708448  0.85699288 0.85367614 0.86095988 0.87188535 0.89464684\n",
      " 0.90303603 0.90914913 0.91266096 0.91643288 0.91201059 0.88632265\n",
      " 0.89464684 0.89002947 0.90446676 0.92248088 0.93366654 0.91961942\n",
      " 0.95837903 0.99115553 0.98471735 0.98114052 0.99499244 0.99239117\n",
      " 0.99577291 1.         0.995903   0.99291145 0.99395199 0.9692395\n",
      " 0.96741859 0.97021495 0.93743845 0.92508216 0.89419156 0.89503702\n",
      " 0.92319625 0.8975733  0.88749319 0.88287592 0.89302102 0.90023967\n",
      " 0.90253246 0.90764076 0.91214621 0.91612589]\n",
      "4 day output [[0.9196376]]\n",
      "5 day input [0.85907388 0.84866859 0.84060458 0.83670257 0.85257059 0.87136508\n",
      " 0.85731796 0.86856871 0.86505689 0.86213043 0.87318599 0.88164028\n",
      " 0.86726798 0.88079482 0.89529721 0.90290604 0.90953931 0.9098645\n",
      " 0.90290604 0.92566753 0.91662797 0.91864397 0.89354129 0.89185048\n",
      " 0.87767327 0.85562715 0.85478169 0.86167515 0.86421153 0.82259046\n",
      " 0.86746317 0.88508701 0.88157528 0.89562229 0.89529721 0.91331123\n",
      " 0.91903415 0.92677307 0.91695305 0.93821881 0.92644789 0.91617269\n",
      " 0.91233578 0.9058325  0.90966941 0.89659785 0.90550731 0.88333109\n",
      " 0.89607757 0.89308602 0.87799845 0.87669782 0.88866383 0.8708448\n",
      " 0.85699288 0.85367614 0.86095988 0.87188535 0.89464684 0.90303603\n",
      " 0.90914913 0.91266096 0.91643288 0.91201059 0.88632265 0.89464684\n",
      " 0.89002947 0.90446676 0.92248088 0.93366654 0.91961942 0.95837903\n",
      " 0.99115553 0.98471735 0.98114052 0.99499244 0.99239117 0.99577291\n",
      " 1.         0.995903   0.99291145 0.99395199 0.9692395  0.96741859\n",
      " 0.97021495 0.93743845 0.92508216 0.89419156 0.89503702 0.92319625\n",
      " 0.8975733  0.88749319 0.88287592 0.89302102 0.90023967 0.90253246\n",
      " 0.90764076 0.91214621 0.91612589 0.91963762]\n",
      "5 day output [[0.9227229]]\n",
      "6 day input [0.84866859 0.84060458 0.83670257 0.85257059 0.87136508 0.85731796\n",
      " 0.86856871 0.86505689 0.86213043 0.87318599 0.88164028 0.86726798\n",
      " 0.88079482 0.89529721 0.90290604 0.90953931 0.9098645  0.90290604\n",
      " 0.92566753 0.91662797 0.91864397 0.89354129 0.89185048 0.87767327\n",
      " 0.85562715 0.85478169 0.86167515 0.86421153 0.82259046 0.86746317\n",
      " 0.88508701 0.88157528 0.89562229 0.89529721 0.91331123 0.91903415\n",
      " 0.92677307 0.91695305 0.93821881 0.92644789 0.91617269 0.91233578\n",
      " 0.9058325  0.90966941 0.89659785 0.90550731 0.88333109 0.89607757\n",
      " 0.89308602 0.87799845 0.87669782 0.88866383 0.8708448  0.85699288\n",
      " 0.85367614 0.86095988 0.87188535 0.89464684 0.90303603 0.90914913\n",
      " 0.91266096 0.91643288 0.91201059 0.88632265 0.89464684 0.89002947\n",
      " 0.90446676 0.92248088 0.93366654 0.91961942 0.95837903 0.99115553\n",
      " 0.98471735 0.98114052 0.99499244 0.99239117 0.99577291 1.\n",
      " 0.995903   0.99291145 0.99395199 0.9692395  0.96741859 0.97021495\n",
      " 0.93743845 0.92508216 0.89419156 0.89503702 0.92319625 0.8975733\n",
      " 0.88749319 0.88287592 0.89302102 0.90023967 0.90253246 0.90764076\n",
      " 0.91214621 0.91612589 0.91963762 0.92272288]\n",
      "6 day output [[0.92544395]]\n",
      "7 day input [0.84060458 0.83670257 0.85257059 0.87136508 0.85731796 0.86856871\n",
      " 0.86505689 0.86213043 0.87318599 0.88164028 0.86726798 0.88079482\n",
      " 0.89529721 0.90290604 0.90953931 0.9098645  0.90290604 0.92566753\n",
      " 0.91662797 0.91864397 0.89354129 0.89185048 0.87767327 0.85562715\n",
      " 0.85478169 0.86167515 0.86421153 0.82259046 0.86746317 0.88508701\n",
      " 0.88157528 0.89562229 0.89529721 0.91331123 0.91903415 0.92677307\n",
      " 0.91695305 0.93821881 0.92644789 0.91617269 0.91233578 0.9058325\n",
      " 0.90966941 0.89659785 0.90550731 0.88333109 0.89607757 0.89308602\n",
      " 0.87799845 0.87669782 0.88866383 0.8708448  0.85699288 0.85367614\n",
      " 0.86095988 0.87188535 0.89464684 0.90303603 0.90914913 0.91266096\n",
      " 0.91643288 0.91201059 0.88632265 0.89464684 0.89002947 0.90446676\n",
      " 0.92248088 0.93366654 0.91961942 0.95837903 0.99115553 0.98471735\n",
      " 0.98114052 0.99499244 0.99239117 0.99577291 1.         0.995903\n",
      " 0.99291145 0.99395199 0.9692395  0.96741859 0.97021495 0.93743845\n",
      " 0.92508216 0.89419156 0.89503702 0.92319625 0.8975733  0.88749319\n",
      " 0.88287592 0.89302102 0.90023967 0.90253246 0.90764076 0.91214621\n",
      " 0.91612589 0.91963762 0.92272288 0.92544395]\n",
      "7 day output [[0.92787975]]\n",
      "8 day input [0.83670257 0.85257059 0.87136508 0.85731796 0.86856871 0.86505689\n",
      " 0.86213043 0.87318599 0.88164028 0.86726798 0.88079482 0.89529721\n",
      " 0.90290604 0.90953931 0.9098645  0.90290604 0.92566753 0.91662797\n",
      " 0.91864397 0.89354129 0.89185048 0.87767327 0.85562715 0.85478169\n",
      " 0.86167515 0.86421153 0.82259046 0.86746317 0.88508701 0.88157528\n",
      " 0.89562229 0.89529721 0.91331123 0.91903415 0.92677307 0.91695305\n",
      " 0.93821881 0.92644789 0.91617269 0.91233578 0.9058325  0.90966941\n",
      " 0.89659785 0.90550731 0.88333109 0.89607757 0.89308602 0.87799845\n",
      " 0.87669782 0.88866383 0.8708448  0.85699288 0.85367614 0.86095988\n",
      " 0.87188535 0.89464684 0.90303603 0.90914913 0.91266096 0.91643288\n",
      " 0.91201059 0.88632265 0.89464684 0.89002947 0.90446676 0.92248088\n",
      " 0.93366654 0.91961942 0.95837903 0.99115553 0.98471735 0.98114052\n",
      " 0.99499244 0.99239117 0.99577291 1.         0.995903   0.99291145\n",
      " 0.99395199 0.9692395  0.96741859 0.97021495 0.93743845 0.92508216\n",
      " 0.89419156 0.89503702 0.92319625 0.8975733  0.88749319 0.88287592\n",
      " 0.89302102 0.90023967 0.90253246 0.90764076 0.91214621 0.91612589\n",
      " 0.91963762 0.92272288 0.92544395 0.92787975]\n",
      "8 day output [[0.9301076]]\n",
      "9 day input [0.85257059 0.87136508 0.85731796 0.86856871 0.86505689 0.86213043\n",
      " 0.87318599 0.88164028 0.86726798 0.88079482 0.89529721 0.90290604\n",
      " 0.90953931 0.9098645  0.90290604 0.92566753 0.91662797 0.91864397\n",
      " 0.89354129 0.89185048 0.87767327 0.85562715 0.85478169 0.86167515\n",
      " 0.86421153 0.82259046 0.86746317 0.88508701 0.88157528 0.89562229\n",
      " 0.89529721 0.91331123 0.91903415 0.92677307 0.91695305 0.93821881\n",
      " 0.92644789 0.91617269 0.91233578 0.9058325  0.90966941 0.89659785\n",
      " 0.90550731 0.88333109 0.89607757 0.89308602 0.87799845 0.87669782\n",
      " 0.88866383 0.8708448  0.85699288 0.85367614 0.86095988 0.87188535\n",
      " 0.89464684 0.90303603 0.90914913 0.91266096 0.91643288 0.91201059\n",
      " 0.88632265 0.89464684 0.89002947 0.90446676 0.92248088 0.93366654\n",
      " 0.91961942 0.95837903 0.99115553 0.98471735 0.98114052 0.99499244\n",
      " 0.99239117 0.99577291 1.         0.995903   0.99291145 0.99395199\n",
      " 0.9692395  0.96741859 0.97021495 0.93743845 0.92508216 0.89419156\n",
      " 0.89503702 0.92319625 0.8975733  0.88749319 0.88287592 0.89302102\n",
      " 0.90023967 0.90253246 0.90764076 0.91214621 0.91612589 0.91963762\n",
      " 0.92272288 0.92544395 0.92787975 0.93010759]\n",
      "9 day output [[0.93219125]]\n",
      "10 day input [0.87136508 0.85731796 0.86856871 0.86505689 0.86213043 0.87318599\n",
      " 0.88164028 0.86726798 0.88079482 0.89529721 0.90290604 0.90953931\n",
      " 0.9098645  0.90290604 0.92566753 0.91662797 0.91864397 0.89354129\n",
      " 0.89185048 0.87767327 0.85562715 0.85478169 0.86167515 0.86421153\n",
      " 0.82259046 0.86746317 0.88508701 0.88157528 0.89562229 0.89529721\n",
      " 0.91331123 0.91903415 0.92677307 0.91695305 0.93821881 0.92644789\n",
      " 0.91617269 0.91233578 0.9058325  0.90966941 0.89659785 0.90550731\n",
      " 0.88333109 0.89607757 0.89308602 0.87799845 0.87669782 0.88866383\n",
      " 0.8708448  0.85699288 0.85367614 0.86095988 0.87188535 0.89464684\n",
      " 0.90303603 0.90914913 0.91266096 0.91643288 0.91201059 0.88632265\n",
      " 0.89464684 0.89002947 0.90446676 0.92248088 0.93366654 0.91961942\n",
      " 0.95837903 0.99115553 0.98471735 0.98114052 0.99499244 0.99239117\n",
      " 0.99577291 1.         0.995903   0.99291145 0.99395199 0.9692395\n",
      " 0.96741859 0.97021495 0.93743845 0.92508216 0.89419156 0.89503702\n",
      " 0.92319625 0.8975733  0.88749319 0.88287592 0.89302102 0.90023967\n",
      " 0.90253246 0.90764076 0.91214621 0.91612589 0.91963762 0.92272288\n",
      " 0.92544395 0.92787975 0.93010759 0.93219125]\n",
      "10 day output [[0.93417335]]\n",
      "11 day input [0.85731796 0.86856871 0.86505689 0.86213043 0.87318599 0.88164028\n",
      " 0.86726798 0.88079482 0.89529721 0.90290604 0.90953931 0.9098645\n",
      " 0.90290604 0.92566753 0.91662797 0.91864397 0.89354129 0.89185048\n",
      " 0.87767327 0.85562715 0.85478169 0.86167515 0.86421153 0.82259046\n",
      " 0.86746317 0.88508701 0.88157528 0.89562229 0.89529721 0.91331123\n",
      " 0.91903415 0.92677307 0.91695305 0.93821881 0.92644789 0.91617269\n",
      " 0.91233578 0.9058325  0.90966941 0.89659785 0.90550731 0.88333109\n",
      " 0.89607757 0.89308602 0.87799845 0.87669782 0.88866383 0.8708448\n",
      " 0.85699288 0.85367614 0.86095988 0.87188535 0.89464684 0.90303603\n",
      " 0.90914913 0.91266096 0.91643288 0.91201059 0.88632265 0.89464684\n",
      " 0.89002947 0.90446676 0.92248088 0.93366654 0.91961942 0.95837903\n",
      " 0.99115553 0.98471735 0.98114052 0.99499244 0.99239117 0.99577291\n",
      " 1.         0.995903   0.99291145 0.99395199 0.9692395  0.96741859\n",
      " 0.97021495 0.93743845 0.92508216 0.89419156 0.89503702 0.92319625\n",
      " 0.8975733  0.88749319 0.88287592 0.89302102 0.90023967 0.90253246\n",
      " 0.90764076 0.91214621 0.91612589 0.91963762 0.92272288 0.92544395\n",
      " 0.92787975 0.93010759 0.93219125 0.93417335]\n",
      "11 day output [[0.9360764]]\n",
      "12 day input [0.86856871 0.86505689 0.86213043 0.87318599 0.88164028 0.86726798\n",
      " 0.88079482 0.89529721 0.90290604 0.90953931 0.9098645  0.90290604\n",
      " 0.92566753 0.91662797 0.91864397 0.89354129 0.89185048 0.87767327\n",
      " 0.85562715 0.85478169 0.86167515 0.86421153 0.82259046 0.86746317\n",
      " 0.88508701 0.88157528 0.89562229 0.89529721 0.91331123 0.91903415\n",
      " 0.92677307 0.91695305 0.93821881 0.92644789 0.91617269 0.91233578\n",
      " 0.9058325  0.90966941 0.89659785 0.90550731 0.88333109 0.89607757\n",
      " 0.89308602 0.87799845 0.87669782 0.88866383 0.8708448  0.85699288\n",
      " 0.85367614 0.86095988 0.87188535 0.89464684 0.90303603 0.90914913\n",
      " 0.91266096 0.91643288 0.91201059 0.88632265 0.89464684 0.89002947\n",
      " 0.90446676 0.92248088 0.93366654 0.91961942 0.95837903 0.99115553\n",
      " 0.98471735 0.98114052 0.99499244 0.99239117 0.99577291 1.\n",
      " 0.995903   0.99291145 0.99395199 0.9692395  0.96741859 0.97021495\n",
      " 0.93743845 0.92508216 0.89419156 0.89503702 0.92319625 0.8975733\n",
      " 0.88749319 0.88287592 0.89302102 0.90023967 0.90253246 0.90764076\n",
      " 0.91214621 0.91612589 0.91963762 0.92272288 0.92544395 0.92787975\n",
      " 0.93010759 0.93219125 0.93417335 0.9360764 ]\n",
      "12 day output [[0.93790466]]\n",
      "13 day input [0.86505689 0.86213043 0.87318599 0.88164028 0.86726798 0.88079482\n",
      " 0.89529721 0.90290604 0.90953931 0.9098645  0.90290604 0.92566753\n",
      " 0.91662797 0.91864397 0.89354129 0.89185048 0.87767327 0.85562715\n",
      " 0.85478169 0.86167515 0.86421153 0.82259046 0.86746317 0.88508701\n",
      " 0.88157528 0.89562229 0.89529721 0.91331123 0.91903415 0.92677307\n",
      " 0.91695305 0.93821881 0.92644789 0.91617269 0.91233578 0.9058325\n",
      " 0.90966941 0.89659785 0.90550731 0.88333109 0.89607757 0.89308602\n",
      " 0.87799845 0.87669782 0.88866383 0.8708448  0.85699288 0.85367614\n",
      " 0.86095988 0.87188535 0.89464684 0.90303603 0.90914913 0.91266096\n",
      " 0.91643288 0.91201059 0.88632265 0.89464684 0.89002947 0.90446676\n",
      " 0.92248088 0.93366654 0.91961942 0.95837903 0.99115553 0.98471735\n",
      " 0.98114052 0.99499244 0.99239117 0.99577291 1.         0.995903\n",
      " 0.99291145 0.99395199 0.9692395  0.96741859 0.97021495 0.93743845\n",
      " 0.92508216 0.89419156 0.89503702 0.92319625 0.8975733  0.88749319\n",
      " 0.88287592 0.89302102 0.90023967 0.90253246 0.90764076 0.91214621\n",
      " 0.91612589 0.91963762 0.92272288 0.92544395 0.92787975 0.93010759\n",
      " 0.93219125 0.93417335 0.9360764  0.93790466]\n",
      "13 day output [[0.9396488]]\n",
      "14 day input [0.86213043 0.87318599 0.88164028 0.86726798 0.88079482 0.89529721\n",
      " 0.90290604 0.90953931 0.9098645  0.90290604 0.92566753 0.91662797\n",
      " 0.91864397 0.89354129 0.89185048 0.87767327 0.85562715 0.85478169\n",
      " 0.86167515 0.86421153 0.82259046 0.86746317 0.88508701 0.88157528\n",
      " 0.89562229 0.89529721 0.91331123 0.91903415 0.92677307 0.91695305\n",
      " 0.93821881 0.92644789 0.91617269 0.91233578 0.9058325  0.90966941\n",
      " 0.89659785 0.90550731 0.88333109 0.89607757 0.89308602 0.87799845\n",
      " 0.87669782 0.88866383 0.8708448  0.85699288 0.85367614 0.86095988\n",
      " 0.87188535 0.89464684 0.90303603 0.90914913 0.91266096 0.91643288\n",
      " 0.91201059 0.88632265 0.89464684 0.89002947 0.90446676 0.92248088\n",
      " 0.93366654 0.91961942 0.95837903 0.99115553 0.98471735 0.98114052\n",
      " 0.99499244 0.99239117 0.99577291 1.         0.995903   0.99291145\n",
      " 0.99395199 0.9692395  0.96741859 0.97021495 0.93743845 0.92508216\n",
      " 0.89419156 0.89503702 0.92319625 0.8975733  0.88749319 0.88287592\n",
      " 0.89302102 0.90023967 0.90253246 0.90764076 0.91214621 0.91612589\n",
      " 0.91963762 0.92272288 0.92544395 0.92787975 0.93010759 0.93219125\n",
      " 0.93417335 0.9360764  0.93790466 0.93964881]\n",
      "14 day output [[0.94129306]]\n",
      "15 day input [0.87318599 0.88164028 0.86726798 0.88079482 0.89529721 0.90290604\n",
      " 0.90953931 0.9098645  0.90290604 0.92566753 0.91662797 0.91864397\n",
      " 0.89354129 0.89185048 0.87767327 0.85562715 0.85478169 0.86167515\n",
      " 0.86421153 0.82259046 0.86746317 0.88508701 0.88157528 0.89562229\n",
      " 0.89529721 0.91331123 0.91903415 0.92677307 0.91695305 0.93821881\n",
      " 0.92644789 0.91617269 0.91233578 0.9058325  0.90966941 0.89659785\n",
      " 0.90550731 0.88333109 0.89607757 0.89308602 0.87799845 0.87669782\n",
      " 0.88866383 0.8708448  0.85699288 0.85367614 0.86095988 0.87188535\n",
      " 0.89464684 0.90303603 0.90914913 0.91266096 0.91643288 0.91201059\n",
      " 0.88632265 0.89464684 0.89002947 0.90446676 0.92248088 0.93366654\n",
      " 0.91961942 0.95837903 0.99115553 0.98471735 0.98114052 0.99499244\n",
      " 0.99239117 0.99577291 1.         0.995903   0.99291145 0.99395199\n",
      " 0.9692395  0.96741859 0.97021495 0.93743845 0.92508216 0.89419156\n",
      " 0.89503702 0.92319625 0.8975733  0.88749319 0.88287592 0.89302102\n",
      " 0.90023967 0.90253246 0.90764076 0.91214621 0.91612589 0.91963762\n",
      " 0.92272288 0.92544395 0.92787975 0.93010759 0.93219125 0.93417335\n",
      " 0.9360764  0.93790466 0.93964881 0.94129306]\n",
      "15 day output [[0.94281745]]\n",
      "16 day input [0.88164028 0.86726798 0.88079482 0.89529721 0.90290604 0.90953931\n",
      " 0.9098645  0.90290604 0.92566753 0.91662797 0.91864397 0.89354129\n",
      " 0.89185048 0.87767327 0.85562715 0.85478169 0.86167515 0.86421153\n",
      " 0.82259046 0.86746317 0.88508701 0.88157528 0.89562229 0.89529721\n",
      " 0.91331123 0.91903415 0.92677307 0.91695305 0.93821881 0.92644789\n",
      " 0.91617269 0.91233578 0.9058325  0.90966941 0.89659785 0.90550731\n",
      " 0.88333109 0.89607757 0.89308602 0.87799845 0.87669782 0.88866383\n",
      " 0.8708448  0.85699288 0.85367614 0.86095988 0.87188535 0.89464684\n",
      " 0.90303603 0.90914913 0.91266096 0.91643288 0.91201059 0.88632265\n",
      " 0.89464684 0.89002947 0.90446676 0.92248088 0.93366654 0.91961942\n",
      " 0.95837903 0.99115553 0.98471735 0.98114052 0.99499244 0.99239117\n",
      " 0.99577291 1.         0.995903   0.99291145 0.99395199 0.9692395\n",
      " 0.96741859 0.97021495 0.93743845 0.92508216 0.89419156 0.89503702\n",
      " 0.92319625 0.8975733  0.88749319 0.88287592 0.89302102 0.90023967\n",
      " 0.90253246 0.90764076 0.91214621 0.91612589 0.91963762 0.92272288\n",
      " 0.92544395 0.92787975 0.93010759 0.93219125 0.93417335 0.9360764\n",
      " 0.93790466 0.93964881 0.94129306 0.94281745]\n",
      "16 day output [[0.9442047]]\n",
      "17 day input [0.86726798 0.88079482 0.89529721 0.90290604 0.90953931 0.9098645\n",
      " 0.90290604 0.92566753 0.91662797 0.91864397 0.89354129 0.89185048\n",
      " 0.87767327 0.85562715 0.85478169 0.86167515 0.86421153 0.82259046\n",
      " 0.86746317 0.88508701 0.88157528 0.89562229 0.89529721 0.91331123\n",
      " 0.91903415 0.92677307 0.91695305 0.93821881 0.92644789 0.91617269\n",
      " 0.91233578 0.9058325  0.90966941 0.89659785 0.90550731 0.88333109\n",
      " 0.89607757 0.89308602 0.87799845 0.87669782 0.88866383 0.8708448\n",
      " 0.85699288 0.85367614 0.86095988 0.87188535 0.89464684 0.90303603\n",
      " 0.90914913 0.91266096 0.91643288 0.91201059 0.88632265 0.89464684\n",
      " 0.89002947 0.90446676 0.92248088 0.93366654 0.91961942 0.95837903\n",
      " 0.99115553 0.98471735 0.98114052 0.99499244 0.99239117 0.99577291\n",
      " 1.         0.995903   0.99291145 0.99395199 0.9692395  0.96741859\n",
      " 0.97021495 0.93743845 0.92508216 0.89419156 0.89503702 0.92319625\n",
      " 0.8975733  0.88749319 0.88287592 0.89302102 0.90023967 0.90253246\n",
      " 0.90764076 0.91214621 0.91612589 0.91963762 0.92272288 0.92544395\n",
      " 0.92787975 0.93010759 0.93219125 0.93417335 0.9360764  0.93790466\n",
      " 0.93964881 0.94129306 0.94281745 0.94420469]\n",
      "17 day output [[0.94544023]]\n",
      "18 day input [0.88079482 0.89529721 0.90290604 0.90953931 0.9098645  0.90290604\n",
      " 0.92566753 0.91662797 0.91864397 0.89354129 0.89185048 0.87767327\n",
      " 0.85562715 0.85478169 0.86167515 0.86421153 0.82259046 0.86746317\n",
      " 0.88508701 0.88157528 0.89562229 0.89529721 0.91331123 0.91903415\n",
      " 0.92677307 0.91695305 0.93821881 0.92644789 0.91617269 0.91233578\n",
      " 0.9058325  0.90966941 0.89659785 0.90550731 0.88333109 0.89607757\n",
      " 0.89308602 0.87799845 0.87669782 0.88866383 0.8708448  0.85699288\n",
      " 0.85367614 0.86095988 0.87188535 0.89464684 0.90303603 0.90914913\n",
      " 0.91266096 0.91643288 0.91201059 0.88632265 0.89464684 0.89002947\n",
      " 0.90446676 0.92248088 0.93366654 0.91961942 0.95837903 0.99115553\n",
      " 0.98471735 0.98114052 0.99499244 0.99239117 0.99577291 1.\n",
      " 0.995903   0.99291145 0.99395199 0.9692395  0.96741859 0.97021495\n",
      " 0.93743845 0.92508216 0.89419156 0.89503702 0.92319625 0.8975733\n",
      " 0.88749319 0.88287592 0.89302102 0.90023967 0.90253246 0.90764076\n",
      " 0.91214621 0.91612589 0.91963762 0.92272288 0.92544395 0.92787975\n",
      " 0.93010759 0.93219125 0.93417335 0.9360764  0.93790466 0.93964881\n",
      " 0.94129306 0.94281745 0.94420469 0.94544023]\n",
      "18 day output [[0.9465164]]\n",
      "19 day input [0.89529721 0.90290604 0.90953931 0.9098645  0.90290604 0.92566753\n",
      " 0.91662797 0.91864397 0.89354129 0.89185048 0.87767327 0.85562715\n",
      " 0.85478169 0.86167515 0.86421153 0.82259046 0.86746317 0.88508701\n",
      " 0.88157528 0.89562229 0.89529721 0.91331123 0.91903415 0.92677307\n",
      " 0.91695305 0.93821881 0.92644789 0.91617269 0.91233578 0.9058325\n",
      " 0.90966941 0.89659785 0.90550731 0.88333109 0.89607757 0.89308602\n",
      " 0.87799845 0.87669782 0.88866383 0.8708448  0.85699288 0.85367614\n",
      " 0.86095988 0.87188535 0.89464684 0.90303603 0.90914913 0.91266096\n",
      " 0.91643288 0.91201059 0.88632265 0.89464684 0.89002947 0.90446676\n",
      " 0.92248088 0.93366654 0.91961942 0.95837903 0.99115553 0.98471735\n",
      " 0.98114052 0.99499244 0.99239117 0.99577291 1.         0.995903\n",
      " 0.99291145 0.99395199 0.9692395  0.96741859 0.97021495 0.93743845\n",
      " 0.92508216 0.89419156 0.89503702 0.92319625 0.8975733  0.88749319\n",
      " 0.88287592 0.89302102 0.90023967 0.90253246 0.90764076 0.91214621\n",
      " 0.91612589 0.91963762 0.92272288 0.92544395 0.92787975 0.93010759\n",
      " 0.93219125 0.93417335 0.9360764  0.93790466 0.93964881 0.94129306\n",
      " 0.94281745 0.94420469 0.94544023 0.94651639]\n",
      "19 day output [[0.9474305]]\n",
      "20 day input [0.90290604 0.90953931 0.9098645  0.90290604 0.92566753 0.91662797\n",
      " 0.91864397 0.89354129 0.89185048 0.87767327 0.85562715 0.85478169\n",
      " 0.86167515 0.86421153 0.82259046 0.86746317 0.88508701 0.88157528\n",
      " 0.89562229 0.89529721 0.91331123 0.91903415 0.92677307 0.91695305\n",
      " 0.93821881 0.92644789 0.91617269 0.91233578 0.9058325  0.90966941\n",
      " 0.89659785 0.90550731 0.88333109 0.89607757 0.89308602 0.87799845\n",
      " 0.87669782 0.88866383 0.8708448  0.85699288 0.85367614 0.86095988\n",
      " 0.87188535 0.89464684 0.90303603 0.90914913 0.91266096 0.91643288\n",
      " 0.91201059 0.88632265 0.89464684 0.89002947 0.90446676 0.92248088\n",
      " 0.93366654 0.91961942 0.95837903 0.99115553 0.98471735 0.98114052\n",
      " 0.99499244 0.99239117 0.99577291 1.         0.995903   0.99291145\n",
      " 0.99395199 0.9692395  0.96741859 0.97021495 0.93743845 0.92508216\n",
      " 0.89419156 0.89503702 0.92319625 0.8975733  0.88749319 0.88287592\n",
      " 0.89302102 0.90023967 0.90253246 0.90764076 0.91214621 0.91612589\n",
      " 0.91963762 0.92272288 0.92544395 0.92787975 0.93010759 0.93219125\n",
      " 0.93417335 0.9360764  0.93790466 0.93964881 0.94129306 0.94281745\n",
      " 0.94420469 0.94544023 0.94651639 0.94743049]\n",
      "20 day output [[0.9481858]]\n",
      "21 day input [0.90953931 0.9098645  0.90290604 0.92566753 0.91662797 0.91864397\n",
      " 0.89354129 0.89185048 0.87767327 0.85562715 0.85478169 0.86167515\n",
      " 0.86421153 0.82259046 0.86746317 0.88508701 0.88157528 0.89562229\n",
      " 0.89529721 0.91331123 0.91903415 0.92677307 0.91695305 0.93821881\n",
      " 0.92644789 0.91617269 0.91233578 0.9058325  0.90966941 0.89659785\n",
      " 0.90550731 0.88333109 0.89607757 0.89308602 0.87799845 0.87669782\n",
      " 0.88866383 0.8708448  0.85699288 0.85367614 0.86095988 0.87188535\n",
      " 0.89464684 0.90303603 0.90914913 0.91266096 0.91643288 0.91201059\n",
      " 0.88632265 0.89464684 0.89002947 0.90446676 0.92248088 0.93366654\n",
      " 0.91961942 0.95837903 0.99115553 0.98471735 0.98114052 0.99499244\n",
      " 0.99239117 0.99577291 1.         0.995903   0.99291145 0.99395199\n",
      " 0.9692395  0.96741859 0.97021495 0.93743845 0.92508216 0.89419156\n",
      " 0.89503702 0.92319625 0.8975733  0.88749319 0.88287592 0.89302102\n",
      " 0.90023967 0.90253246 0.90764076 0.91214621 0.91612589 0.91963762\n",
      " 0.92272288 0.92544395 0.92787975 0.93010759 0.93219125 0.93417335\n",
      " 0.9360764  0.93790466 0.93964881 0.94129306 0.94281745 0.94420469\n",
      " 0.94544023 0.94651639 0.94743049 0.9481858 ]\n",
      "21 day output [[0.948791]]\n",
      "22 day input [0.9098645  0.90290604 0.92566753 0.91662797 0.91864397 0.89354129\n",
      " 0.89185048 0.87767327 0.85562715 0.85478169 0.86167515 0.86421153\n",
      " 0.82259046 0.86746317 0.88508701 0.88157528 0.89562229 0.89529721\n",
      " 0.91331123 0.91903415 0.92677307 0.91695305 0.93821881 0.92644789\n",
      " 0.91617269 0.91233578 0.9058325  0.90966941 0.89659785 0.90550731\n",
      " 0.88333109 0.89607757 0.89308602 0.87799845 0.87669782 0.88866383\n",
      " 0.8708448  0.85699288 0.85367614 0.86095988 0.87188535 0.89464684\n",
      " 0.90303603 0.90914913 0.91266096 0.91643288 0.91201059 0.88632265\n",
      " 0.89464684 0.89002947 0.90446676 0.92248088 0.93366654 0.91961942\n",
      " 0.95837903 0.99115553 0.98471735 0.98114052 0.99499244 0.99239117\n",
      " 0.99577291 1.         0.995903   0.99291145 0.99395199 0.9692395\n",
      " 0.96741859 0.97021495 0.93743845 0.92508216 0.89419156 0.89503702\n",
      " 0.92319625 0.8975733  0.88749319 0.88287592 0.89302102 0.90023967\n",
      " 0.90253246 0.90764076 0.91214621 0.91612589 0.91963762 0.92272288\n",
      " 0.92544395 0.92787975 0.93010759 0.93219125 0.93417335 0.9360764\n",
      " 0.93790466 0.93964881 0.94129306 0.94281745 0.94420469 0.94544023\n",
      " 0.94651639 0.94743049 0.9481858  0.94879103]\n",
      "22 day output [[0.9492576]]\n",
      "23 day input [0.90290604 0.92566753 0.91662797 0.91864397 0.89354129 0.89185048\n",
      " 0.87767327 0.85562715 0.85478169 0.86167515 0.86421153 0.82259046\n",
      " 0.86746317 0.88508701 0.88157528 0.89562229 0.89529721 0.91331123\n",
      " 0.91903415 0.92677307 0.91695305 0.93821881 0.92644789 0.91617269\n",
      " 0.91233578 0.9058325  0.90966941 0.89659785 0.90550731 0.88333109\n",
      " 0.89607757 0.89308602 0.87799845 0.87669782 0.88866383 0.8708448\n",
      " 0.85699288 0.85367614 0.86095988 0.87188535 0.89464684 0.90303603\n",
      " 0.90914913 0.91266096 0.91643288 0.91201059 0.88632265 0.89464684\n",
      " 0.89002947 0.90446676 0.92248088 0.93366654 0.91961942 0.95837903\n",
      " 0.99115553 0.98471735 0.98114052 0.99499244 0.99239117 0.99577291\n",
      " 1.         0.995903   0.99291145 0.99395199 0.9692395  0.96741859\n",
      " 0.97021495 0.93743845 0.92508216 0.89419156 0.89503702 0.92319625\n",
      " 0.8975733  0.88749319 0.88287592 0.89302102 0.90023967 0.90253246\n",
      " 0.90764076 0.91214621 0.91612589 0.91963762 0.92272288 0.92544395\n",
      " 0.92787975 0.93010759 0.93219125 0.93417335 0.9360764  0.93790466\n",
      " 0.93964881 0.94129306 0.94281745 0.94420469 0.94544023 0.94651639\n",
      " 0.94743049 0.9481858  0.94879103 0.94925761]\n",
      "23 day output [[0.9496]]\n",
      "24 day input [0.92566753 0.91662797 0.91864397 0.89354129 0.89185048 0.87767327\n",
      " 0.85562715 0.85478169 0.86167515 0.86421153 0.82259046 0.86746317\n",
      " 0.88508701 0.88157528 0.89562229 0.89529721 0.91331123 0.91903415\n",
      " 0.92677307 0.91695305 0.93821881 0.92644789 0.91617269 0.91233578\n",
      " 0.9058325  0.90966941 0.89659785 0.90550731 0.88333109 0.89607757\n",
      " 0.89308602 0.87799845 0.87669782 0.88866383 0.8708448  0.85699288\n",
      " 0.85367614 0.86095988 0.87188535 0.89464684 0.90303603 0.90914913\n",
      " 0.91266096 0.91643288 0.91201059 0.88632265 0.89464684 0.89002947\n",
      " 0.90446676 0.92248088 0.93366654 0.91961942 0.95837903 0.99115553\n",
      " 0.98471735 0.98114052 0.99499244 0.99239117 0.99577291 1.\n",
      " 0.995903   0.99291145 0.99395199 0.9692395  0.96741859 0.97021495\n",
      " 0.93743845 0.92508216 0.89419156 0.89503702 0.92319625 0.8975733\n",
      " 0.88749319 0.88287592 0.89302102 0.90023967 0.90253246 0.90764076\n",
      " 0.91214621 0.91612589 0.91963762 0.92272288 0.92544395 0.92787975\n",
      " 0.93010759 0.93219125 0.93417335 0.9360764  0.93790466 0.93964881\n",
      " 0.94129306 0.94281745 0.94420469 0.94544023 0.94651639 0.94743049\n",
      " 0.9481858  0.94879103 0.94925761 0.94959998]\n",
      "24 day output [[0.94983286]]\n",
      "25 day input [0.91662797 0.91864397 0.89354129 0.89185048 0.87767327 0.85562715\n",
      " 0.85478169 0.86167515 0.86421153 0.82259046 0.86746317 0.88508701\n",
      " 0.88157528 0.89562229 0.89529721 0.91331123 0.91903415 0.92677307\n",
      " 0.91695305 0.93821881 0.92644789 0.91617269 0.91233578 0.9058325\n",
      " 0.90966941 0.89659785 0.90550731 0.88333109 0.89607757 0.89308602\n",
      " 0.87799845 0.87669782 0.88866383 0.8708448  0.85699288 0.85367614\n",
      " 0.86095988 0.87188535 0.89464684 0.90303603 0.90914913 0.91266096\n",
      " 0.91643288 0.91201059 0.88632265 0.89464684 0.89002947 0.90446676\n",
      " 0.92248088 0.93366654 0.91961942 0.95837903 0.99115553 0.98471735\n",
      " 0.98114052 0.99499244 0.99239117 0.99577291 1.         0.995903\n",
      " 0.99291145 0.99395199 0.9692395  0.96741859 0.97021495 0.93743845\n",
      " 0.92508216 0.89419156 0.89503702 0.92319625 0.8975733  0.88749319\n",
      " 0.88287592 0.89302102 0.90023967 0.90253246 0.90764076 0.91214621\n",
      " 0.91612589 0.91963762 0.92272288 0.92544395 0.92787975 0.93010759\n",
      " 0.93219125 0.93417335 0.9360764  0.93790466 0.93964881 0.94129306\n",
      " 0.94281745 0.94420469 0.94544023 0.94651639 0.94743049 0.9481858\n",
      " 0.94879103 0.94925761 0.94959998 0.94983286]\n",
      "25 day output [[0.94997185]]\n",
      "26 day input [0.91864397 0.89354129 0.89185048 0.87767327 0.85562715 0.85478169\n",
      " 0.86167515 0.86421153 0.82259046 0.86746317 0.88508701 0.88157528\n",
      " 0.89562229 0.89529721 0.91331123 0.91903415 0.92677307 0.91695305\n",
      " 0.93821881 0.92644789 0.91617269 0.91233578 0.9058325  0.90966941\n",
      " 0.89659785 0.90550731 0.88333109 0.89607757 0.89308602 0.87799845\n",
      " 0.87669782 0.88866383 0.8708448  0.85699288 0.85367614 0.86095988\n",
      " 0.87188535 0.89464684 0.90303603 0.90914913 0.91266096 0.91643288\n",
      " 0.91201059 0.88632265 0.89464684 0.89002947 0.90446676 0.92248088\n",
      " 0.93366654 0.91961942 0.95837903 0.99115553 0.98471735 0.98114052\n",
      " 0.99499244 0.99239117 0.99577291 1.         0.995903   0.99291145\n",
      " 0.99395199 0.9692395  0.96741859 0.97021495 0.93743845 0.92508216\n",
      " 0.89419156 0.89503702 0.92319625 0.8975733  0.88749319 0.88287592\n",
      " 0.89302102 0.90023967 0.90253246 0.90764076 0.91214621 0.91612589\n",
      " 0.91963762 0.92272288 0.92544395 0.92787975 0.93010759 0.93219125\n",
      " 0.93417335 0.9360764  0.93790466 0.93964881 0.94129306 0.94281745\n",
      " 0.94420469 0.94544023 0.94651639 0.94743049 0.9481858  0.94879103\n",
      " 0.94925761 0.94959998 0.94983286 0.94997185]\n",
      "26 day output [[0.9500314]]\n",
      "27 day input [0.89354129 0.89185048 0.87767327 0.85562715 0.85478169 0.86167515\n",
      " 0.86421153 0.82259046 0.86746317 0.88508701 0.88157528 0.89562229\n",
      " 0.89529721 0.91331123 0.91903415 0.92677307 0.91695305 0.93821881\n",
      " 0.92644789 0.91617269 0.91233578 0.9058325  0.90966941 0.89659785\n",
      " 0.90550731 0.88333109 0.89607757 0.89308602 0.87799845 0.87669782\n",
      " 0.88866383 0.8708448  0.85699288 0.85367614 0.86095988 0.87188535\n",
      " 0.89464684 0.90303603 0.90914913 0.91266096 0.91643288 0.91201059\n",
      " 0.88632265 0.89464684 0.89002947 0.90446676 0.92248088 0.93366654\n",
      " 0.91961942 0.95837903 0.99115553 0.98471735 0.98114052 0.99499244\n",
      " 0.99239117 0.99577291 1.         0.995903   0.99291145 0.99395199\n",
      " 0.9692395  0.96741859 0.97021495 0.93743845 0.92508216 0.89419156\n",
      " 0.89503702 0.92319625 0.8975733  0.88749319 0.88287592 0.89302102\n",
      " 0.90023967 0.90253246 0.90764076 0.91214621 0.91612589 0.91963762\n",
      " 0.92272288 0.92544395 0.92787975 0.93010759 0.93219125 0.93417335\n",
      " 0.9360764  0.93790466 0.93964881 0.94129306 0.94281745 0.94420469\n",
      " 0.94544023 0.94651639 0.94743049 0.9481858  0.94879103 0.94925761\n",
      " 0.94959998 0.94983286 0.94997185 0.9500314 ]\n",
      "27 day output [[0.9500256]]\n",
      "28 day input [0.89185048 0.87767327 0.85562715 0.85478169 0.86167515 0.86421153\n",
      " 0.82259046 0.86746317 0.88508701 0.88157528 0.89562229 0.89529721\n",
      " 0.91331123 0.91903415 0.92677307 0.91695305 0.93821881 0.92644789\n",
      " 0.91617269 0.91233578 0.9058325  0.90966941 0.89659785 0.90550731\n",
      " 0.88333109 0.89607757 0.89308602 0.87799845 0.87669782 0.88866383\n",
      " 0.8708448  0.85699288 0.85367614 0.86095988 0.87188535 0.89464684\n",
      " 0.90303603 0.90914913 0.91266096 0.91643288 0.91201059 0.88632265\n",
      " 0.89464684 0.89002947 0.90446676 0.92248088 0.93366654 0.91961942\n",
      " 0.95837903 0.99115553 0.98471735 0.98114052 0.99499244 0.99239117\n",
      " 0.99577291 1.         0.995903   0.99291145 0.99395199 0.9692395\n",
      " 0.96741859 0.97021495 0.93743845 0.92508216 0.89419156 0.89503702\n",
      " 0.92319625 0.8975733  0.88749319 0.88287592 0.89302102 0.90023967\n",
      " 0.90253246 0.90764076 0.91214621 0.91612589 0.91963762 0.92272288\n",
      " 0.92544395 0.92787975 0.93010759 0.93219125 0.93417335 0.9360764\n",
      " 0.93790466 0.93964881 0.94129306 0.94281745 0.94420469 0.94544023\n",
      " 0.94651639 0.94743049 0.9481858  0.94879103 0.94925761 0.94959998\n",
      " 0.94983286 0.94997185 0.9500314  0.95002562]\n",
      "28 day output [[0.9499666]]\n",
      "29 day input [0.87767327 0.85562715 0.85478169 0.86167515 0.86421153 0.82259046\n",
      " 0.86746317 0.88508701 0.88157528 0.89562229 0.89529721 0.91331123\n",
      " 0.91903415 0.92677307 0.91695305 0.93821881 0.92644789 0.91617269\n",
      " 0.91233578 0.9058325  0.90966941 0.89659785 0.90550731 0.88333109\n",
      " 0.89607757 0.89308602 0.87799845 0.87669782 0.88866383 0.8708448\n",
      " 0.85699288 0.85367614 0.86095988 0.87188535 0.89464684 0.90303603\n",
      " 0.90914913 0.91266096 0.91643288 0.91201059 0.88632265 0.89464684\n",
      " 0.89002947 0.90446676 0.92248088 0.93366654 0.91961942 0.95837903\n",
      " 0.99115553 0.98471735 0.98114052 0.99499244 0.99239117 0.99577291\n",
      " 1.         0.995903   0.99291145 0.99395199 0.9692395  0.96741859\n",
      " 0.97021495 0.93743845 0.92508216 0.89419156 0.89503702 0.92319625\n",
      " 0.8975733  0.88749319 0.88287592 0.89302102 0.90023967 0.90253246\n",
      " 0.90764076 0.91214621 0.91612589 0.91963762 0.92272288 0.92544395\n",
      " 0.92787975 0.93010759 0.93219125 0.93417335 0.9360764  0.93790466\n",
      " 0.93964881 0.94129306 0.94281745 0.94420469 0.94544023 0.94651639\n",
      " 0.94743049 0.9481858  0.94879103 0.94925761 0.94959998 0.94983286\n",
      " 0.94997185 0.9500314  0.95002562 0.94996661]\n",
      "29 day output [[0.94986546]]\n",
      "[[0.9025324583053589], [0.9076407551765442], [0.9121462106704712], [0.9161258935928345], [0.9196376204490662], [0.9227228760719299], [0.9254439473152161], [0.9278797507286072], [0.930107593536377], [0.9321912527084351], [0.9341733455657959], [0.9360764026641846], [0.9379046559333801], [0.9396488070487976], [0.9412930607795715], [0.9428174495697021], [0.9442046880722046], [0.9454402327537537], [0.9465163946151733], [0.9474304914474487], [0.9481858015060425], [0.9487910270690918], [0.9492576122283936], [0.9495999813079834], [0.9498328566551208], [0.9499718546867371], [0.9500313997268677], [0.9500256180763245], [0.9499666094779968], [0.949865460395813]]\n"
     ]
    }
   ],
   "source": [
    "#demonstrate prediction for next 30 days\n",
    "from numpy import array\n",
    "\n",
    "lst_output=[]\n",
    "n_steps=100\n",
    "i=0\n",
    "while(i<30):\n",
    "    if(len(temp_input)>100):\n",
    "        #print(temp_input)\n",
    "        x_input=np.array(temp_input[1:])\n",
    "        print(\"{} day input {}\".format(i,x_input))\n",
    "        x_input=x_input.reshape(1,-1)\n",
    "        x_input=x_input.reshape((1, n_steps,1))\n",
    "        #print(x_input)\n",
    "        yhat=model.predict(x_input,verbose=0)\n",
    "        print(\"{} day output {}\".format(i,yhat))\n",
    "        temp_input.extend(yhat[0].tolist())\n",
    "        temp_input=temp_input[1:]\n",
    "        #print(temp_input)\n",
    "        lst_output.extend(yhat.tolist())\n",
    "        i=i+1\n",
    "    else:\n",
    "        x_input = x_input.reshape((1, n_steps,1))\n",
    "        yhat=model.predict(x_input,verbose=0)\n",
    "        print(yhat[0])\n",
    "        temp_input.extend(yhat[0].tolist())\n",
    "        print(len(temp_input))\n",
    "        lst_output.extend(yhat.tolist())\n",
    "        i=i+1\n",
    "                                \n",
    "print(lst_output)"
   ]
  },
  {
   "cell_type": "code",
   "execution_count": 70,
   "id": "17e070f0",
   "metadata": {},
   "outputs": [],
   "source": [
    "day_new=np.arange(1,101)\n",
    "day_pred=np.arange(101,131)"
   ]
  },
  {
   "cell_type": "code",
   "execution_count": 71,
   "id": "701bfe0f",
   "metadata": {},
   "outputs": [],
   "source": [
    "import matplotlib.pyplot as plt"
   ]
  },
  {
   "cell_type": "code",
   "execution_count": 72,
   "id": "a3377188",
   "metadata": {},
   "outputs": [],
   "source": [
    "df4=df2.tolist()\n",
    "df4.extend(lst_output)"
   ]
  },
  {
   "cell_type": "code",
   "execution_count": 73,
   "id": "f10e8e40",
   "metadata": {},
   "outputs": [
    {
     "data": {
      "text/plain": [
       "[<matplotlib.lines.Line2D at 0x2a9618ac550>]"
      ]
     },
     "execution_count": 73,
     "metadata": {},
     "output_type": "execute_result"
    },
    {
     "data": {
      "image/png": "[encoded data removed]",
      "text/plain": [
       "<Figure size 640x480 with 1 Axes>"
      ]
     },
     "metadata": {},
     "output_type": "display_data"
    }
   ],
   "source": [
    "plt.plot(day_new,scaler.inverse_transform(df2[1660:]))\n",
    "plt.plot(day_pred,scaler.inverse_transform(lst_output))"
   ]
  },
  {
   "cell_type": "code",
   "execution_count": 74,
   "id": "1c785ffa",
   "metadata": {},
   "outputs": [
    {
     "data": {
      "text/plain": [
       "1760"
      ]
     },
     "execution_count": 74,
     "metadata": {},
     "output_type": "execute_result"
    }
   ],
   "source": [
    "len(df2)"
   ]
  },
  {
   "cell_type": "code",
   "execution_count": 75,
   "id": "bac28dba",
   "metadata": {},
   "outputs": [
    {
     "data": {
      "text/plain": [
       "[<matplotlib.lines.Line2D at 0x2a961837ed0>]"
      ]
     },
     "execution_count": 75,
     "metadata": {},
     "output_type": "execute_result"
    },
    {
     "data": {
      "image/png": "[encoded data removed]",
      "text/plain": [
       "<Figure size 640x480 with 1 Axes>"
      ]
     },
     "metadata": {},
     "output_type": "display_data"
    }
   ],
   "source": [
    "df4=df1.tolist()\n",
    "df4.extend(lst_output)\n",
    "plt.plot(df4[1500:])"
   ]
  },
  {
   "cell_type": "code",
   "execution_count": 76,
   "id": "2a902855",
   "metadata": {},
   "outputs": [
    {
     "name": "stderr",
     "output_type": "stream",
     "text": [
      "C:\\Users\\Hp\\anaconda3\\Lib\\site-packages\\yfinance\\utils.py:775: FutureWarning: The 'unit' keyword in TimedeltaIndex construction is deprecated and will be removed in a future version. Use pd.to_timedelta instead.\n",
      "  df.index += _pd.TimedeltaIndex(dst_error_hours, 'h')\n",
      "[*********************100%%**********************]  1 of 1 completed\n"
     ]
    }
   ],
   "source": [
    "start='2017-08-01'\n",
    "end='2024-07-31'\n",
    "stock='NVDA'\n",
    "\n",
    "data2=yf.download(stock,start,end)"
   ]
  },
  {
   "cell_type": "code",
   "execution_count": 77,
   "id": "c4d497c7",
   "metadata": {},
   "outputs": [],
   "source": [
    "df5=data2.reset_index()['High']"
   ]
  },
  {
   "cell_type": "code",
   "execution_count": 78,
   "id": "9a5e649e",
   "metadata": {},
   "outputs": [
    {
     "data": {
      "text/plain": [
       "0         4.114000\n",
       "1         4.147750\n",
       "2         4.165750\n",
       "3         4.251750\n",
       "4         4.309250\n",
       "           ...    \n",
       "1755    119.949997\n",
       "1756    116.629997\n",
       "1757    116.199997\n",
       "1758    116.279999\n",
       "1759    111.989998\n",
       "Name: High, Length: 1760, dtype: float64"
      ]
     },
     "execution_count": 78,
     "metadata": {},
     "output_type": "execute_result"
    }
   ],
   "source": [
    "df5"
   ]
  },
  {
   "cell_type": "code",
   "execution_count": 79,
   "id": "26a2214a",
   "metadata": {},
   "outputs": [
    {
     "data": {
      "text/plain": [
       "[<matplotlib.lines.Line2D at 0x2a9617abb90>]"
      ]
     },
     "execution_count": 79,
     "metadata": {},
     "output_type": "execute_result"
    },
    {
     "data": {
      "image/png": "[encoded data removed]",
      "text/plain": [
       "<Figure size 640x480 with 1 Axes>"
      ]
     },
     "metadata": {},
     "output_type": "display_data"
    }
   ],
   "source": [
    "import matplotlib.pyplot as plt\n",
    "plt.plot(df5)"
   ]
  },
  {
   "cell_type": "code",
   "execution_count": 80,
   "id": "3f136d86",
   "metadata": {},
   "outputs": [],
   "source": [
    "from sklearn.preprocessing import MinMaxScaler\n",
    "scaler=MinMaxScaler(feature_range=(0,1))\n",
    "df5=scaler.fit_transform(np.array(df5).reshape(-1,1))"
   ]
  },
  {
   "cell_type": "code",
   "execution_count": 81,
   "id": "083ce889",
   "metadata": {},
   "outputs": [],
   "source": [
    "##splitting dataset into train and test split\n",
    "training_size=int(len(df5)*0.65)\n",
    "test_size=len(df5)-training_size\n",
    "train_data,test_data=df5[0:training_size,:],df5[training_size:len(df5),:1]"
   ]
  },
  {
   "cell_type": "code",
   "execution_count": 82,
   "id": "73cc7622",
   "metadata": {},
   "outputs": [
    {
     "data": {
      "text/plain": [
       "(1144, 616)"
      ]
     },
     "execution_count": 82,
     "metadata": {},
     "output_type": "execute_result"
    }
   ],
   "source": [
    "training_size,test_size"
   ]
  },
  {
   "cell_type": "code",
   "execution_count": 83,
   "id": "a72c1f59",
   "metadata": {},
   "outputs": [
    {
     "data": {
      "text/plain": [
       "array([[0.00628679],\n",
       "       [0.00653223],\n",
       "       [0.00666313],\n",
       "       ...,\n",
       "       [0.17217231],\n",
       "       [0.16655093],\n",
       "       [0.15726436]])"
      ]
     },
     "execution_count": 83,
     "metadata": {},
     "output_type": "execute_result"
    }
   ],
   "source": [
    "train_data"
   ]
  },
  {
   "cell_type": "code",
   "execution_count": 84,
   "id": "637d0830",
   "metadata": {},
   "outputs": [],
   "source": [
    "import numpy\n",
    "#convert an array of values into a matrix \n",
    "def create_dataset(dataset,time_step=1):\n",
    "    dataX,dataY=[],[]\n",
    "    for i in range(len(dataset)-time_step-1):\n",
    "        a=dataset[i:(i+time_step),0]\n",
    "        dataX.append(a)\n",
    "        dataY.append(dataset[i+time_step,0])\n",
    "    return numpy.array(dataX),numpy.array(dataY)"
   ]
  },
  {
   "cell_type": "code",
   "execution_count": 85,
   "id": "b5f5fdb8",
   "metadata": {},
   "outputs": [],
   "source": [
    "#reshape into X=t,t+1,t+2,t+3 and Y=t+4\n",
    "time_step=100\n",
    "X_train, y_train=create_dataset(train_data,time_step)\n",
    "X_test,y_test=create_dataset(test_data,time_step)"
   ]
  },
  {
   "cell_type": "code",
   "execution_count": 86,
   "id": "852b4b6c",
   "metadata": {},
   "outputs": [
    {
     "name": "stdout",
     "output_type": "stream",
     "text": [
      "[[0.00628679 0.00653223 0.00666313 ... 0.01236996 0.01231724 0.01237905]\n",
      " [0.00653223 0.00666313 0.00728853 ... 0.01231724 0.01237905 0.01235724]\n",
      " [0.00666313 0.00728853 0.00770668 ... 0.01237905 0.01235724 0.01193909]\n",
      " ...\n",
      " [0.13869123 0.13223355 0.13217536 ... 0.15551904 0.15949691 0.15984598]\n",
      " [0.13223355 0.13217536 0.13606597 ... 0.15949691 0.15984598 0.17071788]\n",
      " [0.13217536 0.13606597 0.14024748 ... 0.15984598 0.17071788 0.17217231]]\n"
     ]
    }
   ],
   "source": [
    "print(X_train)"
   ]
  },
  {
   "cell_type": "code",
   "execution_count": 87,
   "id": "e9d7fc92",
   "metadata": {},
   "outputs": [
    {
     "name": "stdout",
     "output_type": "stream",
     "text": [
      "(1043, 100)\n",
      "(1043,)\n"
     ]
    },
    {
     "data": {
      "text/plain": [
       "(None, None)"
      ]
     },
     "execution_count": 87,
     "metadata": {},
     "output_type": "execute_result"
    }
   ],
   "source": [
    "print(X_train.shape),print(y_train.shape)"
   ]
  },
  {
   "cell_type": "code",
   "execution_count": 88,
   "id": "6d9a2e0e",
   "metadata": {},
   "outputs": [
    {
     "name": "stdout",
     "output_type": "stream",
     "text": [
      "(515, 100)\n",
      "(515,)\n"
     ]
    },
    {
     "data": {
      "text/plain": [
       "(None, None)"
      ]
     },
     "execution_count": 88,
     "metadata": {},
     "output_type": "execute_result"
    }
   ],
   "source": [
    "print(X_test.shape),print(y_test.shape)"
   ]
  },
  {
   "cell_type": "code",
   "execution_count": 89,
   "id": "caade79c",
   "metadata": {},
   "outputs": [],
   "source": [
    "# reshape input to be [samples, time steps, features] which is required for LSTM / 3D\n",
    "X_train=X_train.reshape(X_train.shape[0],X_train.shape[1],1)\n",
    "X_test=X_test.reshape(X_test.shape[0],X_test.shape[1],1)"
   ]
  },
  {
   "cell_type": "code",
   "execution_count": 90,
   "id": "646522b2",
   "metadata": {},
   "outputs": [],
   "source": [
    "    model=Sequential()\n",
    "    model.add(LSTM(50,return_sequences=True,input_shape=(100,1)))\n",
    "    model.add(LSTM(50,return_sequences=True))\n",
    "    model.add(LSTM(50))\n",
    "    model.add(Dense(1))\n",
    "    model.compile(loss='mean_squared_error',optimizer='adam')"
   ]
  },
  {
   "cell_type": "code",
   "execution_count": 91,
   "id": "705b8c18",
   "metadata": {},
   "outputs": [
    {
     "name": "stdout",
     "output_type": "stream",
     "text": [
      "Model: \"sequential_2\"\n",
      "_________________________________________________________________\n",
      " Layer (type)                Output Shape              Param #   \n",
      "=================================================================\n",
      " lstm_6 (LSTM)               (None, 100, 50)           10400     \n",
      "                                                                 \n",
      " lstm_7 (LSTM)               (None, 100, 50)           20200     \n",
      "                                                                 \n",
      " lstm_8 (LSTM)               (None, 50)                20200     \n",
      "                                                                 \n",
      " dense_2 (Dense)             (None, 1)                 51        \n",
      "                                                                 \n",
      "=================================================================\n",
      "Total params: 50851 (198.64 KB)\n",
      "Trainable params: 50851 (198.64 KB)\n",
      "Non-trainable params: 0 (0.00 Byte)\n",
      "_________________________________________________________________\n"
     ]
    }
   ],
   "source": [
    "model.summary()"
   ]
  },
  {
   "cell_type": "code",
   "execution_count": 92,
   "id": "3ca8a6ca",
   "metadata": {},
   "outputs": [
    {
     "name": "stdout",
     "output_type": "stream",
     "text": [
      "Epoch 1/100\n",
      "17/17 [==============================] - 10s 208ms/step - loss: 0.0012 - val_loss: 0.0015\n",
      "Epoch 2/100\n",
      "17/17 [==============================] - 2s 124ms/step - loss: 1.6388e-04 - val_loss: 0.0019\n",
      "Epoch 3/100\n",
      "17/17 [==============================] - 2s 126ms/step - loss: 8.4030e-05 - val_loss: 0.0025\n",
      "Epoch 4/100\n",
      "17/17 [==============================] - 2s 125ms/step - loss: 6.9196e-05 - val_loss: 0.0032\n",
      "Epoch 5/100\n",
      "17/17 [==============================] - 2s 129ms/step - loss: 6.3505e-05 - val_loss: 0.0053\n",
      "Epoch 6/100\n",
      "17/17 [==============================] - 2s 130ms/step - loss: 7.3304e-05 - val_loss: 0.0031\n",
      "Epoch 7/100\n",
      "17/17 [==============================] - 2s 128ms/step - loss: 6.0039e-05 - val_loss: 0.0054\n",
      "Epoch 8/100\n",
      "17/17 [==============================] - 2s 127ms/step - loss: 6.1656e-05 - val_loss: 0.0068\n",
      "Epoch 9/100\n",
      "17/17 [==============================] - 2s 125ms/step - loss: 6.3440e-05 - val_loss: 0.0068\n",
      "Epoch 10/100\n",
      "17/17 [==============================] - 2s 125ms/step - loss: 5.4785e-05 - val_loss: 0.0056\n",
      "Epoch 11/100\n",
      "17/17 [==============================] - 2s 125ms/step - loss: 5.0562e-05 - val_loss: 0.0051\n",
      "Epoch 12/100\n",
      "17/17 [==============================] - 2s 124ms/step - loss: 4.7550e-05 - val_loss: 0.0058\n",
      "Epoch 13/100\n",
      "17/17 [==============================] - 2s 130ms/step - loss: 4.8505e-05 - val_loss: 0.0052\n",
      "Epoch 14/100\n",
      "17/17 [==============================] - 2s 129ms/step - loss: 4.4262e-05 - val_loss: 0.0058\n",
      "Epoch 15/100\n",
      "17/17 [==============================] - 2s 127ms/step - loss: 4.7728e-05 - val_loss: 0.0072\n",
      "Epoch 16/100\n",
      "17/17 [==============================] - 2s 124ms/step - loss: 4.5853e-05 - val_loss: 0.0049\n",
      "Epoch 17/100\n",
      "17/17 [==============================] - 2s 124ms/step - loss: 4.0231e-05 - val_loss: 0.0056\n",
      "Epoch 18/100\n",
      "17/17 [==============================] - 2s 126ms/step - loss: 3.8854e-05 - val_loss: 0.0059\n",
      "Epoch 19/100\n",
      "17/17 [==============================] - 2s 124ms/step - loss: 3.9341e-05 - val_loss: 0.0042\n",
      "Epoch 20/100\n",
      "17/17 [==============================] - 2s 126ms/step - loss: 4.7150e-05 - val_loss: 0.0062\n",
      "Epoch 21/100\n",
      "17/17 [==============================] - 2s 130ms/step - loss: 4.9171e-05 - val_loss: 0.0081\n",
      "Epoch 22/100\n",
      "17/17 [==============================] - 2s 129ms/step - loss: 3.8250e-05 - val_loss: 0.0047\n",
      "Epoch 23/100\n",
      "17/17 [==============================] - 2s 120ms/step - loss: 3.5059e-05 - val_loss: 0.0053\n",
      "Epoch 24/100\n",
      "17/17 [==============================] - 2s 124ms/step - loss: 3.5010e-05 - val_loss: 0.0044\n",
      "Epoch 25/100\n",
      "17/17 [==============================] - 2s 127ms/step - loss: 3.6834e-05 - val_loss: 0.0052\n",
      "Epoch 26/100\n",
      "17/17 [==============================] - 2s 125ms/step - loss: 3.9784e-05 - val_loss: 0.0036\n",
      "Epoch 27/100\n",
      "17/17 [==============================] - 2s 125ms/step - loss: 3.7776e-05 - val_loss: 0.0035\n",
      "Epoch 28/100\n",
      "17/17 [==============================] - 2s 129ms/step - loss: 3.4866e-05 - val_loss: 0.0054\n",
      "Epoch 29/100\n",
      "17/17 [==============================] - 2s 129ms/step - loss: 3.0372e-05 - val_loss: 0.0044\n",
      "Epoch 30/100\n",
      "17/17 [==============================] - 2s 127ms/step - loss: 3.3522e-05 - val_loss: 0.0058\n",
      "Epoch 31/100\n",
      "17/17 [==============================] - 2s 124ms/step - loss: 3.5980e-05 - val_loss: 0.0062\n",
      "Epoch 32/100\n",
      "17/17 [==============================] - 2s 125ms/step - loss: 3.3756e-05 - val_loss: 0.0044\n",
      "Epoch 33/100\n",
      "17/17 [==============================] - 2s 126ms/step - loss: 3.1098e-05 - val_loss: 0.0049\n",
      "Epoch 34/100\n",
      "17/17 [==============================] - 2s 124ms/step - loss: 3.0021e-05 - val_loss: 0.0069\n",
      "Epoch 35/100\n",
      "17/17 [==============================] - 2s 125ms/step - loss: 2.8275e-05 - val_loss: 0.0040\n",
      "Epoch 36/100\n",
      "17/17 [==============================] - 2s 128ms/step - loss: 2.9802e-05 - val_loss: 0.0069\n",
      "Epoch 37/100\n",
      "17/17 [==============================] - 2s 129ms/step - loss: 3.4513e-05 - val_loss: 0.0036\n",
      "Epoch 38/100\n",
      "17/17 [==============================] - 2s 117ms/step - loss: 3.2879e-05 - val_loss: 0.0046\n",
      "Epoch 39/100\n",
      "17/17 [==============================] - 2s 103ms/step - loss: 2.9591e-05 - val_loss: 0.0037\n",
      "Epoch 40/100\n",
      "17/17 [==============================] - 2s 125ms/step - loss: 2.5167e-05 - val_loss: 0.0041\n",
      "Epoch 41/100\n",
      "17/17 [==============================] - 2s 126ms/step - loss: 2.8594e-05 - val_loss: 0.0036\n",
      "Epoch 42/100\n",
      "17/17 [==============================] - 2s 123ms/step - loss: 2.6450e-05 - val_loss: 0.0038\n",
      "Epoch 43/100\n",
      "17/17 [==============================] - 2s 126ms/step - loss: 2.5796e-05 - val_loss: 0.0034\n",
      "Epoch 44/100\n",
      "17/17 [==============================] - 2s 131ms/step - loss: 2.4888e-05 - val_loss: 0.0041\n",
      "Epoch 45/100\n",
      "17/17 [==============================] - 2s 129ms/step - loss: 2.4594e-05 - val_loss: 0.0029\n",
      "Epoch 46/100\n",
      "17/17 [==============================] - 2s 121ms/step - loss: 2.5937e-05 - val_loss: 0.0034\n",
      "Epoch 47/100\n",
      "17/17 [==============================] - 2s 124ms/step - loss: 2.6891e-05 - val_loss: 0.0039\n",
      "Epoch 48/100\n",
      "17/17 [==============================] - 2s 130ms/step - loss: 2.6630e-05 - val_loss: 0.0017\n",
      "Epoch 49/100\n",
      "17/17 [==============================] - 2s 133ms/step - loss: 2.9841e-05 - val_loss: 0.0030\n",
      "Epoch 50/100\n",
      "17/17 [==============================] - 2s 124ms/step - loss: 2.7931e-05 - val_loss: 0.0040\n",
      "Epoch 51/100\n",
      "17/17 [==============================] - 2s 131ms/step - loss: 2.4063e-05 - val_loss: 0.0040\n",
      "Epoch 52/100\n",
      "17/17 [==============================] - 2s 128ms/step - loss: 2.6598e-05 - val_loss: 0.0037\n",
      "Epoch 53/100\n",
      "17/17 [==============================] - 2s 127ms/step - loss: 2.5568e-05 - val_loss: 0.0033\n",
      "Epoch 54/100\n",
      "17/17 [==============================] - 2s 126ms/step - loss: 2.3845e-05 - val_loss: 0.0030\n",
      "Epoch 55/100\n",
      "17/17 [==============================] - 2s 124ms/step - loss: 2.5522e-05 - val_loss: 0.0041\n",
      "Epoch 56/100\n",
      "17/17 [==============================] - 2s 124ms/step - loss: 2.6673e-05 - val_loss: 0.0022\n",
      "Epoch 57/100\n",
      "17/17 [==============================] - 2s 124ms/step - loss: 2.4379e-05 - val_loss: 0.0027\n",
      "Epoch 58/100\n",
      "17/17 [==============================] - 2s 126ms/step - loss: 2.4942e-05 - val_loss: 0.0015\n",
      "Epoch 59/100\n",
      "17/17 [==============================] - 2s 130ms/step - loss: 3.4413e-05 - val_loss: 0.0034\n",
      "Epoch 60/100\n",
      "17/17 [==============================] - 2s 126ms/step - loss: 2.9443e-05 - val_loss: 0.0024\n",
      "Epoch 61/100\n",
      "17/17 [==============================] - 2s 126ms/step - loss: 2.9198e-05 - val_loss: 0.0026\n",
      "Epoch 62/100\n",
      "17/17 [==============================] - 2s 124ms/step - loss: 2.6867e-05 - val_loss: 0.0041\n",
      "Epoch 63/100\n",
      "17/17 [==============================] - 2s 129ms/step - loss: 2.4852e-05 - val_loss: 0.0025\n",
      "Epoch 64/100\n",
      "17/17 [==============================] - 2s 124ms/step - loss: 2.1586e-05 - val_loss: 0.0020\n",
      "Epoch 65/100\n",
      "17/17 [==============================] - 2s 123ms/step - loss: 2.1167e-05 - val_loss: 0.0031\n",
      "Epoch 66/100\n",
      "17/17 [==============================] - 2s 132ms/step - loss: 2.2728e-05 - val_loss: 0.0029\n",
      "Epoch 67/100\n",
      "17/17 [==============================] - 2s 129ms/step - loss: 2.0701e-05 - val_loss: 0.0019\n",
      "Epoch 68/100\n",
      "17/17 [==============================] - 2s 119ms/step - loss: 2.0705e-05 - val_loss: 0.0025\n",
      "Epoch 69/100\n",
      "17/17 [==============================] - 2s 123ms/step - loss: 1.9907e-05 - val_loss: 0.0023\n",
      "Epoch 70/100\n",
      "17/17 [==============================] - 2s 126ms/step - loss: 2.2617e-05 - val_loss: 0.0033\n",
      "Epoch 71/100\n",
      "17/17 [==============================] - 2s 126ms/step - loss: 2.5074e-05 - val_loss: 0.0021\n",
      "Epoch 72/100\n",
      "17/17 [==============================] - 2s 130ms/step - loss: 2.2515e-05 - val_loss: 0.0022\n",
      "Epoch 73/100\n",
      "17/17 [==============================] - 3s 171ms/step - loss: 2.1839e-05 - val_loss: 0.0015\n",
      "Epoch 74/100\n",
      "17/17 [==============================] - 3s 174ms/step - loss: 2.1979e-05 - val_loss: 0.0019\n",
      "Epoch 75/100\n",
      "17/17 [==============================] - 3s 169ms/step - loss: 2.3628e-05 - val_loss: 0.0028\n",
      "Epoch 76/100\n",
      "17/17 [==============================] - 3s 172ms/step - loss: 2.3563e-05 - val_loss: 0.0024\n",
      "Epoch 77/100\n",
      "17/17 [==============================] - 3s 171ms/step - loss: 1.9751e-05 - val_loss: 0.0016\n",
      "Epoch 78/100\n",
      "17/17 [==============================] - 3s 167ms/step - loss: 2.7058e-05 - val_loss: 0.0023\n",
      "Epoch 79/100\n",
      "17/17 [==============================] - 3s 174ms/step - loss: 1.8347e-05 - val_loss: 0.0028\n",
      "Epoch 80/100\n",
      "17/17 [==============================] - 3s 172ms/step - loss: 2.0197e-05 - val_loss: 0.0031\n",
      "Epoch 81/100\n",
      "17/17 [==============================] - 3s 168ms/step - loss: 2.1354e-05 - val_loss: 0.0020\n",
      "Epoch 82/100\n",
      "17/17 [==============================] - 3s 165ms/step - loss: 1.8894e-05 - val_loss: 0.0025\n",
      "Epoch 83/100\n",
      "17/17 [==============================] - 3s 165ms/step - loss: 2.1404e-05 - val_loss: 0.0014\n",
      "Epoch 84/100\n",
      "17/17 [==============================] - 3s 167ms/step - loss: 1.9040e-05 - val_loss: 9.9897e-04\n",
      "Epoch 85/100\n",
      "17/17 [==============================] - 3s 174ms/step - loss: 2.3412e-05 - val_loss: 0.0034\n",
      "Epoch 86/100\n",
      "17/17 [==============================] - 3s 172ms/step - loss: 1.9959e-05 - val_loss: 0.0021\n",
      "Epoch 87/100\n",
      "17/17 [==============================] - 3s 168ms/step - loss: 2.0864e-05 - val_loss: 0.0017\n",
      "Epoch 88/100\n",
      "17/17 [==============================] - 3s 165ms/step - loss: 1.8456e-05 - val_loss: 0.0025\n",
      "Epoch 89/100\n",
      "17/17 [==============================] - 3s 165ms/step - loss: 1.9741e-05 - val_loss: 0.0020\n",
      "Epoch 90/100\n",
      "17/17 [==============================] - 3s 170ms/step - loss: 2.5259e-05 - val_loss: 0.0018\n",
      "Epoch 91/100\n",
      "17/17 [==============================] - 3s 174ms/step - loss: 1.9126e-05 - val_loss: 0.0021\n",
      "Epoch 92/100\n",
      "17/17 [==============================] - 3s 172ms/step - loss: 2.2051e-05 - val_loss: 0.0019\n",
      "Epoch 93/100\n",
      "17/17 [==============================] - 3s 168ms/step - loss: 1.9316e-05 - val_loss: 0.0011\n",
      "Epoch 94/100\n",
      "17/17 [==============================] - 3s 167ms/step - loss: 1.9767e-05 - val_loss: 0.0019\n",
      "Epoch 95/100\n",
      "17/17 [==============================] - 3s 166ms/step - loss: 1.9312e-05 - val_loss: 0.0012\n",
      "Epoch 96/100\n",
      "17/17 [==============================] - 3s 176ms/step - loss: 1.9636e-05 - val_loss: 0.0013\n",
      "Epoch 97/100\n",
      "17/17 [==============================] - 3s 174ms/step - loss: 1.8276e-05 - val_loss: 0.0017\n",
      "Epoch 98/100\n",
      "17/17 [==============================] - 3s 175ms/step - loss: 1.7485e-05 - val_loss: 0.0017\n",
      "Epoch 99/100\n",
      "17/17 [==============================] - 3s 169ms/step - loss: 2.0546e-05 - val_loss: 0.0014\n",
      "Epoch 100/100\n",
      "17/17 [==============================] - 3s 166ms/step - loss: 1.6304e-05 - val_loss: 0.0015\n"
     ]
    },
    {
     "data": {
      "text/plain": [
       "<keras.src.callbacks.History at 0x2a961740d50>"
      ]
     },
     "execution_count": 92,
     "metadata": {},
     "output_type": "execute_result"
    }
   ],
   "source": [
    "model.fit(X_train,y_train,validation_data=(X_test,y_test),epochs=100,batch_size=64,verbose=1)"
   ]
  },
  {
   "cell_type": "code",
   "execution_count": 93,
   "id": "4a343463",
   "metadata": {},
   "outputs": [
    {
     "name": "stdout",
     "output_type": "stream",
     "text": [
      "33/33 [==============================] - 1s 20ms/step\n",
      "17/17 [==============================] - 0s 20ms/step\n"
     ]
    }
   ],
   "source": [
    "### lets do the prediction and check performance metrices\n",
    "train_predict=model.predict(X_train)\n",
    "test_predict=model.predict(X_test)"
   ]
  },
  {
   "cell_type": "code",
   "execution_count": 94,
   "id": "615d87a0",
   "metadata": {},
   "outputs": [],
   "source": [
    "### Transform to original form\n",
    "train_predict=scaler.inverse_transform(train_predict)\n",
    "test_predict=scaler.inverse_transform(test_predict)"
   ]
  },
  {
   "cell_type": "code",
   "execution_count": 95,
   "id": "6611450c",
   "metadata": {},
   "outputs": [
    {
     "data": {
      "text/plain": [
       "12.672213555028458"
      ]
     },
     "execution_count": 95,
     "metadata": {},
     "output_type": "execute_result"
    }
   ],
   "source": [
    "import math\n",
    "from sklearn.metrics import mean_squared_error\n",
    "math.sqrt(mean_squared_error(y_train,train_predict))"
   ]
  },
  {
   "cell_type": "code",
   "execution_count": 96,
   "id": "d35c9338",
   "metadata": {},
   "outputs": [
    {
     "data": {
      "image/png": "[encoded data removed]",
      "text/plain": [
       "<Figure size 640x480 with 1 Axes>"
      ]
     },
     "metadata": {},
     "output_type": "display_data"
    }
   ],
   "source": [
    "#shift train prediction for plotting\n",
    "look_back=100\n",
    "trainPredictPlot=numpy.empty_like(df5)\n",
    "trainPredictPlot[:, :]=np.nan\n",
    "trainPredictPlot[look_back:len(train_predict)+look_back, :]=train_predict\n",
    "#shift test prediction for plotting\n",
    "testPredictPlot=numpy.empty_like(df5)\n",
    "testPredictPlot[:, :]=numpy.nan\n",
    "testPredictPlot[len(train_predict)+(look_back*2)+1:len(df5)-1,:]=test_predict\n",
    "#plot baseline and predictions\n",
    "plt.plot(scaler.inverse_transform(df5))\n",
    "plt.plot(trainPredictPlot)\n",
    "plt.plot(testPredictPlot)\n",
    "plt.legend([\"Original Data\",\"Train Predict\",\"Test Predict\"]);\n",
    "plt.show()"
   ]
  },
  {
   "cell_type": "code",
   "execution_count": 97,
   "id": "596d66c7",
   "metadata": {},
   "outputs": [
    {
     "data": {
      "text/plain": [
       "(1, 100)"
      ]
     },
     "execution_count": 97,
     "metadata": {},
     "output_type": "execute_result"
    }
   ],
   "source": [
    "x_input=test_data[516:].reshape(1,-1)\n",
    "x_input.shape"
   ]
  },
  {
   "cell_type": "code",
   "execution_count": 98,
   "id": "96169f14",
   "metadata": {},
   "outputs": [],
   "source": [
    "x_input=test_data[516:].reshape(1,-1)"
   ]
  },
  {
   "cell_type": "code",
   "execution_count": 99,
   "id": "69a53222",
   "metadata": {},
   "outputs": [],
   "source": [
    "temp_input=list(x_input)\n",
    "temp_input=temp_input[0].tolist()"
   ]
  },
  {
   "cell_type": "code",
   "execution_count": 100,
   "id": "e8c7bf17",
   "metadata": {},
   "outputs": [
    {
     "data": {
      "text/plain": [
       "[0.650986665413507,\n",
       " 0.6846786629057708,\n",
       " 0.6221161327608009,\n",
       " 0.6451180281894912,\n",
       " 0.6418019083290118,\n",
       " 0.6355624276050639,\n",
       " 0.6275629937600286,\n",
       " 0.648354142615066,\n",
       " 0.6348206296406573,\n",
       " 0.6338461945135916,\n",
       " 0.6501213084313943,\n",
       " 0.6656110153197178,\n",
       " 0.6800680861786074,\n",
       " 0.6772246752677722,\n",
       " 0.6544263997739638,\n",
       " 0.6403184233647411,\n",
       " 0.6470451493933576,\n",
       " 0.631548174327522,\n",
       " 0.6335843736763415,\n",
       " 0.6354751539926471,\n",
       " 0.6198181680570023,\n",
       " 0.6223561490655146,\n",
       " 0.6136659054632,\n",
       " 0.6119569405492398,\n",
       " 0.6362387010073189,\n",
       " 0.6321372295996314,\n",
       " 0.6353224113003502,\n",
       " 0.6171783215987781,\n",
       " 0.6219561773732628,\n",
       " 0.603157618801972,\n",
       " 0.5895877094577318,\n",
       " 0.5586737092786939,\n",
       " 0.5782794794120003,\n",
       " 0.5878278673011866,\n",
       " 0.5823082690445665,\n",
       " 0.6187273311252002,\n",
       " 0.6162620318918093,\n",
       " 0.62227614363061,\n",
       " 0.6017758883228712,\n",
       " 0.6034993895918557,\n",
       " 0.6256358725561622,\n",
       " 0.6470088085057969,\n",
       " 0.6438163031452949,\n",
       " 0.6395475526902861,\n",
       " 0.6386603356933659,\n",
       " 0.6410528976693644,\n",
       " 0.6381222131461125,\n",
       " 0.6428709407282777,\n",
       " 0.6662218751243637,\n",
       " 0.6731813492801817,\n",
       " 0.6653346581274434,\n",
       " 0.6686798506979713,\n",
       " 0.6701343184344646,\n",
       " 0.674643029711916,\n",
       " 0.7495464259320515,\n",
       " 0.7506736037514142,\n",
       " 0.8122253023994866,\n",
       " 0.8162467683722696,\n",
       " 0.8186247939932437,\n",
       " 0.7960665348041491,\n",
       " 0.8126688831568112,\n",
       " 0.8243043476374019,\n",
       " 0.8668392759420063,\n",
       " 0.889659355968351,\n",
       " 0.8613342695226814,\n",
       " 0.8715734671691471,\n",
       " 0.8699008986250187,\n",
       " 0.8990622693427525,\n",
       " 0.9202970544373855,\n",
       " 0.9424044092093724,\n",
       " 0.948876638060522,\n",
       " 0.967784330259037,\n",
       " 0.9999999999999999,\n",
       " 0.9263329707087227,\n",
       " 0.881463625848217,\n",
       " 0.8962988638668219,\n",
       " 0.9080797473799264,\n",
       " 0.8956443949971032,\n",
       " 0.9050981856140896,\n",
       " 0.8842270313241476,\n",
       " 0.873827878290144,\n",
       " 0.909243321569121,\n",
       " 0.9133885130064235,\n",
       " 0.9273510703831325,\n",
       " 0.9495312178947828,\n",
       " 0.9588395894792554,\n",
       " 0.9664752815550575,\n",
       " 0.9357140240683166,\n",
       " 0.9318597816605838,\n",
       " 0.9147701325209822,\n",
       " 0.8624832518745807,\n",
       " 0.8664829687970984,\n",
       " 0.8606652088156674,\n",
       " 0.878627483114894,\n",
       " 0.8831362498746165,\n",
       " 0.8486661135303856,\n",
       " 0.8245225039273082,\n",
       " 0.8213954676466865,\n",
       " 0.8219772547412838,\n",
       " 0.7907796291924595]"
      ]
     },
     "execution_count": 100,
     "metadata": {},
     "output_type": "execute_result"
    }
   ],
   "source": [
    "temp_input"
   ]
  },
  {
   "cell_type": "code",
   "execution_count": 101,
   "id": "09ce15fb",
   "metadata": {},
   "outputs": [
    {
     "name": "stdout",
     "output_type": "stream",
     "text": [
      "[0.7216446]\n",
      "101\n",
      "1 day input [0.68467866 0.62211613 0.64511803 0.64180191 0.63556243 0.62756299\n",
      " 0.64835414 0.63482063 0.63384619 0.65012131 0.66561102 0.68006809\n",
      " 0.67722468 0.6544264  0.64031842 0.64704515 0.63154817 0.63358437\n",
      " 0.63547515 0.61981817 0.62235615 0.61366591 0.61195694 0.6362387\n",
      " 0.63213723 0.63532241 0.61717832 0.62195618 0.60315762 0.58958771\n",
      " 0.55867371 0.57827948 0.58782787 0.58230827 0.61872733 0.61626203\n",
      " 0.62227614 0.60177589 0.60349939 0.62563587 0.64700881 0.6438163\n",
      " 0.63954755 0.63866034 0.6410529  0.63812221 0.64287094 0.66622188\n",
      " 0.67318135 0.66533466 0.66867985 0.67013432 0.67464303 0.74954643\n",
      " 0.7506736  0.8122253  0.81624677 0.81862479 0.79606653 0.81266888\n",
      " 0.82430435 0.86683928 0.88965936 0.86133427 0.87157347 0.8699009\n",
      " 0.89906227 0.92029705 0.94240441 0.94887664 0.96778433 1.\n",
      " 0.92633297 0.88146363 0.89629886 0.90807975 0.89564439 0.90509819\n",
      " 0.88422703 0.87382788 0.90924332 0.91338851 0.92735107 0.94953122\n",
      " 0.95883959 0.96647528 0.93571402 0.93185978 0.91477013 0.86248325\n",
      " 0.86648297 0.86066521 0.87862748 0.88313625 0.84866611 0.8245225\n",
      " 0.82139547 0.82197725 0.79077963 0.72164458]\n",
      "1 day output [[0.69561774]]\n",
      "2 day input [0.62211613 0.64511803 0.64180191 0.63556243 0.62756299 0.64835414\n",
      " 0.63482063 0.63384619 0.65012131 0.66561102 0.68006809 0.67722468\n",
      " 0.6544264  0.64031842 0.64704515 0.63154817 0.63358437 0.63547515\n",
      " 0.61981817 0.62235615 0.61366591 0.61195694 0.6362387  0.63213723\n",
      " 0.63532241 0.61717832 0.62195618 0.60315762 0.58958771 0.55867371\n",
      " 0.57827948 0.58782787 0.58230827 0.61872733 0.61626203 0.62227614\n",
      " 0.60177589 0.60349939 0.62563587 0.64700881 0.6438163  0.63954755\n",
      " 0.63866034 0.6410529  0.63812221 0.64287094 0.66622188 0.67318135\n",
      " 0.66533466 0.66867985 0.67013432 0.67464303 0.74954643 0.7506736\n",
      " 0.8122253  0.81624677 0.81862479 0.79606653 0.81266888 0.82430435\n",
      " 0.86683928 0.88965936 0.86133427 0.87157347 0.8699009  0.89906227\n",
      " 0.92029705 0.94240441 0.94887664 0.96778433 1.         0.92633297\n",
      " 0.88146363 0.89629886 0.90807975 0.89564439 0.90509819 0.88422703\n",
      " 0.87382788 0.90924332 0.91338851 0.92735107 0.94953122 0.95883959\n",
      " 0.96647528 0.93571402 0.93185978 0.91477013 0.86248325 0.86648297\n",
      " 0.86066521 0.87862748 0.88313625 0.84866611 0.8245225  0.82139547\n",
      " 0.82197725 0.79077963 0.72164458 0.69561774]\n",
      "2 day output [[0.6592984]]\n",
      "3 day input [0.64511803 0.64180191 0.63556243 0.62756299 0.64835414 0.63482063\n",
      " 0.63384619 0.65012131 0.66561102 0.68006809 0.67722468 0.6544264\n",
      " 0.64031842 0.64704515 0.63154817 0.63358437 0.63547515 0.61981817\n",
      " 0.62235615 0.61366591 0.61195694 0.6362387  0.63213723 0.63532241\n",
      " 0.61717832 0.62195618 0.60315762 0.58958771 0.55867371 0.57827948\n",
      " 0.58782787 0.58230827 0.61872733 0.61626203 0.62227614 0.60177589\n",
      " 0.60349939 0.62563587 0.64700881 0.6438163  0.63954755 0.63866034\n",
      " 0.6410529  0.63812221 0.64287094 0.66622188 0.67318135 0.66533466\n",
      " 0.66867985 0.67013432 0.67464303 0.74954643 0.7506736  0.8122253\n",
      " 0.81624677 0.81862479 0.79606653 0.81266888 0.82430435 0.86683928\n",
      " 0.88965936 0.86133427 0.87157347 0.8699009  0.89906227 0.92029705\n",
      " 0.94240441 0.94887664 0.96778433 1.         0.92633297 0.88146363\n",
      " 0.89629886 0.90807975 0.89564439 0.90509819 0.88422703 0.87382788\n",
      " 0.90924332 0.91338851 0.92735107 0.94953122 0.95883959 0.96647528\n",
      " 0.93571402 0.93185978 0.91477013 0.86248325 0.86648297 0.86066521\n",
      " 0.87862748 0.88313625 0.84866611 0.8245225  0.82139547 0.82197725\n",
      " 0.79077963 0.72164458 0.69561774 0.65929842]\n",
      "3 day output [[0.61676264]]\n",
      "4 day input [0.64180191 0.63556243 0.62756299 0.64835414 0.63482063 0.63384619\n",
      " 0.65012131 0.66561102 0.68006809 0.67722468 0.6544264  0.64031842\n",
      " 0.64704515 0.63154817 0.63358437 0.63547515 0.61981817 0.62235615\n",
      " 0.61366591 0.61195694 0.6362387  0.63213723 0.63532241 0.61717832\n",
      " 0.62195618 0.60315762 0.58958771 0.55867371 0.57827948 0.58782787\n",
      " 0.58230827 0.61872733 0.61626203 0.62227614 0.60177589 0.60349939\n",
      " 0.62563587 0.64700881 0.6438163  0.63954755 0.63866034 0.6410529\n",
      " 0.63812221 0.64287094 0.66622188 0.67318135 0.66533466 0.66867985\n",
      " 0.67013432 0.67464303 0.74954643 0.7506736  0.8122253  0.81624677\n",
      " 0.81862479 0.79606653 0.81266888 0.82430435 0.86683928 0.88965936\n",
      " 0.86133427 0.87157347 0.8699009  0.89906227 0.92029705 0.94240441\n",
      " 0.94887664 0.96778433 1.         0.92633297 0.88146363 0.89629886\n",
      " 0.90807975 0.89564439 0.90509819 0.88422703 0.87382788 0.90924332\n",
      " 0.91338851 0.92735107 0.94953122 0.95883959 0.96647528 0.93571402\n",
      " 0.93185978 0.91477013 0.86248325 0.86648297 0.86066521 0.87862748\n",
      " 0.88313625 0.84866611 0.8245225  0.82139547 0.82197725 0.79077963\n",
      " 0.72164458 0.69561774 0.65929842 0.61676264]\n",
      "4 day output [[0.57076997]]\n",
      "5 day input [0.63556243 0.62756299 0.64835414 0.63482063 0.63384619 0.65012131\n",
      " 0.66561102 0.68006809 0.67722468 0.6544264  0.64031842 0.64704515\n",
      " 0.63154817 0.63358437 0.63547515 0.61981817 0.62235615 0.61366591\n",
      " 0.61195694 0.6362387  0.63213723 0.63532241 0.61717832 0.62195618\n",
      " 0.60315762 0.58958771 0.55867371 0.57827948 0.58782787 0.58230827\n",
      " 0.61872733 0.61626203 0.62227614 0.60177589 0.60349939 0.62563587\n",
      " 0.64700881 0.6438163  0.63954755 0.63866034 0.6410529  0.63812221\n",
      " 0.64287094 0.66622188 0.67318135 0.66533466 0.66867985 0.67013432\n",
      " 0.67464303 0.74954643 0.7506736  0.8122253  0.81624677 0.81862479\n",
      " 0.79606653 0.81266888 0.82430435 0.86683928 0.88965936 0.86133427\n",
      " 0.87157347 0.8699009  0.89906227 0.92029705 0.94240441 0.94887664\n",
      " 0.96778433 1.         0.92633297 0.88146363 0.89629886 0.90807975\n",
      " 0.89564439 0.90509819 0.88422703 0.87382788 0.90924332 0.91338851\n",
      " 0.92735107 0.94953122 0.95883959 0.96647528 0.93571402 0.93185978\n",
      " 0.91477013 0.86248325 0.86648297 0.86066521 0.87862748 0.88313625\n",
      " 0.84866611 0.8245225  0.82139547 0.82197725 0.79077963 0.72164458\n",
      " 0.69561774 0.65929842 0.61676264 0.57076997]\n",
      "5 day output [[0.523008]]\n",
      "6 day input [0.62756299 0.64835414 0.63482063 0.63384619 0.65012131 0.66561102\n",
      " 0.68006809 0.67722468 0.6544264  0.64031842 0.64704515 0.63154817\n",
      " 0.63358437 0.63547515 0.61981817 0.62235615 0.61366591 0.61195694\n",
      " 0.6362387  0.63213723 0.63532241 0.61717832 0.62195618 0.60315762\n",
      " 0.58958771 0.55867371 0.57827948 0.58782787 0.58230827 0.61872733\n",
      " 0.61626203 0.62227614 0.60177589 0.60349939 0.62563587 0.64700881\n",
      " 0.6438163  0.63954755 0.63866034 0.6410529  0.63812221 0.64287094\n",
      " 0.66622188 0.67318135 0.66533466 0.66867985 0.67013432 0.67464303\n",
      " 0.74954643 0.7506736  0.8122253  0.81624677 0.81862479 0.79606653\n",
      " 0.81266888 0.82430435 0.86683928 0.88965936 0.86133427 0.87157347\n",
      " 0.8699009  0.89906227 0.92029705 0.94240441 0.94887664 0.96778433\n",
      " 1.         0.92633297 0.88146363 0.89629886 0.90807975 0.89564439\n",
      " 0.90509819 0.88422703 0.87382788 0.90924332 0.91338851 0.92735107\n",
      " 0.94953122 0.95883959 0.96647528 0.93571402 0.93185978 0.91477013\n",
      " 0.86248325 0.86648297 0.86066521 0.87862748 0.88313625 0.84866611\n",
      " 0.8245225  0.82139547 0.82197725 0.79077963 0.72164458 0.69561774\n",
      " 0.65929842 0.61676264 0.57076997 0.52300799]\n",
      "6 day output [[0.47462916]]\n",
      "7 day input [0.64835414 0.63482063 0.63384619 0.65012131 0.66561102 0.68006809\n",
      " 0.67722468 0.6544264  0.64031842 0.64704515 0.63154817 0.63358437\n",
      " 0.63547515 0.61981817 0.62235615 0.61366591 0.61195694 0.6362387\n",
      " 0.63213723 0.63532241 0.61717832 0.62195618 0.60315762 0.58958771\n",
      " 0.55867371 0.57827948 0.58782787 0.58230827 0.61872733 0.61626203\n",
      " 0.62227614 0.60177589 0.60349939 0.62563587 0.64700881 0.6438163\n",
      " 0.63954755 0.63866034 0.6410529  0.63812221 0.64287094 0.66622188\n",
      " 0.67318135 0.66533466 0.66867985 0.67013432 0.67464303 0.74954643\n",
      " 0.7506736  0.8122253  0.81624677 0.81862479 0.79606653 0.81266888\n",
      " 0.82430435 0.86683928 0.88965936 0.86133427 0.87157347 0.8699009\n",
      " 0.89906227 0.92029705 0.94240441 0.94887664 0.96778433 1.\n",
      " 0.92633297 0.88146363 0.89629886 0.90807975 0.89564439 0.90509819\n",
      " 0.88422703 0.87382788 0.90924332 0.91338851 0.92735107 0.94953122\n",
      " 0.95883959 0.96647528 0.93571402 0.93185978 0.91477013 0.86248325\n",
      " 0.86648297 0.86066521 0.87862748 0.88313625 0.84866611 0.8245225\n",
      " 0.82139547 0.82197725 0.79077963 0.72164458 0.69561774 0.65929842\n",
      " 0.61676264 0.57076997 0.52300799 0.47462916]\n",
      "7 day output [[0.42658922]]\n",
      "8 day input [0.63482063 0.63384619 0.65012131 0.66561102 0.68006809 0.67722468\n",
      " 0.6544264  0.64031842 0.64704515 0.63154817 0.63358437 0.63547515\n",
      " 0.61981817 0.62235615 0.61366591 0.61195694 0.6362387  0.63213723\n",
      " 0.63532241 0.61717832 0.62195618 0.60315762 0.58958771 0.55867371\n",
      " 0.57827948 0.58782787 0.58230827 0.61872733 0.61626203 0.62227614\n",
      " 0.60177589 0.60349939 0.62563587 0.64700881 0.6438163  0.63954755\n",
      " 0.63866034 0.6410529  0.63812221 0.64287094 0.66622188 0.67318135\n",
      " 0.66533466 0.66867985 0.67013432 0.67464303 0.74954643 0.7506736\n",
      " 0.8122253  0.81624677 0.81862479 0.79606653 0.81266888 0.82430435\n",
      " 0.86683928 0.88965936 0.86133427 0.87157347 0.8699009  0.89906227\n",
      " 0.92029705 0.94240441 0.94887664 0.96778433 1.         0.92633297\n",
      " 0.88146363 0.89629886 0.90807975 0.89564439 0.90509819 0.88422703\n",
      " 0.87382788 0.90924332 0.91338851 0.92735107 0.94953122 0.95883959\n",
      " 0.96647528 0.93571402 0.93185978 0.91477013 0.86248325 0.86648297\n",
      " 0.86066521 0.87862748 0.88313625 0.84866611 0.8245225  0.82139547\n",
      " 0.82197725 0.79077963 0.72164458 0.69561774 0.65929842 0.61676264\n",
      " 0.57076997 0.52300799 0.47462916 0.42658922]\n",
      "8 day output [[0.3797636]]\n",
      "9 day input [0.63384619 0.65012131 0.66561102 0.68006809 0.67722468 0.6544264\n",
      " 0.64031842 0.64704515 0.63154817 0.63358437 0.63547515 0.61981817\n",
      " 0.62235615 0.61366591 0.61195694 0.6362387  0.63213723 0.63532241\n",
      " 0.61717832 0.62195618 0.60315762 0.58958771 0.55867371 0.57827948\n",
      " 0.58782787 0.58230827 0.61872733 0.61626203 0.62227614 0.60177589\n",
      " 0.60349939 0.62563587 0.64700881 0.6438163  0.63954755 0.63866034\n",
      " 0.6410529  0.63812221 0.64287094 0.66622188 0.67318135 0.66533466\n",
      " 0.66867985 0.67013432 0.67464303 0.74954643 0.7506736  0.8122253\n",
      " 0.81624677 0.81862479 0.79606653 0.81266888 0.82430435 0.86683928\n",
      " 0.88965936 0.86133427 0.87157347 0.8699009  0.89906227 0.92029705\n",
      " 0.94240441 0.94887664 0.96778433 1.         0.92633297 0.88146363\n",
      " 0.89629886 0.90807975 0.89564439 0.90509819 0.88422703 0.87382788\n",
      " 0.90924332 0.91338851 0.92735107 0.94953122 0.95883959 0.96647528\n",
      " 0.93571402 0.93185978 0.91477013 0.86248325 0.86648297 0.86066521\n",
      " 0.87862748 0.88313625 0.84866611 0.8245225  0.82139547 0.82197725\n",
      " 0.79077963 0.72164458 0.69561774 0.65929842 0.61676264 0.57076997\n",
      " 0.52300799 0.47462916 0.42658922 0.3797636 ]\n",
      "9 day output [[0.33493078]]\n",
      "10 day input [0.65012131 0.66561102 0.68006809 0.67722468 0.6544264  0.64031842\n",
      " 0.64704515 0.63154817 0.63358437 0.63547515 0.61981817 0.62235615\n",
      " 0.61366591 0.61195694 0.6362387  0.63213723 0.63532241 0.61717832\n",
      " 0.62195618 0.60315762 0.58958771 0.55867371 0.57827948 0.58782787\n",
      " 0.58230827 0.61872733 0.61626203 0.62227614 0.60177589 0.60349939\n",
      " 0.62563587 0.64700881 0.6438163  0.63954755 0.63866034 0.6410529\n",
      " 0.63812221 0.64287094 0.66622188 0.67318135 0.66533466 0.66867985\n",
      " 0.67013432 0.67464303 0.74954643 0.7506736  0.8122253  0.81624677\n",
      " 0.81862479 0.79606653 0.81266888 0.82430435 0.86683928 0.88965936\n",
      " 0.86133427 0.87157347 0.8699009  0.89906227 0.92029705 0.94240441\n",
      " 0.94887664 0.96778433 1.         0.92633297 0.88146363 0.89629886\n",
      " 0.90807975 0.89564439 0.90509819 0.88422703 0.87382788 0.90924332\n",
      " 0.91338851 0.92735107 0.94953122 0.95883959 0.96647528 0.93571402\n",
      " 0.93185978 0.91477013 0.86248325 0.86648297 0.86066521 0.87862748\n",
      " 0.88313625 0.84866611 0.8245225  0.82139547 0.82197725 0.79077963\n",
      " 0.72164458 0.69561774 0.65929842 0.61676264 0.57076997 0.52300799\n",
      " 0.47462916 0.42658922 0.3797636  0.33493078]\n",
      "10 day output [[0.29270944]]\n",
      "11 day input [0.66561102 0.68006809 0.67722468 0.6544264  0.64031842 0.64704515\n",
      " 0.63154817 0.63358437 0.63547515 0.61981817 0.62235615 0.61366591\n",
      " 0.61195694 0.6362387  0.63213723 0.63532241 0.61717832 0.62195618\n",
      " 0.60315762 0.58958771 0.55867371 0.57827948 0.58782787 0.58230827\n",
      " 0.61872733 0.61626203 0.62227614 0.60177589 0.60349939 0.62563587\n",
      " 0.64700881 0.6438163  0.63954755 0.63866034 0.6410529  0.63812221\n",
      " 0.64287094 0.66622188 0.67318135 0.66533466 0.66867985 0.67013432\n",
      " 0.67464303 0.74954643 0.7506736  0.8122253  0.81624677 0.81862479\n",
      " 0.79606653 0.81266888 0.82430435 0.86683928 0.88965936 0.86133427\n",
      " 0.87157347 0.8699009  0.89906227 0.92029705 0.94240441 0.94887664\n",
      " 0.96778433 1.         0.92633297 0.88146363 0.89629886 0.90807975\n",
      " 0.89564439 0.90509819 0.88422703 0.87382788 0.90924332 0.91338851\n",
      " 0.92735107 0.94953122 0.95883959 0.96647528 0.93571402 0.93185978\n",
      " 0.91477013 0.86248325 0.86648297 0.86066521 0.87862748 0.88313625\n",
      " 0.84866611 0.8245225  0.82139547 0.82197725 0.79077963 0.72164458\n",
      " 0.69561774 0.65929842 0.61676264 0.57076997 0.52300799 0.47462916\n",
      " 0.42658922 0.3797636  0.33493078 0.29270944]\n",
      "11 day output [[0.25350773]]\n",
      "12 day input [0.68006809 0.67722468 0.6544264  0.64031842 0.64704515 0.63154817\n",
      " 0.63358437 0.63547515 0.61981817 0.62235615 0.61366591 0.61195694\n",
      " 0.6362387  0.63213723 0.63532241 0.61717832 0.62195618 0.60315762\n",
      " 0.58958771 0.55867371 0.57827948 0.58782787 0.58230827 0.61872733\n",
      " 0.61626203 0.62227614 0.60177589 0.60349939 0.62563587 0.64700881\n",
      " 0.6438163  0.63954755 0.63866034 0.6410529  0.63812221 0.64287094\n",
      " 0.66622188 0.67318135 0.66533466 0.66867985 0.67013432 0.67464303\n",
      " 0.74954643 0.7506736  0.8122253  0.81624677 0.81862479 0.79606653\n",
      " 0.81266888 0.82430435 0.86683928 0.88965936 0.86133427 0.87157347\n",
      " 0.8699009  0.89906227 0.92029705 0.94240441 0.94887664 0.96778433\n",
      " 1.         0.92633297 0.88146363 0.89629886 0.90807975 0.89564439\n",
      " 0.90509819 0.88422703 0.87382788 0.90924332 0.91338851 0.92735107\n",
      " 0.94953122 0.95883959 0.96647528 0.93571402 0.93185978 0.91477013\n",
      " 0.86248325 0.86648297 0.86066521 0.87862748 0.88313625 0.84866611\n",
      " 0.8245225  0.82139547 0.82197725 0.79077963 0.72164458 0.69561774\n",
      " 0.65929842 0.61676264 0.57076997 0.52300799 0.47462916 0.42658922\n",
      " 0.3797636  0.33493078 0.29270944 0.25350773]\n",
      "12 day output [[0.2175194]]\n",
      "13 day input [0.67722468 0.6544264  0.64031842 0.64704515 0.63154817 0.63358437\n",
      " 0.63547515 0.61981817 0.62235615 0.61366591 0.61195694 0.6362387\n",
      " 0.63213723 0.63532241 0.61717832 0.62195618 0.60315762 0.58958771\n",
      " 0.55867371 0.57827948 0.58782787 0.58230827 0.61872733 0.61626203\n",
      " 0.62227614 0.60177589 0.60349939 0.62563587 0.64700881 0.6438163\n",
      " 0.63954755 0.63866034 0.6410529  0.63812221 0.64287094 0.66622188\n",
      " 0.67318135 0.66533466 0.66867985 0.67013432 0.67464303 0.74954643\n",
      " 0.7506736  0.8122253  0.81624677 0.81862479 0.79606653 0.81266888\n",
      " 0.82430435 0.86683928 0.88965936 0.86133427 0.87157347 0.8699009\n",
      " 0.89906227 0.92029705 0.94240441 0.94887664 0.96778433 1.\n",
      " 0.92633297 0.88146363 0.89629886 0.90807975 0.89564439 0.90509819\n",
      " 0.88422703 0.87382788 0.90924332 0.91338851 0.92735107 0.94953122\n",
      " 0.95883959 0.96647528 0.93571402 0.93185978 0.91477013 0.86248325\n",
      " 0.86648297 0.86066521 0.87862748 0.88313625 0.84866611 0.8245225\n",
      " 0.82139547 0.82197725 0.79077963 0.72164458 0.69561774 0.65929842\n",
      " 0.61676264 0.57076997 0.52300799 0.47462916 0.42658922 0.3797636\n",
      " 0.33493078 0.29270944 0.25350773 0.2175194 ]\n",
      "13 day output [[0.18479456]]\n",
      "14 day input [0.6544264  0.64031842 0.64704515 0.63154817 0.63358437 0.63547515\n",
      " 0.61981817 0.62235615 0.61366591 0.61195694 0.6362387  0.63213723\n",
      " 0.63532241 0.61717832 0.62195618 0.60315762 0.58958771 0.55867371\n",
      " 0.57827948 0.58782787 0.58230827 0.61872733 0.61626203 0.62227614\n",
      " 0.60177589 0.60349939 0.62563587 0.64700881 0.6438163  0.63954755\n",
      " 0.63866034 0.6410529  0.63812221 0.64287094 0.66622188 0.67318135\n",
      " 0.66533466 0.66867985 0.67013432 0.67464303 0.74954643 0.7506736\n",
      " 0.8122253  0.81624677 0.81862479 0.79606653 0.81266888 0.82430435\n",
      " 0.86683928 0.88965936 0.86133427 0.87157347 0.8699009  0.89906227\n",
      " 0.92029705 0.94240441 0.94887664 0.96778433 1.         0.92633297\n",
      " 0.88146363 0.89629886 0.90807975 0.89564439 0.90509819 0.88422703\n",
      " 0.87382788 0.90924332 0.91338851 0.92735107 0.94953122 0.95883959\n",
      " 0.96647528 0.93571402 0.93185978 0.91477013 0.86248325 0.86648297\n",
      " 0.86066521 0.87862748 0.88313625 0.84866611 0.8245225  0.82139547\n",
      " 0.82197725 0.79077963 0.72164458 0.69561774 0.65929842 0.61676264\n",
      " 0.57076997 0.52300799 0.47462916 0.42658922 0.3797636  0.33493078\n",
      " 0.29270944 0.25350773 0.2175194  0.18479456]\n",
      "14 day output [[0.15536423]]\n",
      "15 day input [0.64031842 0.64704515 0.63154817 0.63358437 0.63547515 0.61981817\n",
      " 0.62235615 0.61366591 0.61195694 0.6362387  0.63213723 0.63532241\n",
      " 0.61717832 0.62195618 0.60315762 0.58958771 0.55867371 0.57827948\n",
      " 0.58782787 0.58230827 0.61872733 0.61626203 0.62227614 0.60177589\n",
      " 0.60349939 0.62563587 0.64700881 0.6438163  0.63954755 0.63866034\n",
      " 0.6410529  0.63812221 0.64287094 0.66622188 0.67318135 0.66533466\n",
      " 0.66867985 0.67013432 0.67464303 0.74954643 0.7506736  0.8122253\n",
      " 0.81624677 0.81862479 0.79606653 0.81266888 0.82430435 0.86683928\n",
      " 0.88965936 0.86133427 0.87157347 0.8699009  0.89906227 0.92029705\n",
      " 0.94240441 0.94887664 0.96778433 1.         0.92633297 0.88146363\n",
      " 0.89629886 0.90807975 0.89564439 0.90509819 0.88422703 0.87382788\n",
      " 0.90924332 0.91338851 0.92735107 0.94953122 0.95883959 0.96647528\n",
      " 0.93571402 0.93185978 0.91477013 0.86248325 0.86648297 0.86066521\n",
      " 0.87862748 0.88313625 0.84866611 0.8245225  0.82139547 0.82197725\n",
      " 0.79077963 0.72164458 0.69561774 0.65929842 0.61676264 0.57076997\n",
      " 0.52300799 0.47462916 0.42658922 0.3797636  0.33493078 0.29270944\n",
      " 0.25350773 0.2175194  0.18479456 0.15536423]\n",
      "15 day output [[0.12936264]]\n",
      "16 day input [0.64704515 0.63154817 0.63358437 0.63547515 0.61981817 0.62235615\n",
      " 0.61366591 0.61195694 0.6362387  0.63213723 0.63532241 0.61717832\n",
      " 0.62195618 0.60315762 0.58958771 0.55867371 0.57827948 0.58782787\n",
      " 0.58230827 0.61872733 0.61626203 0.62227614 0.60177589 0.60349939\n",
      " 0.62563587 0.64700881 0.6438163  0.63954755 0.63866034 0.6410529\n",
      " 0.63812221 0.64287094 0.66622188 0.67318135 0.66533466 0.66867985\n",
      " 0.67013432 0.67464303 0.74954643 0.7506736  0.8122253  0.81624677\n",
      " 0.81862479 0.79606653 0.81266888 0.82430435 0.86683928 0.88965936\n",
      " 0.86133427 0.87157347 0.8699009  0.89906227 0.92029705 0.94240441\n",
      " 0.94887664 0.96778433 1.         0.92633297 0.88146363 0.89629886\n",
      " 0.90807975 0.89564439 0.90509819 0.88422703 0.87382788 0.90924332\n",
      " 0.91338851 0.92735107 0.94953122 0.95883959 0.96647528 0.93571402\n",
      " 0.93185978 0.91477013 0.86248325 0.86648297 0.86066521 0.87862748\n",
      " 0.88313625 0.84866611 0.8245225  0.82139547 0.82197725 0.79077963\n",
      " 0.72164458 0.69561774 0.65929842 0.61676264 0.57076997 0.52300799\n",
      " 0.47462916 0.42658922 0.3797636  0.33493078 0.29270944 0.25350773\n",
      " 0.2175194  0.18479456 0.15536423 0.12936264]\n",
      "16 day output [[0.10705949]]\n",
      "17 day input [0.63154817 0.63358437 0.63547515 0.61981817 0.62235615 0.61366591\n",
      " 0.61195694 0.6362387  0.63213723 0.63532241 0.61717832 0.62195618\n",
      " 0.60315762 0.58958771 0.55867371 0.57827948 0.58782787 0.58230827\n",
      " 0.61872733 0.61626203 0.62227614 0.60177589 0.60349939 0.62563587\n",
      " 0.64700881 0.6438163  0.63954755 0.63866034 0.6410529  0.63812221\n",
      " 0.64287094 0.66622188 0.67318135 0.66533466 0.66867985 0.67013432\n",
      " 0.67464303 0.74954643 0.7506736  0.8122253  0.81624677 0.81862479\n",
      " 0.79606653 0.81266888 0.82430435 0.86683928 0.88965936 0.86133427\n",
      " 0.87157347 0.8699009  0.89906227 0.92029705 0.94240441 0.94887664\n",
      " 0.96778433 1.         0.92633297 0.88146363 0.89629886 0.90807975\n",
      " 0.89564439 0.90509819 0.88422703 0.87382788 0.90924332 0.91338851\n",
      " 0.92735107 0.94953122 0.95883959 0.96647528 0.93571402 0.93185978\n",
      " 0.91477013 0.86248325 0.86648297 0.86066521 0.87862748 0.88313625\n",
      " 0.84866611 0.8245225  0.82139547 0.82197725 0.79077963 0.72164458\n",
      " 0.69561774 0.65929842 0.61676264 0.57076997 0.52300799 0.47462916\n",
      " 0.42658922 0.3797636  0.33493078 0.29270944 0.25350773 0.2175194\n",
      " 0.18479456 0.15536423 0.12936264 0.10705949]\n",
      "17 day output [[0.08876099]]\n",
      "18 day input [0.63358437 0.63547515 0.61981817 0.62235615 0.61366591 0.61195694\n",
      " 0.6362387  0.63213723 0.63532241 0.61717832 0.62195618 0.60315762\n",
      " 0.58958771 0.55867371 0.57827948 0.58782787 0.58230827 0.61872733\n",
      " 0.61626203 0.62227614 0.60177589 0.60349939 0.62563587 0.64700881\n",
      " 0.6438163  0.63954755 0.63866034 0.6410529  0.63812221 0.64287094\n",
      " 0.66622188 0.67318135 0.66533466 0.66867985 0.67013432 0.67464303\n",
      " 0.74954643 0.7506736  0.8122253  0.81624677 0.81862479 0.79606653\n",
      " 0.81266888 0.82430435 0.86683928 0.88965936 0.86133427 0.87157347\n",
      " 0.8699009  0.89906227 0.92029705 0.94240441 0.94887664 0.96778433\n",
      " 1.         0.92633297 0.88146363 0.89629886 0.90807975 0.89564439\n",
      " 0.90509819 0.88422703 0.87382788 0.90924332 0.91338851 0.92735107\n",
      " 0.94953122 0.95883959 0.96647528 0.93571402 0.93185978 0.91477013\n",
      " 0.86248325 0.86648297 0.86066521 0.87862748 0.88313625 0.84866611\n",
      " 0.8245225  0.82139547 0.82197725 0.79077963 0.72164458 0.69561774\n",
      " 0.65929842 0.61676264 0.57076997 0.52300799 0.47462916 0.42658922\n",
      " 0.3797636  0.33493078 0.29270944 0.25350773 0.2175194  0.18479456\n",
      " 0.15536423 0.12936264 0.10705949 0.08876099]\n",
      "18 day output [[0.07463712]]\n",
      "19 day input [0.63547515 0.61981817 0.62235615 0.61366591 0.61195694 0.6362387\n",
      " 0.63213723 0.63532241 0.61717832 0.62195618 0.60315762 0.58958771\n",
      " 0.55867371 0.57827948 0.58782787 0.58230827 0.61872733 0.61626203\n",
      " 0.62227614 0.60177589 0.60349939 0.62563587 0.64700881 0.6438163\n",
      " 0.63954755 0.63866034 0.6410529  0.63812221 0.64287094 0.66622188\n",
      " 0.67318135 0.66533466 0.66867985 0.67013432 0.67464303 0.74954643\n",
      " 0.7506736  0.8122253  0.81624677 0.81862479 0.79606653 0.81266888\n",
      " 0.82430435 0.86683928 0.88965936 0.86133427 0.87157347 0.8699009\n",
      " 0.89906227 0.92029705 0.94240441 0.94887664 0.96778433 1.\n",
      " 0.92633297 0.88146363 0.89629886 0.90807975 0.89564439 0.90509819\n",
      " 0.88422703 0.87382788 0.90924332 0.91338851 0.92735107 0.94953122\n",
      " 0.95883959 0.96647528 0.93571402 0.93185978 0.91477013 0.86248325\n",
      " 0.86648297 0.86066521 0.87862748 0.88313625 0.84866611 0.8245225\n",
      " 0.82139547 0.82197725 0.79077963 0.72164458 0.69561774 0.65929842\n",
      " 0.61676264 0.57076997 0.52300799 0.47462916 0.42658922 0.3797636\n",
      " 0.33493078 0.29270944 0.25350773 0.2175194  0.18479456 0.15536423\n",
      " 0.12936264 0.10705949 0.08876099 0.07463712]\n",
      "19 day output [[0.0645918]]\n",
      "20 day input [0.61981817 0.62235615 0.61366591 0.61195694 0.6362387  0.63213723\n",
      " 0.63532241 0.61717832 0.62195618 0.60315762 0.58958771 0.55867371\n",
      " 0.57827948 0.58782787 0.58230827 0.61872733 0.61626203 0.62227614\n",
      " 0.60177589 0.60349939 0.62563587 0.64700881 0.6438163  0.63954755\n",
      " 0.63866034 0.6410529  0.63812221 0.64287094 0.66622188 0.67318135\n",
      " 0.66533466 0.66867985 0.67013432 0.67464303 0.74954643 0.7506736\n",
      " 0.8122253  0.81624677 0.81862479 0.79606653 0.81266888 0.82430435\n",
      " 0.86683928 0.88965936 0.86133427 0.87157347 0.8699009  0.89906227\n",
      " 0.92029705 0.94240441 0.94887664 0.96778433 1.         0.92633297\n",
      " 0.88146363 0.89629886 0.90807975 0.89564439 0.90509819 0.88422703\n",
      " 0.87382788 0.90924332 0.91338851 0.92735107 0.94953122 0.95883959\n",
      " 0.96647528 0.93571402 0.93185978 0.91477013 0.86248325 0.86648297\n",
      " 0.86066521 0.87862748 0.88313625 0.84866611 0.8245225  0.82139547\n",
      " 0.82197725 0.79077963 0.72164458 0.69561774 0.65929842 0.61676264\n",
      " 0.57076997 0.52300799 0.47462916 0.42658922 0.3797636  0.33493078\n",
      " 0.29270944 0.25350773 0.2175194  0.18479456 0.15536423 0.12936264\n",
      " 0.10705949 0.08876099 0.07463712 0.0645918 ]\n",
      "20 day output [[0.05825317]]\n",
      "21 day input [0.62235615 0.61366591 0.61195694 0.6362387  0.63213723 0.63532241\n",
      " 0.61717832 0.62195618 0.60315762 0.58958771 0.55867371 0.57827948\n",
      " 0.58782787 0.58230827 0.61872733 0.61626203 0.62227614 0.60177589\n",
      " 0.60349939 0.62563587 0.64700881 0.6438163  0.63954755 0.63866034\n",
      " 0.6410529  0.63812221 0.64287094 0.66622188 0.67318135 0.66533466\n",
      " 0.66867985 0.67013432 0.67464303 0.74954643 0.7506736  0.8122253\n",
      " 0.81624677 0.81862479 0.79606653 0.81266888 0.82430435 0.86683928\n",
      " 0.88965936 0.86133427 0.87157347 0.8699009  0.89906227 0.92029705\n",
      " 0.94240441 0.94887664 0.96778433 1.         0.92633297 0.88146363\n",
      " 0.89629886 0.90807975 0.89564439 0.90509819 0.88422703 0.87382788\n",
      " 0.90924332 0.91338851 0.92735107 0.94953122 0.95883959 0.96647528\n",
      " 0.93571402 0.93185978 0.91477013 0.86248325 0.86648297 0.86066521\n",
      " 0.87862748 0.88313625 0.84866611 0.8245225  0.82139547 0.82197725\n",
      " 0.79077963 0.72164458 0.69561774 0.65929842 0.61676264 0.57076997\n",
      " 0.52300799 0.47462916 0.42658922 0.3797636  0.33493078 0.29270944\n",
      " 0.25350773 0.2175194  0.18479456 0.15536423 0.12936264 0.10705949\n",
      " 0.08876099 0.07463712 0.0645918  0.05825317]\n",
      "21 day output [[0.05506635]]\n",
      "22 day input [0.61366591 0.61195694 0.6362387  0.63213723 0.63532241 0.61717832\n",
      " 0.62195618 0.60315762 0.58958771 0.55867371 0.57827948 0.58782787\n",
      " 0.58230827 0.61872733 0.61626203 0.62227614 0.60177589 0.60349939\n",
      " 0.62563587 0.64700881 0.6438163  0.63954755 0.63866034 0.6410529\n",
      " 0.63812221 0.64287094 0.66622188 0.67318135 0.66533466 0.66867985\n",
      " 0.67013432 0.67464303 0.74954643 0.7506736  0.8122253  0.81624677\n",
      " 0.81862479 0.79606653 0.81266888 0.82430435 0.86683928 0.88965936\n",
      " 0.86133427 0.87157347 0.8699009  0.89906227 0.92029705 0.94240441\n",
      " 0.94887664 0.96778433 1.         0.92633297 0.88146363 0.89629886\n",
      " 0.90807975 0.89564439 0.90509819 0.88422703 0.87382788 0.90924332\n",
      " 0.91338851 0.92735107 0.94953122 0.95883959 0.96647528 0.93571402\n",
      " 0.93185978 0.91477013 0.86248325 0.86648297 0.86066521 0.87862748\n",
      " 0.88313625 0.84866611 0.8245225  0.82139547 0.82197725 0.79077963\n",
      " 0.72164458 0.69561774 0.65929842 0.61676264 0.57076997 0.52300799\n",
      " 0.47462916 0.42658922 0.3797636  0.33493078 0.29270944 0.25350773\n",
      " 0.2175194  0.18479456 0.15536423 0.12936264 0.10705949 0.08876099\n",
      " 0.07463712 0.0645918  0.05825317 0.05506635]\n",
      "22 day output [[0.05441422]]\n",
      "23 day input [0.61195694 0.6362387  0.63213723 0.63532241 0.61717832 0.62195618\n",
      " 0.60315762 0.58958771 0.55867371 0.57827948 0.58782787 0.58230827\n",
      " 0.61872733 0.61626203 0.62227614 0.60177589 0.60349939 0.62563587\n",
      " 0.64700881 0.6438163  0.63954755 0.63866034 0.6410529  0.63812221\n",
      " 0.64287094 0.66622188 0.67318135 0.66533466 0.66867985 0.67013432\n",
      " 0.67464303 0.74954643 0.7506736  0.8122253  0.81624677 0.81862479\n",
      " 0.79606653 0.81266888 0.82430435 0.86683928 0.88965936 0.86133427\n",
      " 0.87157347 0.8699009  0.89906227 0.92029705 0.94240441 0.94887664\n",
      " 0.96778433 1.         0.92633297 0.88146363 0.89629886 0.90807975\n",
      " 0.89564439 0.90509819 0.88422703 0.87382788 0.90924332 0.91338851\n",
      " 0.92735107 0.94953122 0.95883959 0.96647528 0.93571402 0.93185978\n",
      " 0.91477013 0.86248325 0.86648297 0.86066521 0.87862748 0.88313625\n",
      " 0.84866611 0.8245225  0.82139547 0.82197725 0.79077963 0.72164458\n",
      " 0.69561774 0.65929842 0.61676264 0.57076997 0.52300799 0.47462916\n",
      " 0.42658922 0.3797636  0.33493078 0.29270944 0.25350773 0.2175194\n",
      " 0.18479456 0.15536423 0.12936264 0.10705949 0.08876099 0.07463712\n",
      " 0.0645918  0.05825317 0.05506635 0.05441422]\n",
      "23 day output [[0.05571004]]\n",
      "24 day input [0.6362387  0.63213723 0.63532241 0.61717832 0.62195618 0.60315762\n",
      " 0.58958771 0.55867371 0.57827948 0.58782787 0.58230827 0.61872733\n",
      " 0.61626203 0.62227614 0.60177589 0.60349939 0.62563587 0.64700881\n",
      " 0.6438163  0.63954755 0.63866034 0.6410529  0.63812221 0.64287094\n",
      " 0.66622188 0.67318135 0.66533466 0.66867985 0.67013432 0.67464303\n",
      " 0.74954643 0.7506736  0.8122253  0.81624677 0.81862479 0.79606653\n",
      " 0.81266888 0.82430435 0.86683928 0.88965936 0.86133427 0.87157347\n",
      " 0.8699009  0.89906227 0.92029705 0.94240441 0.94887664 0.96778433\n",
      " 1.         0.92633297 0.88146363 0.89629886 0.90807975 0.89564439\n",
      " 0.90509819 0.88422703 0.87382788 0.90924332 0.91338851 0.92735107\n",
      " 0.94953122 0.95883959 0.96647528 0.93571402 0.93185978 0.91477013\n",
      " 0.86248325 0.86648297 0.86066521 0.87862748 0.88313625 0.84866611\n",
      " 0.8245225  0.82139547 0.82197725 0.79077963 0.72164458 0.69561774\n",
      " 0.65929842 0.61676264 0.57076997 0.52300799 0.47462916 0.42658922\n",
      " 0.3797636  0.33493078 0.29270944 0.25350773 0.2175194  0.18479456\n",
      " 0.15536423 0.12936264 0.10705949 0.08876099 0.07463712 0.0645918\n",
      " 0.05825317 0.05506635 0.05441422 0.05571004]\n",
      "24 day output [[0.05844336]]\n",
      "25 day input [0.63213723 0.63532241 0.61717832 0.62195618 0.60315762 0.58958771\n",
      " 0.55867371 0.57827948 0.58782787 0.58230827 0.61872733 0.61626203\n",
      " 0.62227614 0.60177589 0.60349939 0.62563587 0.64700881 0.6438163\n",
      " 0.63954755 0.63866034 0.6410529  0.63812221 0.64287094 0.66622188\n",
      " 0.67318135 0.66533466 0.66867985 0.67013432 0.67464303 0.74954643\n",
      " 0.7506736  0.8122253  0.81624677 0.81862479 0.79606653 0.81266888\n",
      " 0.82430435 0.86683928 0.88965936 0.86133427 0.87157347 0.8699009\n",
      " 0.89906227 0.92029705 0.94240441 0.94887664 0.96778433 1.\n",
      " 0.92633297 0.88146363 0.89629886 0.90807975 0.89564439 0.90509819\n",
      " 0.88422703 0.87382788 0.90924332 0.91338851 0.92735107 0.94953122\n",
      " 0.95883959 0.96647528 0.93571402 0.93185978 0.91477013 0.86248325\n",
      " 0.86648297 0.86066521 0.87862748 0.88313625 0.84866611 0.8245225\n",
      " 0.82139547 0.82197725 0.79077963 0.72164458 0.69561774 0.65929842\n",
      " 0.61676264 0.57076997 0.52300799 0.47462916 0.42658922 0.3797636\n",
      " 0.33493078 0.29270944 0.25350773 0.2175194  0.18479456 0.15536423\n",
      " 0.12936264 0.10705949 0.08876099 0.07463712 0.0645918  0.05825317\n",
      " 0.05506635 0.05441422 0.05571004 0.05844336]\n",
      "25 day output [[0.0621905]]\n",
      "26 day input [0.63532241 0.61717832 0.62195618 0.60315762 0.58958771 0.55867371\n",
      " 0.57827948 0.58782787 0.58230827 0.61872733 0.61626203 0.62227614\n",
      " 0.60177589 0.60349939 0.62563587 0.64700881 0.6438163  0.63954755\n",
      " 0.63866034 0.6410529  0.63812221 0.64287094 0.66622188 0.67318135\n",
      " 0.66533466 0.66867985 0.67013432 0.67464303 0.74954643 0.7506736\n",
      " 0.8122253  0.81624677 0.81862479 0.79606653 0.81266888 0.82430435\n",
      " 0.86683928 0.88965936 0.86133427 0.87157347 0.8699009  0.89906227\n",
      " 0.92029705 0.94240441 0.94887664 0.96778433 1.         0.92633297\n",
      " 0.88146363 0.89629886 0.90807975 0.89564439 0.90509819 0.88422703\n",
      " 0.87382788 0.90924332 0.91338851 0.92735107 0.94953122 0.95883959\n",
      " 0.96647528 0.93571402 0.93185978 0.91477013 0.86248325 0.86648297\n",
      " 0.86066521 0.87862748 0.88313625 0.84866611 0.8245225  0.82139547\n",
      " 0.82197725 0.79077963 0.72164458 0.69561774 0.65929842 0.61676264\n",
      " 0.57076997 0.52300799 0.47462916 0.42658922 0.3797636  0.33493078\n",
      " 0.29270944 0.25350773 0.2175194  0.18479456 0.15536423 0.12936264\n",
      " 0.10705949 0.08876099 0.07463712 0.0645918  0.05825317 0.05506635\n",
      " 0.05441422 0.05571004 0.05844336 0.0621905 ]\n",
      "26 day output [[0.06660728]]\n",
      "27 day input [0.61717832 0.62195618 0.60315762 0.58958771 0.55867371 0.57827948\n",
      " 0.58782787 0.58230827 0.61872733 0.61626203 0.62227614 0.60177589\n",
      " 0.60349939 0.62563587 0.64700881 0.6438163  0.63954755 0.63866034\n",
      " 0.6410529  0.63812221 0.64287094 0.66622188 0.67318135 0.66533466\n",
      " 0.66867985 0.67013432 0.67464303 0.74954643 0.7506736  0.8122253\n",
      " 0.81624677 0.81862479 0.79606653 0.81266888 0.82430435 0.86683928\n",
      " 0.88965936 0.86133427 0.87157347 0.8699009  0.89906227 0.92029705\n",
      " 0.94240441 0.94887664 0.96778433 1.         0.92633297 0.88146363\n",
      " 0.89629886 0.90807975 0.89564439 0.90509819 0.88422703 0.87382788\n",
      " 0.90924332 0.91338851 0.92735107 0.94953122 0.95883959 0.96647528\n",
      " 0.93571402 0.93185978 0.91477013 0.86248325 0.86648297 0.86066521\n",
      " 0.87862748 0.88313625 0.84866611 0.8245225  0.82139547 0.82197725\n",
      " 0.79077963 0.72164458 0.69561774 0.65929842 0.61676264 0.57076997\n",
      " 0.52300799 0.47462916 0.42658922 0.3797636  0.33493078 0.29270944\n",
      " 0.25350773 0.2175194  0.18479456 0.15536423 0.12936264 0.10705949\n",
      " 0.08876099 0.07463712 0.0645918  0.05825317 0.05506635 0.05441422\n",
      " 0.05571004 0.05844336 0.0621905  0.06660728]\n",
      "27 day output [[0.07141645]]\n",
      "28 day input [0.62195618 0.60315762 0.58958771 0.55867371 0.57827948 0.58782787\n",
      " 0.58230827 0.61872733 0.61626203 0.62227614 0.60177589 0.60349939\n",
      " 0.62563587 0.64700881 0.6438163  0.63954755 0.63866034 0.6410529\n",
      " 0.63812221 0.64287094 0.66622188 0.67318135 0.66533466 0.66867985\n",
      " 0.67013432 0.67464303 0.74954643 0.7506736  0.8122253  0.81624677\n",
      " 0.81862479 0.79606653 0.81266888 0.82430435 0.86683928 0.88965936\n",
      " 0.86133427 0.87157347 0.8699009  0.89906227 0.92029705 0.94240441\n",
      " 0.94887664 0.96778433 1.         0.92633297 0.88146363 0.89629886\n",
      " 0.90807975 0.89564439 0.90509819 0.88422703 0.87382788 0.90924332\n",
      " 0.91338851 0.92735107 0.94953122 0.95883959 0.96647528 0.93571402\n",
      " 0.93185978 0.91477013 0.86248325 0.86648297 0.86066521 0.87862748\n",
      " 0.88313625 0.84866611 0.8245225  0.82139547 0.82197725 0.79077963\n",
      " 0.72164458 0.69561774 0.65929842 0.61676264 0.57076997 0.52300799\n",
      " 0.47462916 0.42658922 0.3797636  0.33493078 0.29270944 0.25350773\n",
      " 0.2175194  0.18479456 0.15536423 0.12936264 0.10705949 0.08876099\n",
      " 0.07463712 0.0645918  0.05825317 0.05506635 0.05441422 0.05571004\n",
      " 0.05844336 0.0621905  0.06660728 0.07141645]\n",
      "28 day output [[0.07639582]]\n",
      "29 day input [0.60315762 0.58958771 0.55867371 0.57827948 0.58782787 0.58230827\n",
      " 0.61872733 0.61626203 0.62227614 0.60177589 0.60349939 0.62563587\n",
      " 0.64700881 0.6438163  0.63954755 0.63866034 0.6410529  0.63812221\n",
      " 0.64287094 0.66622188 0.67318135 0.66533466 0.66867985 0.67013432\n",
      " 0.67464303 0.74954643 0.7506736  0.8122253  0.81624677 0.81862479\n",
      " 0.79606653 0.81266888 0.82430435 0.86683928 0.88965936 0.86133427\n",
      " 0.87157347 0.8699009  0.89906227 0.92029705 0.94240441 0.94887664\n",
      " 0.96778433 1.         0.92633297 0.88146363 0.89629886 0.90807975\n",
      " 0.89564439 0.90509819 0.88422703 0.87382788 0.90924332 0.91338851\n",
      " 0.92735107 0.94953122 0.95883959 0.96647528 0.93571402 0.93185978\n",
      " 0.91477013 0.86248325 0.86648297 0.86066521 0.87862748 0.88313625\n",
      " 0.84866611 0.8245225  0.82139547 0.82197725 0.79077963 0.72164458\n",
      " 0.69561774 0.65929842 0.61676264 0.57076997 0.52300799 0.47462916\n",
      " 0.42658922 0.3797636  0.33493078 0.29270944 0.25350773 0.2175194\n",
      " 0.18479456 0.15536423 0.12936264 0.10705949 0.08876099 0.07463712\n",
      " 0.0645918  0.05825317 0.05506635 0.05441422 0.05571004 0.05844336\n",
      " 0.0621905  0.06660728 0.07141645 0.07639582]\n",
      "29 day output [[0.08136894]]\n",
      "[[0.7216445803642273], [0.6956177353858948], [0.6592984199523926], [0.616762638092041], [0.5707699656486511], [0.5230079889297485], [0.47462916374206543], [0.4265892207622528], [0.3797636032104492], [0.33493077754974365], [0.29270943999290466], [0.25350773334503174], [0.21751940250396729], [0.1847945600748062], [0.1553642302751541], [0.12936264276504517], [0.10705949366092682], [0.08876098692417145], [0.07463711500167847], [0.06459179520606995], [0.058253172785043716], [0.05506635084748268], [0.05441422387957573], [0.055710043758153915], [0.058443356305360794], [0.062190502882003784], [0.0666072815656662], [0.0714164525270462], [0.07639582455158234], [0.08136893808841705]]\n"
     ]
    }
   ],
   "source": [
    "#demonstrate prediction for next 30 days\n",
    "from numpy import array\n",
    "\n",
    "lst_output=[]\n",
    "n_steps=100\n",
    "i=0\n",
    "while(i<30):\n",
    "    if(len(temp_input)>100):\n",
    "        #print(temp_input)\n",
    "        x_input=np.array(temp_input[1:])\n",
    "        print(\"{} day input {}\".format(i,x_input))\n",
    "        x_input=x_input.reshape(1,-1)\n",
    "        x_input=x_input.reshape((1, n_steps,1))\n",
    "        #print(x_input)\n",
    "        yhat=model.predict(x_input,verbose=0)\n",
    "        print(\"{} day output {}\".format(i,yhat))\n",
    "        temp_input.extend(yhat[0].tolist())\n",
    "        temp_input=temp_input[1:]\n",
    "        #print(temp_input)\n",
    "        lst_output.extend(yhat.tolist())\n",
    "        i=i+1\n",
    "    else:\n",
    "        x_input = x_input.reshape((1, n_steps,1))\n",
    "        yhat=model.predict(x_input,verbose=0)\n",
    "        print(yhat[0])\n",
    "        temp_input.extend(yhat[0].tolist())\n",
    "        print(len(temp_input))\n",
    "        lst_output.extend(yhat.tolist())\n",
    "        i=i+1\n",
    "                                \n",
    "print(lst_output)"
   ]
  },
  {
   "cell_type": "code",
   "execution_count": 102,
   "id": "7d75aee9",
   "metadata": {},
   "outputs": [],
   "source": [
    "day_new=np.arange(1,101)\n",
    "day_pred=np.arange(101,131)"
   ]
  },
  {
   "cell_type": "code",
   "execution_count": 103,
   "id": "b0318b3d",
   "metadata": {},
   "outputs": [],
   "source": [
    "import matplotlib.pyplot as plt"
   ]
  },
  {
   "cell_type": "code",
   "execution_count": 104,
   "id": "95854916",
   "metadata": {},
   "outputs": [],
   "source": [
    "df6=df5.tolist()\n",
    "df6.extend(lst_output)"
   ]
  },
  {
   "cell_type": "code",
   "execution_count": 105,
   "id": "ee94eeab",
   "metadata": {},
   "outputs": [
    {
     "data": {
      "text/plain": [
       "[<matplotlib.lines.Line2D at 0x2a9683c2150>]"
      ]
     },
     "execution_count": 105,
     "metadata": {},
     "output_type": "execute_result"
    },
    {
     "data": {
      "image/png": "[encoded data removed]",
      "text/plain": [
       "<Figure size 640x480 with 1 Axes>"
      ]
     },
     "metadata": {},
     "output_type": "display_data"
    }
   ],
   "source": [
    "plt.plot(day_new,scaler.inverse_transform(df5[1660:]))\n",
    "plt.plot(day_pred,scaler.inverse_transform(lst_output))"
   ]
  },
  {
   "cell_type": "code",
   "execution_count": 106,
   "id": "7bef0b96",
   "metadata": {},
   "outputs": [
    {
     "data": {
      "text/plain": [
       "[<matplotlib.lines.Line2D at 0x2a96965a010>]"
      ]
     },
     "execution_count": 106,
     "metadata": {},
     "output_type": "execute_result"
    },
    {
     "data": {
      "image/png": "[encoded data removed]",
      "text/plain": [
       "<Figure size 640x480 with 1 Axes>"
      ]
     },
     "metadata": {},
     "output_type": "display_data"
    }
   ],
   "source": [
    "df6=df1.tolist()\n",
    "df6.extend(lst_output)\n",
    "plt.plot(df6[1500:])"
   ]
  },
  {
   "cell_type": "code",
   "execution_count": 107,
   "id": "0e015497",
   "metadata": {},
   "outputs": [
    {
     "data": {
      "image/png": "[encoded data removed]",
      "text/plain": [
       "<Figure size 640x480 with 1 Axes>"
      ]
     },
     "metadata": {},
     "output_type": "display_data"
    }
   ],
   "source": [
    "plt.plot(df2[1500:])\n",
    "plt.plot(df4[1500:])\n",
    "plt.plot(df6[1500:])\n",
    "plt.legend([\"Apple Inc\",\"Amazon.com Inc\",\"NVIDIA Corp\"]);\n",
    "plt.show()"
   ]
  },
  {
   "cell_type": "code",
   "execution_count": null,
   "id": "d9898e34",
   "metadata": {},
   "outputs": [],
   "source": []
  }
 ],
 "metadata": {
  "kernelspec": {
   "display_name": "Python 3 (ipykernel)",
   "language": "python",
   "name": "python3"
  },
  "language_info": {
   "codemirror_mode": {
    "name": "ipython",
    "version": 3
   },
   "file_extension": ".py",
   "mimetype": "text/x-python",
   "name": "python",
   "nbconvert_exporter": "python",
   "pygments_lexer": "ipython3",
   "version": "3.11.5"
  }
 },
 "nbformat": 4,
 "nbformat_minor": 5
}
